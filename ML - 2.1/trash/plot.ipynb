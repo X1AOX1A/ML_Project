{
 "cells": [
  {
   "cell_type": "markdown",
   "metadata": {},
   "source": [
    "# 数据准备\n",
    "\n",
    "## 数据导入"
   ]
  },
  {
   "cell_type": "code",
   "execution_count": 1,
   "metadata": {
    "ExecuteTime": {
     "end_time": "2020-02-04T14:01:12.796135Z",
     "start_time": "2020-02-04T14:01:11.015180Z"
    },
    "scrolled": false
   },
   "outputs": [
    {
     "data": {
      "text/html": [
       "<div>\n",
       "<style scoped>\n",
       "    .dataframe tbody tr th:only-of-type {\n",
       "        vertical-align: middle;\n",
       "    }\n",
       "\n",
       "    .dataframe tbody tr th {\n",
       "        vertical-align: top;\n",
       "    }\n",
       "\n",
       "    .dataframe thead th {\n",
       "        text-align: right;\n",
       "    }\n",
       "</style>\n",
       "<table border=\"1\" class=\"dataframe\">\n",
       "  <thead>\n",
       "    <tr style=\"text-align: right;\">\n",
       "      <th></th>\n",
       "      <th>wind_speed</th>\n",
       "      <th>wind_direction</th>\n",
       "      <th>wind_power</th>\n",
       "    </tr>\n",
       "  </thead>\n",
       "  <tbody>\n",
       "    <tr>\n",
       "      <th>count</th>\n",
       "      <td>18087.000000</td>\n",
       "      <td>18087.000000</td>\n",
       "      <td>17988.000000</td>\n",
       "    </tr>\n",
       "    <tr>\n",
       "      <th>mean</th>\n",
       "      <td>5.970865</td>\n",
       "      <td>173.388069</td>\n",
       "      <td>2955.932230</td>\n",
       "    </tr>\n",
       "    <tr>\n",
       "      <th>std</th>\n",
       "      <td>2.990040</td>\n",
       "      <td>96.471277</td>\n",
       "      <td>3555.648744</td>\n",
       "    </tr>\n",
       "    <tr>\n",
       "      <th>min</th>\n",
       "      <td>0.350000</td>\n",
       "      <td>0.000000</td>\n",
       "      <td>0.000000</td>\n",
       "    </tr>\n",
       "    <tr>\n",
       "      <th>25%</th>\n",
       "      <td>3.960000</td>\n",
       "      <td>91.000000</td>\n",
       "      <td>83.712500</td>\n",
       "    </tr>\n",
       "    <tr>\n",
       "      <th>50%</th>\n",
       "      <td>5.450000</td>\n",
       "      <td>167.000000</td>\n",
       "      <td>1515.720000</td>\n",
       "    </tr>\n",
       "    <tr>\n",
       "      <th>75%</th>\n",
       "      <td>7.440000</td>\n",
       "      <td>256.000000</td>\n",
       "      <td>4588.337500</td>\n",
       "    </tr>\n",
       "    <tr>\n",
       "      <th>max</th>\n",
       "      <td>27.130000</td>\n",
       "      <td>359.000000</td>\n",
       "      <td>16163.410000</td>\n",
       "    </tr>\n",
       "  </tbody>\n",
       "</table>\n",
       "</div>"
      ],
      "text/plain": [
       "         wind_speed  wind_direction    wind_power\n",
       "count  18087.000000    18087.000000  17988.000000\n",
       "mean       5.970865      173.388069   2955.932230\n",
       "std        2.990040       96.471277   3555.648744\n",
       "min        0.350000        0.000000      0.000000\n",
       "25%        3.960000       91.000000     83.712500\n",
       "50%        5.450000      167.000000   1515.720000\n",
       "75%        7.440000      256.000000   4588.337500\n",
       "max       27.130000      359.000000  16163.410000"
      ]
     },
     "metadata": {},
     "output_type": "display_data"
    }
   ],
   "source": [
    "from ngboost import NGBRegressor\n",
    "from sklearn.model_selection import train_test_split\n",
    "from sklearn.metrics import mean_squared_error\n",
    "\n",
    "import pandas as pd\n",
    "data = pd.read_csv('/Users/apple/Documents/ML_Project/ML - 2.1/Data/国际西班牙数据.csv')\n",
    "display(data.describe())"
   ]
  },
  {
   "cell_type": "code",
   "execution_count": 2,
   "metadata": {
    "ExecuteTime": {
     "end_time": "2020-02-04T14:01:12.960084Z",
     "start_time": "2020-02-04T14:01:12.799393Z"
    }
   },
   "outputs": [],
   "source": [
    "data['Date'] = data['Date'].apply(lambda data: data.split('/'))\n",
    "data['Year'] = data['Date'].apply(lambda data: int(data[2].split(' ')[0]))\n",
    "data['Month'] = data['Date'].apply(lambda data: int(data[1]))\n",
    "data['Day'] = data['Date'].apply(lambda data: int(data[0]))\n",
    "data['Hour'] = data['Date'].apply(lambda data: int(data[2].split(' ')[1].split(':')[0]))\n",
    "data.drop('Date', inplace=True, axis=1)"
   ]
  },
  {
   "cell_type": "code",
   "execution_count": 3,
   "metadata": {
    "ExecuteTime": {
     "end_time": "2020-02-04T14:01:12.982399Z",
     "start_time": "2020-02-04T14:01:12.963701Z"
    }
   },
   "outputs": [],
   "source": [
    "X = data[['wind_direction','wind_speed']]\n",
    "Y = data['wind_power']\n",
    "X_train = X.iloc[6426:10427]\n",
    "Y_train = Y.iloc[6426:10427]\n",
    "X_test = X.iloc[14389:17872]\n",
    "Y_test = Y.iloc[14389:17872]\n",
    "\n",
    "# X_train, X_test, Y_train, Y_test = train_test_split(X, Y, test_size=0.2, random_state=520)\n",
    "\n",
    "from sklearn.preprocessing import MinMaxScaler\n",
    "X_Scaler = MinMaxScaler()\n",
    "X_train = X_Scaler.fit_transform(X_train)\n",
    "X_test = X_Scaler.transform(X_test)\n",
    "\n",
    "Y_Scaler = MinMaxScaler()\n",
    "Y_train = Y_Scaler.fit_transform(Y_train.values.reshape(-1,1)).reshape(len(Y_train),)\n",
    "Y_test = Y_Scaler.transform(Y_test.values.reshape(-1,1)).reshape(len(Y_test),)"
   ]
  },
  {
   "cell_type": "markdown",
   "metadata": {},
   "source": [
    "# 数据分析"
   ]
  },
  {
   "cell_type": "code",
   "execution_count": 4,
   "metadata": {
    "ExecuteTime": {
     "end_time": "2020-02-04T14:01:13.027151Z",
     "start_time": "2020-02-04T14:01:12.986837Z"
    }
   },
   "outputs": [],
   "source": [
    "data['ws_sin(wd)'] = data['wind_speed']*np.sin(data['wind_direction'])\n",
    "data['ws_cos(wd)'] = data['wind_speed']*np.cos(data['wind_direction'])\n",
    "\n",
    "from sklearn.preprocessing import MinMaxScaler\n",
    "data['ws_wd'] = data['wind_speed']*data['wind_direction']\n",
    "data['ws(Scaled)_wd(Scaled)'] = \\\n",
    "MinMaxScaler().fit_transform(data['wind_speed'].values.reshape(-1,1))*\\\n",
    "MinMaxScaler().fit_transform(data['wind_direction'].values.reshape(-1,1))\n",
    "\n",
    "data['wind_power(Scaled)'] = \\\n",
    "MinMaxScaler().fit_transform(data['wind_power'].values.reshape(-1,1))\n",
    "\n",
    "df = data[6426:10427]"
   ]
  },
  {
   "cell_type": "markdown",
   "metadata": {},
   "source": [
    "## 可视化\n"
   ]
  },
  {
   "cell_type": "code",
   "execution_count": 239,
   "metadata": {
    "ExecuteTime": {
     "end_time": "2020-02-04T09:29:44.560004Z",
     "start_time": "2020-02-04T09:29:44.491240Z"
    },
    "code_folding": [
     4
    ]
   },
   "outputs": [],
   "source": [
    "import matplotlib.pyplot as plt\n",
    "%config InlineBackend.figure_format='retina'\n",
    "from sklearn.preprocessing import MinMaxScaler\n",
    "\n",
    "def plot_module(month, day, figsize=(14,16), save_fig=False):\n",
    "    fig, axes = plt.subplots(4,2,figsize=figsize)\n",
    "    fig.suptitle('Year\\Month\\Day: 2017\\{}\\{}'.format(month,day), fontsize=15)\n",
    "    df[(df['Month']==month) & (df['Day']==day)]['wind_speed'].plot(ax=axes[0,0],title='wind_speed', ylim=[0,7])\n",
    "    df[(df['Month']==month) & (df['Day']==day)]['wind_direction'].plot(ax=axes[1,0],title='wind_direction', ylim=[90,360])\n",
    "    df[(df['Month']==month) & (df['Day']==day)]['wind_power'].plot(ax=axes[2,0], title='wind_power', ylim=[0,5000])\n",
    "    df[(df['Month']==month) & (df['Day']==day)]['ws_sin(wd)'].plot(ax=axes[0,1],title='wind_speed*sin(wind_direction)')\n",
    "    df[(df['Month']==month) & (df['Day']==day)]['ws_cos(wd)'].plot(ax=axes[1,1],title='wind_speed * cos(wind_direction)')\n",
    "    df[(df['Month']==month) & (df['Day']==day)]['ws_wd'].plot(ax=axes[2,1],title='wind_speed*wind_direction')\n",
    "    # df[(df['Month']==month) & (df['Day']==day)]['ws(Scaled)_wd(Scaled)'].plot(ax=axes[3,1],title='wind_speed*wind_direction(Both Scaled)')\n",
    "\n",
    "\n",
    "    pd.Series(MinMaxScaler().fit_transform\\\n",
    "    (df[(df['Month']==month) & (df['Day']==day)]\\\n",
    "     ['wind_speed'].values.reshape(-1,1)).reshape(24,)).plot(ax=axes[3,0])\n",
    "\n",
    "    pd.Series(MinMaxScaler().fit_transform\\\n",
    "    (df[(df['Month']==month) & (df['Day']==day)]\\\n",
    "     ['wind_direction'].values.reshape(-1,1)).reshape(24,)).plot(ax=axes[3,0],title='wind_speed & wind_direction')\n",
    "    if save_fig:\n",
    "        plt.savefig('/Users/apple/Documents/ML_Project/ML - 2.1/figure/2017\\{}\\{}.png'.format(month,day))\n",
    "    plt.close()"
   ]
  },
  {
   "cell_type": "code",
   "execution_count": 240,
   "metadata": {
    "ExecuteTime": {
     "end_time": "2020-02-04T09:29:56.799507Z",
     "start_time": "2020-02-04T09:29:50.811782Z"
    },
    "code_folding": []
   },
   "outputs": [
    {
     "data": {
      "application/vnd.jupyter.widget-view+json": {
       "model_id": "ac03654e000e47ae9c3637537d0cc8de",
       "version_major": 2,
       "version_minor": 0
      },
      "text/plain": [
       "HBox(children=(FloatProgress(value=0.0, max=10.0), HTML(value='')))"
      ]
     },
     "metadata": {},
     "output_type": "display_data"
    },
    {
     "name": "stdout",
     "output_type": "stream",
     "text": [
      "\n"
     ]
    }
   ],
   "source": [
    "from tqdm.notebook import tqdm as tqdm\n",
    "for day in tqdm(np.arange(1,11)):\n",
    "    plot_module(month=10, day=day, figsize=(14,16), save_fig=True)"
   ]
  },
  {
   "cell_type": "code",
   "execution_count": 268,
   "metadata": {
    "ExecuteTime": {
     "end_time": "2020-02-04T09:55:52.358608Z",
     "start_time": "2020-02-04T09:55:52.289988Z"
    },
    "code_folding": [
     4
    ]
   },
   "outputs": [],
   "source": [
    "import matplotlib.pyplot as plt\n",
    "%config InlineBackend.figure_format='retina'\n",
    "from sklearn.preprocessing import MinMaxScaler\n",
    "\n",
    "def plot_module2(month, day, figsize=(14,14), save_fig=False, close_fig=True):\n",
    "    fig, axes = plt.subplots(3,2,figsize=figsize)\n",
    "    fig.suptitle('Year\\Month\\Day: 2017\\{}\\{}'.format(month,day), fontsize=15)\n",
    "    df[(df['Month']==month) & (df['Day']==day)]['wind_speed'].plot(ax=axes[0,0],title='wind_speed', ylim=[0,7])\n",
    "    df[(df['Month']==month) & (df['Day']==day)]['wind_direction'].plot(ax=axes[1,0],title='wind_direction', ylim=[90,360])\n",
    "    df[(df['Month']==month) & (df['Day']==day)]['wind_power'].plot(ax=axes[2,0], title='wind_power', ylim=[0,5000])\n",
    "    df[(df['Month']==month) & (df['Day']==day)]['wind_power(Scaled)'].plot(ax=axes[1,1],title='wind_power(Scaled)')\n",
    "    df[(df['Month']==month) & (df['Day']==day)]['ws_wd'].plot(ax=axes[2,1],title='wind_speed * wind_direction')\n",
    "    \n",
    "    pd.Series(MinMaxScaler().fit_transform\\\n",
    "              (df[(df['Month']==month) & (df['Day']==day)]\\\n",
    "               ['wind_speed'].values.reshape(-1,1)).reshape(24,)).plot(ax=axes[0,1])\n",
    "\n",
    "    pd.Series(MinMaxScaler().fit_transform\\\n",
    "              (df[(df['Month']==month) & (df['Day']==day)]\\\n",
    "               ['wind_direction'].values.reshape(-1,1)).reshape(24,)).plot(ax=axes[0,1],title='wind_speed(Scaled) & wind_direction(Scaled)')\n",
    "    if save_fig:\n",
    "        plt.savefig('/Users/apple/Documents/ML_Project/ML - 2.1/figure2/2017\\{}\\{}.png'.format(month,day))\n",
    "    if close_fig:\n",
    "        plt.close()"
   ]
  },
  {
   "cell_type": "code",
   "execution_count": 269,
   "metadata": {
    "ExecuteTime": {
     "end_time": "2020-02-04T09:56:04.906855Z",
     "start_time": "2020-02-04T09:55:53.614237Z"
    }
   },
   "outputs": [
    {
     "data": {
      "application/vnd.jupyter.widget-view+json": {
       "model_id": "b53d83bc81c54dd7b6eb54b356d2b9ec",
       "version_major": 2,
       "version_minor": 0
      },
      "text/plain": [
       "HBox(children=(FloatProgress(value=0.0, max=10.0), HTML(value='')))"
      ]
     },
     "metadata": {},
     "output_type": "display_data"
    },
    {
     "name": "stdout",
     "output_type": "stream",
     "text": [
      "\n"
     ]
    }
   ],
   "source": [
    "from tqdm.notebook import tqdm as tqdm\n",
    "for day in tqdm(np.arange(1,11)):\n",
    "    plot_module2(month=10, day=day, figsize=(14,16), save_fig=True, close_fig=True)"
   ]
  },
  {
   "cell_type": "code",
   "execution_count": 10,
   "metadata": {
    "ExecuteTime": {
     "end_time": "2020-02-04T14:03:19.241554Z",
     "start_time": "2020-02-04T14:03:19.206886Z"
    },
    "code_folding": [
     4
    ]
   },
   "outputs": [],
   "source": [
    "import matplotlib.pyplot as plt\n",
    "%config InlineBackend.figure_format='retina'\n",
    "from sklearn.preprocessing import MinMaxScaler\n",
    "\n",
    "def plot_module3(year,month, day, data, figsize=(14,14), save_fig=False, close_fig=True):\n",
    "    df = data\n",
    "    fig, axes = plt.subplots(3,2,figsize=figsize)\n",
    "    fig.suptitle('Year\\Month\\Day: {}\\{}\\{}'.format(year,month,day), fontsize=15)\n",
    "    df[(df['Year']==year) & (df['Month']==month) & (df['Day']==day)]['wind_speed'].plot(ax=axes[0,0],title='wind_speed', ylim=[0,7])\n",
    "    df[(df['Year']==year) & (df['Month']==month) & (df['Day']==day)]['wind_direction'].plot(ax=axes[1,0],title='wind_direction', ylim=[90,360])\n",
    "    df[(df['Year']==year) & (df['Month']==month) & (df['Day']==day)]['wind_power'].plot(ax=axes[2,0], title='wind_power', ylim=[0,5000])\n",
    "    df[(df['Year']==year) & (df['Month']==month) & (df['Day']==day)]['wind_power(Scaled)'].plot(ax=axes[1,1],title='wind_power(Scaled)')\n",
    "    df[(df['Year']==year) & (df['Month']==month) & (df['Day']==day)]['ws_wd'].plot(ax=axes[2,1],title='wind_speed * wind_direction')\n",
    "    \n",
    "    pd.Series(MinMaxScaler().fit_transform\\\n",
    "              (df[(df['Year']==year) & (df['Month']==month) & (df['Day']==day)]\\\n",
    "               ['wind_speed'].values.reshape(-1,1)).reshape(24,)).plot(ax=axes[0,1])\n",
    "\n",
    "    pd.Series(MinMaxScaler().fit_transform\\\n",
    "              (df[(df['Year']==year) & (df['Month']==month) & (df['Day']==day)]\\\n",
    "               ['wind_direction'].values.reshape(-1,1)).reshape(24,)).plot(ax=axes[0,1],title='wind_speed(Scaled) & wind_direction(Scaled)')\n",
    "    if save_fig:\n",
    "        plt.savefig('/Users/apple/Documents/ML_Project/ML - 2.1/figure3/{}\\{}\\{}.png'.format(year,month,day))\n",
    "    if close_fig:\n",
    "        plt.close()"
   ]
  },
  {
   "cell_type": "code",
   "execution_count": 11,
   "metadata": {
    "ExecuteTime": {
     "end_time": "2020-02-04T14:03:27.989239Z",
     "start_time": "2020-02-04T14:03:20.106128Z"
    }
   },
   "outputs": [
    {
     "data": {
      "application/vnd.jupyter.widget-view+json": {
       "model_id": "1a29122fc49e42a88d1a5d6bdfc8336b",
       "version_major": 2,
       "version_minor": 0
      },
      "text/plain": [
       "HBox(children=(FloatProgress(value=0.0, max=12.0), HTML(value='')))"
      ]
     },
     "metadata": {},
     "output_type": "display_data"
    },
    {
     "name": "stdout",
     "output_type": "stream",
     "text": [
      "\n"
     ]
    }
   ],
   "source": [
    "from tqdm.notebook import tqdm as tqdm\n",
    "for month in tqdm(np.arange(1,13)):\n",
    "    plot_module3(year=2018, month=month, day=1, data=data, figsize=(14,16), save_fig=True, close_fig=True)"
   ]
  },
  {
   "cell_type": "code",
   "execution_count": null,
   "metadata": {},
   "outputs": [],
   "source": []
  }
 ],
 "metadata": {
  "kernelspec": {
   "display_name": "Python 3",
   "language": "python",
   "name": "python3"
  },
  "language_info": {
   "codemirror_mode": {
    "name": "ipython",
    "version": 3
   },
   "file_extension": ".py",
   "mimetype": "text/x-python",
   "name": "python",
   "nbconvert_exporter": "python",
   "pygments_lexer": "ipython3",
   "version": "3.7.3"
  },
  "notify_time": "0",
  "toc": {
   "base_numbering": 1,
   "nav_menu": {},
   "number_sections": true,
   "sideBar": true,
   "skip_h1_title": false,
   "title_cell": "Table of Contents",
   "title_sidebar": "Contents",
   "toc_cell": false,
   "toc_position": {
    "height": "calc(100% - 180px)",
    "left": "10px",
    "top": "150px",
    "width": "222.60870361328125px"
   },
   "toc_section_display": true,
   "toc_window_display": true
  },
  "varInspector": {
   "cols": {
    "lenName": 16,
    "lenType": 16,
    "lenVar": 40
   },
   "kernels_config": {
    "python": {
     "delete_cmd_postfix": "",
     "delete_cmd_prefix": "del ",
     "library": "var_list.py",
     "varRefreshCmd": "print(var_dic_list())"
    },
    "r": {
     "delete_cmd_postfix": ") ",
     "delete_cmd_prefix": "rm(",
     "library": "var_list.r",
     "varRefreshCmd": "cat(var_dic_list()) "
    }
   },
   "types_to_exclude": [
    "module",
    "function",
    "builtin_function_or_method",
    "instance",
    "_Feature"
   ],
   "window_display": false
  }
 },
 "nbformat": 4,
 "nbformat_minor": 2
}
