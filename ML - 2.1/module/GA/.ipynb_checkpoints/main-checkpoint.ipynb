{
 "cells": [
  {
   "cell_type": "code",
   "execution_count": null,
   "metadata": {
    "ExecuteTime": {
     "start_time": "2020-02-14T14:55:02.692Z"
    },
    "code_folding": [
     37
    ]
   },
   "outputs": [
    {
     "name": "stderr",
     "output_type": "stream",
     "text": [
      "/Users/apple/anaconda3/lib/python3.7/site-packages/statsmodels/tools/_testing.py:19: FutureWarning: pandas.util.testing is deprecated. Use the functions in the public API at pandas.testing instead.\n",
      "  import pandas.util.testing as tm\n"
     ]
    },
    {
     "name": "stdout",
     "output_type": "stream",
     "text": [
      "get_data(hour_num=0, transform='sin+cos', drop_time=True, scale=True)\n",
      "\n",
      "Input space:  Index(['wind_speed', 'sin(wd)', 'cos(wd)'], dtype='object') \n",
      "\n",
      "种群规模: 20\n",
      "最大进化代数: 100\n",
      "Running...\n"
     ]
    }
   ],
   "source": [
    "# -*- coding: utf-8 -*-\n",
    "import numpy as np\n",
    "import geatpy as ea # import geatpy\n",
    "from MyProblem import MyProblem # 导入自定义问题接口\n",
    "%config InlineBackend.figure_format='retina'\n",
    "\n",
    "if __name__ == '__main__':\n",
    "    \"\"\"===============================实例化问题对象===========================\"\"\"\n",
    "    PoolType = 'Process' # 设置采用多进程，若修改为: PoolType = 'Thread'，则表示用多线程\n",
    "    problem = MyProblem(PoolType) # 生成问题对象\n",
    "    \"\"\"=================================种群设置===============================\"\"\"\n",
    "    Encoding = 'RI'       # 编码方式\n",
    "    \n",
    "    NIND = 20             # 种群规模\n",
    "    \n",
    "    print('种群规模:', NIND)\n",
    "    Field = ea.crtfld(Encoding, problem.varTypes, problem.ranges, problem.borders) # 创建区域描述器\n",
    "    population = ea.Population(Encoding, Field, NIND) # 实例化种群对象（此时种群还没被初始化，仅仅是完成种群对象的实例化）\n",
    "    \"\"\"===============================算法参数设置=============================\"\"\"\n",
    "    myAlgorithm = ea.soea_SEGA_templet(problem, population) # 实例化一个算法模板对象\n",
    "    \n",
    "    myAlgorithm.MAXGEN = 100 # 最大进化代数\n",
    "    \n",
    "    print('最大进化代数:', myAlgorithm.MAXGEN)\n",
    "    myAlgorithm.trappedValue = 1e-6 # “进化停滞”判断阈值\n",
    "    myAlgorithm.maxTrappedCount = 10 # 进化停滞计数器最大上限值，如果连续maxTrappedCount代被判定进化陷入停滞，则终止进化\n",
    "    \"\"\"==========================调用算法模板进行种群进化=======================\"\"\"\n",
    "    print('Running...')\n",
    "    [population, obj_trace, var_trace] = myAlgorithm.run() # 执行算法模板\n",
    "    print('Saving...')\n",
    "    population.save() # 把最后一代种群的信息保存到文件中\n",
    "    problem.pool.close() # 及时关闭问题类中的池，否则在采用多进程运算后内存得不到释放\n",
    "    # 输出结果\n",
    "    best_gen = np.argmin(problem.maxormins * obj_trace[:, 1]) # 记录最优种群个体是在哪一代\n",
    "    best_ObjV = obj_trace[best_gen, 1]\n",
    "    print('最优的目标函数值为：%s'%(best_ObjV))\n",
    "    print('最优的控制变量值为：')\n",
    "    for i in range(var_trace.shape[1]):\n",
    "        print(var_trace[best_gen, i])\n",
    "    print('有效进化代数：%s'%(obj_trace.shape[0]))\n",
    "    print('最优的一代是第 %s 代'%(best_gen + 1))\n",
    "    print('评价次数：%s'%(myAlgorithm.evalsNum))\n",
    "    print('时间已过 %s 秒'%(myAlgorithm.passTime))\n",
    "    \"\"\"=================================检验结果===============================\"\"\"\n",
    "    print('\\nTesting...\\n')\n",
    "    problem.test(n_readout = int(var_trace[best_gen, 0]), n_components = int(var_trace[best_gen, 1]))"
   ]
  }
 ],
 "metadata": {
  "kernelspec": {
   "display_name": "Python 3",
   "language": "python",
   "name": "python3"
  },
  "language_info": {
   "codemirror_mode": {
    "name": "ipython",
    "version": 3
   },
   "file_extension": ".py",
   "mimetype": "text/x-python",
   "name": "python",
   "nbconvert_exporter": "python",
   "pygments_lexer": "ipython3",
   "version": "3.7.3"
  },
  "notify_time": "0",
  "toc": {
   "base_numbering": 1,
   "nav_menu": {},
   "number_sections": true,
   "sideBar": true,
   "skip_h1_title": false,
   "title_cell": "Table of Contents",
   "title_sidebar": "Contents",
   "toc_cell": false,
   "toc_position": {},
   "toc_section_display": true,
   "toc_window_display": false
  },
  "varInspector": {
   "cols": {
    "lenName": 16,
    "lenType": 16,
    "lenVar": 40
   },
   "kernels_config": {
    "python": {
     "delete_cmd_postfix": "",
     "delete_cmd_prefix": "del ",
     "library": "var_list.py",
     "varRefreshCmd": "print(var_dic_list())"
    },
    "r": {
     "delete_cmd_postfix": ") ",
     "delete_cmd_prefix": "rm(",
     "library": "var_list.r",
     "varRefreshCmd": "cat(var_dic_list()) "
    }
   },
   "types_to_exclude": [
    "module",
    "function",
    "builtin_function_or_method",
    "instance",
    "_Feature"
   ],
   "window_display": false
  }
 },
 "nbformat": 4,
 "nbformat_minor": 2
}
