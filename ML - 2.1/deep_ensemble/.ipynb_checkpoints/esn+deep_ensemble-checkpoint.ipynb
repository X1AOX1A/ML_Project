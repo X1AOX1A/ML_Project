{
 "cells": [
  {
   "cell_type": "code",
   "execution_count": 1,
   "metadata": {
    "ExecuteTime": {
     "end_time": "2020-03-21T06:31:00.196078Z",
     "start_time": "2020-03-21T06:30:58.274584Z"
    }
   },
   "outputs": [
    {
     "name": "stderr",
     "output_type": "stream",
     "text": [
      "/Users/apple/anaconda3/lib/python3.7/site-packages/statsmodels/tools/_testing.py:19: FutureWarning: pandas.util.testing is deprecated. Use the functions in the public API at pandas.testing instead.\n",
      "  import pandas.util.testing as tm\n"
     ]
    }
   ],
   "source": [
    "import numpy as np\n",
    "import sys\n",
    "sys.path.append('/Users/apple/Documents/ML_Project/ML - 2.1/module')\n",
    "from utils import get_data, get_data2\n",
    "from simple_esn.simple_esn import SimpleESN\n",
    "from sklearn.utils import check_random_state\n",
    "\n",
    "class DataLoader_Spain():\n",
    "\n",
    "    def __init__(self, args, esn_param=None, box_cox=False):\n",
    "\n",
    "        X_train, X_test, Y_train, Y_test = get_data(\n",
    "            hour_num=1, transform='sin+cos',\n",
    "            train_index=[6426,8427],\n",
    "            test_index=[14389,15390],\n",
    "            return_y_scaler=False, box_cox=box_cox)\n",
    "        \n",
    "        if esn_param is not None:\n",
    "            ESN = SimpleESN(\n",
    "                n_readout=esn_param['n_readout'],\n",
    "                n_components=esn_param['n_components'],\n",
    "                damping=esn_param['damping'],\n",
    "                weight_scaling=esn_param['weight_scaling'], \n",
    "                discard_steps=esn_param['discard_steps'], \n",
    "                random_state=check_random_state(esn_param['random_state']))\n",
    "            ESN.fit(X_train)\n",
    "            X_train = ESN.transform(X_train)\n",
    "            X_test = ESN.transform(X_test)\n",
    "\n",
    "        self.xs = np.array(X_train, dtype=np.float32)\n",
    "        self.ys = np.array(Y_train, dtype=np.float32).reshape(len(Y_train), 1)\n",
    "        self.test_xs = np.array(X_test, dtype=np.float32)\n",
    "        self.test_ys = np.array(Y_test, dtype=np.float32).reshape(len(Y_test), 1)\n",
    "\n",
    "        # Standardize input features\n",
    "        self.input_mean = np.mean(self.xs, 0)\n",
    "        self.input_std = np.std(self.xs, 0)\n",
    "        # self.xs = (self.xs - self.input_mean)/self.input_std\n",
    "\n",
    "        # Target mean and std\n",
    "        self.target_mean = np.mean(self.ys, 0)[0]\n",
    "        self.target_std = np.std(self.ys, 0)[0]\n",
    "\n",
    "        self.batch_size = args.batch_size\n",
    "\n",
    "    def next_batch(self):\n",
    "\n",
    "        indices = np.random.choice(np.arange(len(self.xs)), size=self.batch_size)\n",
    "        x = self.xs[indices, :]\n",
    "        y = self.ys[indices, :]\n",
    "\n",
    "        return x, y\n",
    "\n",
    "    def get_data(self):\n",
    "\n",
    "        return self.xs, self.ys\n",
    "\n",
    "    def get_test_data(self):\n",
    "\n",
    "        return self.test_xs, self.test_ys"
   ]
  },
  {
   "cell_type": "code",
   "execution_count": 2,
   "metadata": {
    "ExecuteTime": {
     "end_time": "2020-03-21T06:31:49.916699Z",
     "start_time": "2020-03-21T06:31:49.632217Z"
    }
   },
   "outputs": [
    {
     "ename": "TypeError",
     "evalue": "__init__() missing 1 required positional argument: 'args'",
     "output_type": "error",
     "traceback": [
      "\u001b[0;31m---------------------------------------------------------------------------\u001b[0m",
      "\u001b[0;31mTypeError\u001b[0m                                 Traceback (most recent call last)",
      "\u001b[0;32m<ipython-input-2-52da39eedd47>\u001b[0m in \u001b[0;36m<module>\u001b[0;34m\u001b[0m\n\u001b[0;32m----> 1\u001b[0;31m \u001b[0mDataLoader_Spain\u001b[0m\u001b[0;34m(\u001b[0m\u001b[0;34m)\u001b[0m\u001b[0;34m.\u001b[0m\u001b[0mget_data\u001b[0m\u001b[0;34m(\u001b[0m\u001b[0;34m)\u001b[0m\u001b[0;34m\u001b[0m\u001b[0;34m\u001b[0m\u001b[0m\n\u001b[0m",
      "\u001b[0;31mTypeError\u001b[0m: __init__() missing 1 required positional argument: 'args'"
     ]
    }
   ],
   "source": [
    "DataLoader_Spain().get_data()"
   ]
  },
  {
   "cell_type": "code",
   "execution_count": null,
   "metadata": {},
   "outputs": [],
   "source": []
  }
 ],
 "metadata": {
  "kernelspec": {
   "display_name": "Python 3",
   "language": "python",
   "name": "python3"
  },
  "language_info": {
   "codemirror_mode": {
    "name": "ipython",
    "version": 3
   },
   "file_extension": ".py",
   "mimetype": "text/x-python",
   "name": "python",
   "nbconvert_exporter": "python",
   "pygments_lexer": "ipython3",
   "version": "3.7.3"
  },
  "toc": {
   "base_numbering": 1,
   "nav_menu": {},
   "number_sections": true,
   "sideBar": true,
   "skip_h1_title": false,
   "title_cell": "Table of Contents",
   "title_sidebar": "Contents",
   "toc_cell": false,
   "toc_position": {},
   "toc_section_display": true,
   "toc_window_display": false
  },
  "varInspector": {
   "cols": {
    "lenName": 16,
    "lenType": 16,
    "lenVar": 40
   },
   "kernels_config": {
    "python": {
     "delete_cmd_postfix": "",
     "delete_cmd_prefix": "del ",
     "library": "var_list.py",
     "varRefreshCmd": "print(var_dic_list())"
    },
    "r": {
     "delete_cmd_postfix": ") ",
     "delete_cmd_prefix": "rm(",
     "library": "var_list.r",
     "varRefreshCmd": "cat(var_dic_list()) "
    }
   },
   "types_to_exclude": [
    "module",
    "function",
    "builtin_function_or_method",
    "instance",
    "_Feature"
   ],
   "window_display": false
  }
 },
 "nbformat": 4,
 "nbformat_minor": 4
}
