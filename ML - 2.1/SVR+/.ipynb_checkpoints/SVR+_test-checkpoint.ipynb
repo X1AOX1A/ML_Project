{
 "cells": [
  {
   "cell_type": "code",
   "execution_count": 1,
   "metadata": {
    "ExecuteTime": {
     "end_time": "2020-03-10T12:49:59.250479Z",
     "start_time": "2020-03-10T12:49:55.870982Z"
    }
   },
   "outputs": [
    {
     "name": "stderr",
     "output_type": "stream",
     "text": [
      "/Users/apple/anaconda3/lib/python3.7/site-packages/statsmodels/tools/_testing.py:19: FutureWarning: pandas.util.testing is deprecated. Use the functions in the public API at pandas.testing instead.\n",
      "  import pandas.util.testing as tm\n"
     ]
    }
   ],
   "source": [
    "import numpy as np\n",
    "import sys\n",
    "sys.path.append('/Users/apple/Documents/ML_Project/ML - 2.1/module')\n",
    "from utils import get_data, svr_plus\n",
    "%config InlineBackend.figure_format='retina'"
   ]
  },
  {
   "cell_type": "code",
   "execution_count": null,
   "metadata": {
    "ExecuteTime": {
     "start_time": "2020-03-10T12:53:59.599Z"
    }
   },
   "outputs": [
    {
     "name": "stdout",
     "output_type": "stream",
     "text": [
      "get_data(hour_num=1, transform='sin+cos', drop_time=True, scale=True)\n",
      "\n",
      "Input space: Index(['wind_speed', 'sin(wd)', 'cos(wd)', 'wind_speed-1', 'sin(wd)-1',\n",
      "       'cos(wd)-1', 'wind_power-1'],\n",
      "      dtype='object')\n",
      "train index: [6426, 10427] train_len: 4000\n",
      "test index: [14389, 15390] test_len: 1000\n",
      "\n",
      " Training...  2020-03-10 20:53:59.847850\n"
     ]
    }
   ],
   "source": [
    "X_train, X_test, Y_train, Y_test ,Y_scaler= get_data(\n",
    "    hour_num=1, transform='sin+cos',\n",
    "    train_index=[6426,10427],\n",
    "    test_index=[14389,15390],\n",
    "    return_y_scaler=True)\n",
    "\n",
    "X_train = np.array(X_train)\n",
    "X_test = np.array(X_test)\n",
    "Y_train = np.array(Y_train).reshape(-1, 1)\n",
    "Y_test = np.array(Y_test).reshape(-1, 1)\n",
    "X_star = Y_train\n",
    "Parameters = {'C': 10,\n",
    "              'gamma_corSpace': 10,\n",
    "              'gamma_rbf': 1,\n",
    "              'gamma_rbf_corSpace': 10,\n",
    "              'epsilon': 0.1,\n",
    "              'tol': 0.0001}\n",
    "\n",
    "Y_preds = svr_plus(X_train, X_test, Y_train, Y_test, \n",
    "                   X_star, Parameters, \n",
    "                   Y_scaler=Y_scaler,return_y_pred=True)\n",
    "Y_preds.to_csv('result/svr_plus_pred_of_data1.csv')"
   ]
  },
  {
   "cell_type": "code",
   "execution_count": null,
   "metadata": {},
   "outputs": [],
   "source": []
  }
 ],
 "metadata": {
  "kernelspec": {
   "display_name": "Python 3",
   "language": "python",
   "name": "python3"
  },
  "language_info": {
   "codemirror_mode": {
    "name": "ipython",
    "version": 3
   },
   "file_extension": ".py",
   "mimetype": "text/x-python",
   "name": "python",
   "nbconvert_exporter": "python",
   "pygments_lexer": "ipython3",
   "version": "3.7.3"
  },
  "toc": {
   "base_numbering": 1,
   "nav_menu": {},
   "number_sections": true,
   "sideBar": true,
   "skip_h1_title": false,
   "title_cell": "Table of Contents",
   "title_sidebar": "Contents",
   "toc_cell": false,
   "toc_position": {},
   "toc_section_display": true,
   "toc_window_display": false
  },
  "varInspector": {
   "cols": {
    "lenName": 16,
    "lenType": 16,
    "lenVar": 40
   },
   "kernels_config": {
    "python": {
     "delete_cmd_postfix": "",
     "delete_cmd_prefix": "del ",
     "library": "var_list.py",
     "varRefreshCmd": "print(var_dic_list())"
    },
    "r": {
     "delete_cmd_postfix": ") ",
     "delete_cmd_prefix": "rm(",
     "library": "var_list.r",
     "varRefreshCmd": "cat(var_dic_list()) "
    }
   },
   "types_to_exclude": [
    "module",
    "function",
    "builtin_function_or_method",
    "instance",
    "_Feature"
   ],
   "window_display": false
  }
 },
 "nbformat": 4,
 "nbformat_minor": 4
}
