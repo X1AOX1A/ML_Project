{
 "cells": [
  {
   "cell_type": "markdown",
   "metadata": {},
   "source": [
    "# 数据准备\n",
    "\n",
    "## 连续区间"
   ]
  },
  {
   "cell_type": "code",
   "execution_count": 6,
   "metadata": {
    "ExecuteTime": {
     "end_time": "2020-02-07T07:11:28.674575Z",
     "start_time": "2020-02-07T07:11:28.670453Z"
    }
   },
   "outputs": [],
   "source": [
    "import numpy as np\n",
    "import pandas as pd\n",
    "from utils import *\n",
    "from ngboost.learners import *"
   ]
  },
  {
   "cell_type": "markdown",
   "metadata": {},
   "source": [
    "输出连续区间"
   ]
  },
  {
   "cell_type": "code",
   "execution_count": 2,
   "metadata": {
    "ExecuteTime": {
     "end_time": "2020-02-07T07:09:16.263074Z",
     "start_time": "2020-02-07T07:09:16.113602Z"
    },
    "code_folding": [],
    "hide_input": true,
    "scrolled": false
   },
   "outputs": [
    {
     "name": "stdout",
     "output_type": "stream",
     "text": [
      "Continue: [ 0 , 975 ] len: 975 \tNan: [ 976 , 976 ] len: 1\n",
      "Continue: [ 977 , 2216 ] len: 1239 \tNan: [ 2217 , 2221 ] len: 5\n",
      "Continue: [ 2222 , 3498 ] len: 1276 \tNan: [ 3499 , 3560 ] len: 62\n",
      "Continue: [ 3561 , 3572 ] len: 11 \tNan: [ 3573 , 3589 ] len: 17\n",
      "Continue: [ 3590 , 4314 ] len: 724 \tNan: [ 4315 , 4401 ] len: 87\n",
      "Continue: [ 4402 , 6255 ] len: 1853 \tNan: [ 6256 , 6273 ] len: 18\n",
      "Continue: [ 6274 , 6375 ] len: 101 \tNan: [ 6376 , 6376 ] len: 1\n",
      "Continue: [ 6377 , 6417 ] len: 40 \tNan: [ 6418 , 6425 ] len: 8\n",
      "Continue: [ 6426 , 10427 ] len: 4001 \tNan: [ 10428 , 10447 ] len: 20\n",
      "Continue: [ 10448 , 13432 ] len: 2984 \tNan: [ 13433 , 13434 ] len: 2\n",
      "Continue: [ 13435 , 13976 ] len: 541 \tNan: [ 13977 , 13985 ] len: 9\n",
      "Continue: [ 13986 , 14000 ] len: 14 \tNan: [ 14001 , 14009 ] len: 9\n",
      "Continue: [ 14010 , 14024 ] len: 14 \tNan: [ 14025 , 14033 ] len: 9\n",
      "Continue: [ 14034 , 14048 ] len: 14 \tNan: [ 14049 , 14057 ] len: 9\n",
      "Continue: [ 14058 , 14072 ] len: 14 \tNan: [ 14073 , 14077 ] len: 5\n",
      "Continue: [ 14078 , 14387 ] len: 309 \tNan: [ 14388 , 14388 ] len: 1\n",
      "Continue: [ 14389 , 17872 ] len: 3483 \tNan: [ 17873 , 17887 ] len: 15\n",
      "Continue: [ 17888 , 18265 ] len: 377\n"
     ]
    }
   ],
   "source": [
    "path = '/Users/apple/Documents/ML_Project/ML - 2.1/Data/国际西班牙数据.csv'\n",
    "data = load_data(path, add_time=True, describe=False)\n",
    "\n",
    "index = data[data['wind_speed'].isna() |\n",
    "    data['wind_direction'].isna() |\n",
    "    data['wind_power'].isna()]['wind_power'].index.tolist()\n",
    "a = index[0]\n",
    "b=-1\n",
    "for i,x in enumerate(index):\n",
    "    if i<len(index)-1:\n",
    "        if index[i+1] > index[i]+1:\n",
    "            print('Continue: [',b+1, ',', a-1,']','len:',a-b-2,\n",
    "                '\\tNan: [',a, ',',index[i], '] len:',index[i]-a+1)     \n",
    "            a = index[i+1]\n",
    "            b = index[i]\n",
    "    else: \n",
    "        a=index[-15]\n",
    "        print('Continue: [',b+1, ',', a-1,']','len:',a-b-2,\n",
    "                '\\tNan: [',a, ',',index[i], '] len:',index[i]-a+1)     \n",
    "        a=len(data)\n",
    "        b=index[i]\n",
    "        print('Continue: [',b+1, ',', a-1,']','len:',a-b-2)\n",
    "\n",
    "del data"
   ]
  },
  {
   "cell_type": "markdown",
   "metadata": {},
   "source": [
    "## 可视化"
   ]
  },
  {
   "cell_type": "code",
   "execution_count": 3,
   "metadata": {
    "ExecuteTime": {
     "end_time": "2020-02-07T07:09:18.922154Z",
     "start_time": "2020-02-07T07:09:18.159335Z"
    },
    "code_folding": [],
    "scrolled": true
   },
   "outputs": [
    {
     "data": {
      "application/vnd.jupyter.widget-view+json": {
       "model_id": "6402e271389d4eae821c731ae446fc48",
       "version_major": 2,
       "version_minor": 0
      },
      "text/plain": [
       "HBox(children=(FloatProgress(value=0.0, max=1.0), HTML(value='')))"
      ]
     },
     "metadata": {},
     "output_type": "display_data"
    },
    {
     "name": "stdout",
     "output_type": "stream",
     "text": [
      "\n"
     ]
    },
    {
     "data": {
      "application/vnd.jupyter.widget-view+json": {
       "model_id": "001d804395f5498f8d2163b04b238451",
       "version_major": 2,
       "version_minor": 0
      },
      "text/plain": [
       "HBox(children=(FloatProgress(value=0.0, max=1.0), HTML(value='')))"
      ]
     },
     "metadata": {},
     "output_type": "display_data"
    },
    {
     "name": "stdout",
     "output_type": "stream",
     "text": [
      "\n"
     ]
    }
   ],
   "source": [
    "%config InlineBackend.figure_format='retina'\n",
    "from tqdm.notebook import tqdm as tqdm\n",
    "for day in tqdm(np.arange(1,2)):\n",
    "    plot_module1(year=2017, month=10, day=day, figsize=(8,13), \n",
    "                 save_fig=False, close_fig=True)\n",
    "for day in tqdm(np.arange(1,2)):\n",
    "    plot_module2(year=2017, month=10, day=day, figsize=(8,10), \n",
    "                 save_fig=False, close_fig=True)"
   ]
  },
  {
   "cell_type": "markdown",
   "metadata": {},
   "source": [
    "# 模型预测"
   ]
  },
  {
   "cell_type": "code",
   "execution_count": 1,
   "metadata": {
    "ExecuteTime": {
     "end_time": "2020-02-07T07:43:42.772177Z",
     "start_time": "2020-02-07T07:43:41.191216Z"
    }
   },
   "outputs": [],
   "source": [
    "import numpy as np\n",
    "import pandas as pd\n",
    "from utils import *\n",
    "from ngboost.learners import *"
   ]
  },
  {
   "cell_type": "markdown",
   "metadata": {},
   "source": [
    "1. linear_svr_learner（0.0245-->0.0189）\n",
    "2. esn_linear_svr_learner（0.0275-->0.0216）\n",
    "3. default_linear_learner（0.0312-->0.0249）\n",
    "4. default_tree_learner（0.04029-->0.0408）\n",
    "5. esn_kernel_ridge_learner（0.0442-->0.0248）\n",
    "6. kernel_ridge_learner（0.0478-->0.03400）\n",
    "7. esn_ridge_learner（0.0482-->0.04177）"
   ]
  },
  {
   "cell_type": "markdown",
   "metadata": {},
   "source": [
    "## default_linear_learner"
   ]
  },
  {
   "cell_type": "code",
   "execution_count": 2,
   "metadata": {
    "ExecuteTime": {
     "end_time": "2020-02-07T07:43:55.652174Z",
     "start_time": "2020-02-07T07:43:45.055122Z"
    }
   },
   "outputs": [
    {
     "name": "stdout",
     "output_type": "stream",
     "text": [
      "get_data(hour_num=0, transform='cos', drop_time=True, scale=True)\n",
      "\n",
      "NGBRegressor(Base=Ridge(alpha=0.1, copy_X=True, fit_intercept=True,\n",
      "                        max_iter=None, normalize=False, random_state=None,\n",
      "                        solver='auto', tol=0.001),\n",
      "             Dist=<class 'ngboost.distns.normal.Normal'>,\n",
      "             Score=<class 'ngboost.scores.MLE'>, learning_rate=0.01,\n",
      "             minibatch_frac=1.0, n_estimators=500, natural_gradient=True,\n",
      "             tol=0.0001, verbose=True, verbose_eval=100) \n",
      "\n",
      "[iter 0] loss=0.0535 val_loss=0.0000 scale=0.5000 norm=0.2703\n",
      "[iter 100] loss=-0.2826 val_loss=0.0000 scale=0.1250 norm=0.0631\n",
      "[iter 200] loss=-0.3047 val_loss=0.0000 scale=0.0312 norm=0.0159\n",
      "[iter 300] loss=-0.3060 val_loss=0.0000 scale=0.0078 norm=0.0040\n",
      "[iter 400] loss=-0.3061 val_loss=0.0000 scale=0.0020 norm=0.0010\n",
      "\n",
      "Test MSE 0.02490641682277041\n",
      "Test NLL -0.35658237100203094\n"
     ]
    }
   ],
   "source": [
    "X_train, X_test, Y_train, Y_test = get_data(hour_num=0, transform='cos',\n",
    "                                            drop_time=True, scale=True)\n",
    "model_test(Base=default_linear_learner(alpha=0.1),\n",
    "           X_train=X_train, X_test=X_test,\n",
    "           Y_train=Y_train, Y_test=Y_test,\n",
    "          n_estimators=500, verbose_eval=100)"
   ]
  },
  {
   "cell_type": "markdown",
   "metadata": {},
   "source": [
    "## default_tree_learner"
   ]
  },
  {
   "cell_type": "code",
   "execution_count": 11,
   "metadata": {
    "ExecuteTime": {
     "end_time": "2020-02-07T10:36:44.450072Z",
     "start_time": "2020-02-07T10:36:13.531260Z"
    }
   },
   "outputs": [
    {
     "name": "stdout",
     "output_type": "stream",
     "text": [
      "get_data(hour_num=0, transform='cos', drop_time=True, scale=True)\n",
      "\n",
      "NGBRegressor(Base=DecisionTreeRegressor(criterion='friedman_mse', max_depth=6,\n",
      "                                        max_features=None, max_leaf_nodes=None,\n",
      "                                        min_impurity_decrease=0.0,\n",
      "                                        min_impurity_split=None,\n",
      "                                        min_samples_leaf=1, min_samples_split=2,\n",
      "                                        min_weight_fraction_leaf=0.0,\n",
      "                                        presort=False, random_state=None,\n",
      "                                        splitter='best'),\n",
      "             Dist=<class 'ngboost.distns.normal.Normal'>,\n",
      "             Score=<class 'ngboost.scores.MLE'>, learning_rate=0.01,\n",
      "             minibatch_frac=1.0, n_estimators=1000, natural_gradient=True,\n",
      "             tol=0.0001, verbose=True, verbose_eval=200) \n",
      "\n",
      "[iter 0] loss=0.0535 val_loss=0.0000 scale=0.5000 norm=0.2703\n",
      "[iter 200] loss=-0.2965 val_loss=0.0000 scale=0.0625 norm=0.0284\n",
      "[iter 400] loss=-0.3040 val_loss=0.0000 scale=0.0156 norm=0.0071\n",
      "[iter 600] loss=-0.3042 val_loss=0.0000 scale=0.0002 norm=0.0001\n",
      "[iter 800] loss=-0.3043 val_loss=0.0000 scale=0.0002 norm=0.0001\n",
      "\n",
      "Test MSE 0.04097901157234915\n",
      "Test NLL -0.23518714183597947\n"
     ]
    }
   ],
   "source": [
    "X_train, X_test, Y_train, Y_test = get_data(hour_num=0, transform='cos',\n",
    "                                            drop_time=True, scale=True)\n",
    "model_test(Base=default_tree_learner(depth=6),\n",
    "           X_train=X_train, X_test=X_test,\n",
    "           Y_train=Y_train, Y_test=Y_test,\n",
    "          n_estimators=1000, verbose_eval=200)"
   ]
  },
  {
   "cell_type": "markdown",
   "metadata": {},
   "source": [
    "## linear_svr_learner"
   ]
  },
  {
   "cell_type": "code",
   "execution_count": 4,
   "metadata": {
    "ExecuteTime": {
     "end_time": "2020-02-07T07:47:36.084450Z",
     "start_time": "2020-02-07T07:47:20.273137Z"
    }
   },
   "outputs": [
    {
     "name": "stdout",
     "output_type": "stream",
     "text": [
      "get_data(hour_num=0, transform='cos', drop_time=True, scale=True)\n",
      "\n",
      "NGBRegressor(Base=LinearSVR(C=0.05, dual=True, epsilon=0.0, fit_intercept=True,\n",
      "                            intercept_scaling=1.0, loss='epsilon_insensitive',\n",
      "                            max_iter=1000, random_state=None, tol=0.0001,\n",
      "                            verbose=0),\n",
      "             Dist=<class 'ngboost.distns.normal.Normal'>,\n",
      "             Score=<class 'ngboost.scores.MLE'>, learning_rate=0.01,\n",
      "             minibatch_frac=1.0, n_estimators=500, natural_gradient=True,\n",
      "             tol=0.0001, verbose=True, verbose_eval=100) \n",
      "\n",
      "[iter 0] loss=0.0535 val_loss=0.0000 scale=0.5000 norm=0.2703\n",
      "[iter 100] loss=-0.1027 val_loss=0.0000 scale=0.2500 norm=0.1587\n",
      "[iter 200] loss=-0.1449 val_loss=0.0000 scale=0.0625 norm=0.0397\n",
      "[iter 300] loss=-0.1504 val_loss=0.0000 scale=0.0156 norm=0.0098\n",
      "[iter 400] loss=-0.1509 val_loss=0.0000 scale=0.0078 norm=0.0049\n",
      "\n",
      "Test MSE 0.018950746108482006\n",
      "Test NLL -0.3825329050974052\n"
     ]
    }
   ],
   "source": [
    "X_train, X_test, Y_train, Y_test = get_data(hour_num=0, transform='cos',\n",
    "                                            drop_time=True, scale=True)\n",
    "model_test(Base=linear_svr_learner(epsilon=0.0, \n",
    "                                   C=0.05, \n",
    "                                   max_iter=10000),\n",
    "           X_train=X_train, X_test=X_test,\n",
    "           Y_train=Y_train, Y_test=Y_test,\n",
    "          n_estimators=500, verbose_eval=100)"
   ]
  },
  {
   "cell_type": "code",
   "execution_count": 5,
   "metadata": {
    "ExecuteTime": {
     "end_time": "2020-02-07T07:47:52.021658Z",
     "start_time": "2020-02-07T07:47:36.087978Z"
    }
   },
   "outputs": [
    {
     "name": "stdout",
     "output_type": "stream",
     "text": [
      "get_data(hour_num=0, transform='cos', drop_time=True, scale=True)\n",
      "\n",
      "NGBRegressor(Base=LinearSVR(C=0.05, dual=True, epsilon=0.0, fit_intercept=True,\n",
      "                            intercept_scaling=1.0, loss='epsilon_insensitive',\n",
      "                            max_iter=1000, random_state=None, tol=0.0001,\n",
      "                            verbose=0),\n",
      "             Dist=<class 'ngboost.distns.normal.Normal'>,\n",
      "             Score=<class 'ngboost.scores.MLE'>, learning_rate=0.01,\n",
      "             minibatch_frac=1.0, n_estimators=500, natural_gradient=True,\n",
      "             tol=0.0001, verbose=True, verbose_eval=100) \n",
      "\n",
      "[iter 0] loss=0.0535 val_loss=0.0000 scale=0.5000 norm=0.2703\n",
      "[iter 100] loss=-0.1038 val_loss=0.0000 scale=0.2500 norm=0.1587\n",
      "[iter 200] loss=-0.1454 val_loss=0.0000 scale=0.0625 norm=0.0397\n",
      "[iter 300] loss=-0.1506 val_loss=0.0000 scale=0.0156 norm=0.0098\n",
      "[iter 400] loss=-0.1510 val_loss=0.0000 scale=0.0078 norm=0.0049\n",
      "\n",
      "Test MSE 0.019570084180591786\n",
      "Test NLL -0.379616275691176\n"
     ]
    }
   ],
   "source": [
    "X_train, X_test, Y_train, Y_test = get_data(hour_num=0, transform='cos',\n",
    "                                            drop_time=True, scale=True)\n",
    "model_test(Base=linear_svr_learner(epsilon=0.0, \n",
    "                                   C=0.05, \n",
    "                                   max_iter=10000),\n",
    "           X_train=X_train, X_test=X_test,\n",
    "           Y_train=Y_train, Y_test=Y_test,\n",
    "          n_estimators=500, verbose_eval=100)"
   ]
  },
  {
   "cell_type": "markdown",
   "metadata": {},
   "source": [
    "## kernel_ridge_learner"
   ]
  },
  {
   "cell_type": "code",
   "execution_count": 6,
   "metadata": {
    "ExecuteTime": {
     "end_time": "2020-02-07T08:37:38.885380Z",
     "start_time": "2020-02-07T07:47:52.026164Z"
    },
    "scrolled": true
   },
   "outputs": [
    {
     "name": "stdout",
     "output_type": "stream",
     "text": [
      "get_data(hour_num=0, transform='cos', drop_time=True, scale=True)\n",
      "\n",
      "NGBRegressor(Base=KernelRidge(alpha=0.5, coef0=1, degree=3, gamma=None,\n",
      "                              kernel='poly', kernel_params=None),\n",
      "             Dist=<class 'ngboost.distns.normal.Normal'>,\n",
      "             Score=<class 'ngboost.scores.MLE'>, learning_rate=0.01,\n",
      "             minibatch_frac=1.0, n_estimators=500, natural_gradient=True,\n",
      "             tol=0.0001, verbose=True, verbose_eval=10) \n",
      "\n",
      "[iter 0] loss=0.0535 val_loss=0.0000 scale=1.0000 norm=0.5407\n",
      "[iter 10] loss=-0.0826 val_loss=0.0000 scale=1.0000 norm=0.4713\n",
      "[iter 20] loss=-0.1353 val_loss=0.0000 scale=0.5000 norm=0.2337\n",
      "[iter 30] loss=-0.1700 val_loss=0.0000 scale=0.5000 norm=0.2361\n",
      "[iter 40] loss=-0.2016 val_loss=0.0000 scale=0.5000 norm=0.2404\n",
      "[iter 50] loss=-0.2262 val_loss=0.0000 scale=0.2500 norm=0.1223\n",
      "[iter 60] loss=-0.2395 val_loss=0.0000 scale=0.2500 norm=0.1236\n",
      "[iter 70] loss=-0.2520 val_loss=0.0000 scale=0.2500 norm=0.1248\n",
      "[iter 80] loss=-0.2634 val_loss=0.0000 scale=0.2500 norm=0.1260\n",
      "[iter 90] loss=-0.2737 val_loss=0.0000 scale=0.2500 norm=0.1270\n",
      "[iter 100] loss=-0.2805 val_loss=0.0000 scale=0.1250 norm=0.0638\n",
      "[iter 110] loss=-0.2845 val_loss=0.0000 scale=0.1250 norm=0.0640\n",
      "[iter 120] loss=-0.2882 val_loss=0.0000 scale=0.1250 norm=0.0641\n",
      "[iter 130] loss=-0.2915 val_loss=0.0000 scale=0.1250 norm=0.0642\n",
      "[iter 140] loss=-0.2944 val_loss=0.0000 scale=0.1250 norm=0.0643\n",
      "[iter 150] loss=-0.2964 val_loss=0.0000 scale=0.0625 norm=0.0322\n",
      "[iter 160] loss=-0.2974 val_loss=0.0000 scale=0.0625 norm=0.0322\n",
      "[iter 170] loss=-0.2984 val_loss=0.0000 scale=0.0625 norm=0.0322\n",
      "[iter 180] loss=-0.2993 val_loss=0.0000 scale=0.0625 norm=0.0322\n",
      "[iter 190] loss=-0.3000 val_loss=0.0000 scale=0.0625 norm=0.0322\n",
      "[iter 200] loss=-0.3006 val_loss=0.0000 scale=0.0312 norm=0.0161\n",
      "[iter 210] loss=-0.3009 val_loss=0.0000 scale=0.0312 norm=0.0161\n",
      "[iter 220] loss=-0.3011 val_loss=0.0000 scale=0.0312 norm=0.0161\n",
      "[iter 230] loss=-0.3013 val_loss=0.0000 scale=0.0312 norm=0.0161\n",
      "[iter 240] loss=-0.3015 val_loss=0.0000 scale=0.0312 norm=0.0161\n",
      "[iter 250] loss=-0.3017 val_loss=0.0000 scale=0.0156 norm=0.0080\n",
      "[iter 260] loss=-0.3017 val_loss=0.0000 scale=0.0156 norm=0.0080\n",
      "[iter 270] loss=-0.3018 val_loss=0.0000 scale=0.0156 norm=0.0080\n",
      "[iter 280] loss=-0.3018 val_loss=0.0000 scale=0.0156 norm=0.0080\n",
      "[iter 290] loss=-0.3019 val_loss=0.0000 scale=0.0156 norm=0.0080\n",
      "[iter 300] loss=-0.3019 val_loss=0.0000 scale=0.0078 norm=0.0040\n",
      "[iter 310] loss=-0.3019 val_loss=0.0000 scale=0.0078 norm=0.0040\n",
      "[iter 320] loss=-0.3020 val_loss=0.0000 scale=0.0078 norm=0.0040\n",
      "[iter 330] loss=-0.3020 val_loss=0.0000 scale=0.0078 norm=0.0040\n",
      "[iter 340] loss=-0.3020 val_loss=0.0000 scale=0.0078 norm=0.0040\n",
      "[iter 350] loss=-0.3020 val_loss=0.0000 scale=0.0039 norm=0.0020\n",
      "[iter 360] loss=-0.3020 val_loss=0.0000 scale=0.0039 norm=0.0020\n",
      "[iter 370] loss=-0.3020 val_loss=0.0000 scale=0.0039 norm=0.0020\n",
      "[iter 380] loss=-0.3020 val_loss=0.0000 scale=0.0039 norm=0.0020\n",
      "[iter 390] loss=-0.3020 val_loss=0.0000 scale=0.0039 norm=0.0020\n",
      "[iter 400] loss=-0.3020 val_loss=0.0000 scale=0.0020 norm=0.0010\n",
      "[iter 410] loss=-0.3020 val_loss=0.0000 scale=0.0020 norm=0.0010\n",
      "[iter 420] loss=-0.3020 val_loss=0.0000 scale=0.0020 norm=0.0010\n",
      "[iter 430] loss=-0.3020 val_loss=0.0000 scale=0.0020 norm=0.0010\n",
      "[iter 440] loss=-0.3020 val_loss=0.0000 scale=0.0020 norm=0.0010\n",
      "[iter 450] loss=-0.3020 val_loss=0.0000 scale=0.0010 norm=0.0005\n",
      "[iter 460] loss=-0.3020 val_loss=0.0000 scale=0.0010 norm=0.0005\n",
      "[iter 470] loss=-0.3020 val_loss=0.0000 scale=0.0010 norm=0.0005\n",
      "[iter 480] loss=-0.3020 val_loss=0.0000 scale=0.0010 norm=0.0005\n",
      "[iter 490] loss=-0.3020 val_loss=0.0000 scale=0.0010 norm=0.0005\n",
      "\n",
      "Test MSE 0.03400227460107513\n",
      "Test NLL -0.2843670193791211\n"
     ]
    }
   ],
   "source": [
    "X_train, X_test, Y_train, Y_test = get_data(hour_num=0, transform='cos',\n",
    "                                            drop_time=True, scale=True)\n",
    "model_test(Base=kernel_ridge_learner(alpha=0.5, \n",
    "                                    kernel=\"poly\",\n",
    "                                    degree=3),\n",
    "           X_train=X_train, X_test=X_test,\n",
    "           Y_train=Y_train, Y_test=Y_test,\n",
    "          n_estimators=500, verbose_eval=10)"
   ]
  },
  {
   "cell_type": "markdown",
   "metadata": {},
   "source": [
    "## esn_ridge_learner"
   ]
  },
  {
   "cell_type": "code",
   "execution_count": 7,
   "metadata": {
    "ExecuteTime": {
     "end_time": "2020-02-07T08:46:15.777489Z",
     "start_time": "2020-02-07T08:37:38.891738Z"
    },
    "scrolled": true
   },
   "outputs": [
    {
     "name": "stdout",
     "output_type": "stream",
     "text": [
      "get_data(hour_num=0, transform='cos', drop_time=True, scale=True)\n",
      "\n",
      "NGBRegressor(Base=<ngboost.esn_learners.ESN_Ridge_learner object at 0x1a20ee9a20>,\n",
      "             Dist=<class 'ngboost.distns.normal.Normal'>,\n",
      "             Score=<class 'ngboost.scores.MLE'>, learning_rate=0.01,\n",
      "             minibatch_frac=1.0, n_estimators=500, natural_gradient=True,\n",
      "             tol=0.0001, verbose=True, verbose_eval=10) \n",
      "\n",
      "[iter 0] loss=0.0535 val_loss=0.0000 scale=1.0000 norm=0.5407\n",
      "[iter 10] loss=-0.0792 val_loss=0.0000 scale=0.5000 norm=0.2344\n",
      "[iter 20] loss=-0.1270 val_loss=0.0000 scale=0.5000 norm=0.2306\n",
      "[iter 30] loss=-0.1636 val_loss=0.0000 scale=0.5000 norm=0.2313\n",
      "[iter 40] loss=-0.1962 val_loss=0.0000 scale=0.5000 norm=0.2342\n",
      "[iter 50] loss=-0.2257 val_loss=0.0000 scale=0.5000 norm=0.2383\n",
      "[iter 60] loss=-0.2405 val_loss=0.0000 scale=0.2500 norm=0.1204\n",
      "[iter 70] loss=-0.2531 val_loss=0.0000 scale=0.2500 norm=0.1215\n",
      "[iter 80] loss=-0.2649 val_loss=0.0000 scale=0.2500 norm=0.1225\n",
      "[iter 90] loss=-0.2755 val_loss=0.0000 scale=0.2500 norm=0.1235\n",
      "[iter 100] loss=-0.2849 val_loss=0.0000 scale=0.2500 norm=0.1243\n",
      "[iter 110] loss=-0.2896 val_loss=0.0000 scale=0.1250 norm=0.0624\n",
      "[iter 120] loss=-0.2935 val_loss=0.0000 scale=0.1250 norm=0.0625\n",
      "[iter 130] loss=-0.2971 val_loss=0.0000 scale=0.1250 norm=0.0626\n",
      "[iter 140] loss=-0.3003 val_loss=0.0000 scale=0.1250 norm=0.0627\n",
      "[iter 150] loss=-0.3031 val_loss=0.0000 scale=0.1250 norm=0.0627\n",
      "[iter 160] loss=-0.3051 val_loss=0.0000 scale=0.0625 norm=0.0314\n",
      "[iter 170] loss=-0.3062 val_loss=0.0000 scale=0.0625 norm=0.0314\n",
      "[iter 180] loss=-0.3071 val_loss=0.0000 scale=0.0625 norm=0.0314\n",
      "[iter 190] loss=-0.3080 val_loss=0.0000 scale=0.0625 norm=0.0314\n",
      "[iter 200] loss=-0.3087 val_loss=0.0000 scale=0.0625 norm=0.0313\n",
      "[iter 210] loss=-0.3094 val_loss=0.0000 scale=0.0625 norm=0.0313\n",
      "[iter 220] loss=-0.3097 val_loss=0.0000 scale=0.0312 norm=0.0157\n",
      "[iter 230] loss=-0.3100 val_loss=0.0000 scale=0.0312 norm=0.0156\n",
      "[iter 240] loss=-0.3102 val_loss=0.0000 scale=0.0312 norm=0.0156\n",
      "[iter 250] loss=-0.3104 val_loss=0.0000 scale=0.0312 norm=0.0156\n",
      "[iter 260] loss=-0.3105 val_loss=0.0000 scale=0.0156 norm=0.0078\n",
      "[iter 270] loss=-0.3106 val_loss=0.0000 scale=0.0156 norm=0.0078\n",
      "[iter 280] loss=-0.3107 val_loss=0.0000 scale=0.0156 norm=0.0078\n",
      "[iter 290] loss=-0.3107 val_loss=0.0000 scale=0.0156 norm=0.0078\n",
      "[iter 300] loss=-0.3108 val_loss=0.0000 scale=0.0156 norm=0.0078\n",
      "[iter 310] loss=-0.3108 val_loss=0.0000 scale=0.0156 norm=0.0078\n",
      "[iter 320] loss=-0.3108 val_loss=0.0000 scale=0.0078 norm=0.0039\n",
      "[iter 330] loss=-0.3109 val_loss=0.0000 scale=0.0078 norm=0.0039\n",
      "[iter 340] loss=-0.3109 val_loss=0.0000 scale=0.0078 norm=0.0039\n",
      "[iter 350] loss=-0.3109 val_loss=0.0000 scale=0.0039 norm=0.0019\n",
      "[iter 360] loss=-0.3109 val_loss=0.0000 scale=0.0078 norm=0.0039\n",
      "[iter 370] loss=-0.3109 val_loss=0.0000 scale=0.0078 norm=0.0039\n",
      "[iter 380] loss=-0.3109 val_loss=0.0000 scale=0.0039 norm=0.0019\n",
      "[iter 390] loss=-0.3109 val_loss=0.0000 scale=0.0020 norm=0.0010\n",
      "[iter 400] loss=-0.3109 val_loss=0.0000 scale=0.0039 norm=0.0019\n",
      "[iter 410] loss=-0.3109 val_loss=0.0000 scale=0.0039 norm=0.0019\n",
      "[iter 420] loss=-0.3109 val_loss=0.0000 scale=0.0039 norm=0.0019\n",
      "[iter 430] loss=-0.3109 val_loss=0.0000 scale=0.0039 norm=0.0019\n",
      "[iter 440] loss=-0.3109 val_loss=0.0000 scale=0.0002 norm=0.0001\n",
      "[iter 450] loss=-0.3109 val_loss=0.0000 scale=0.0002 norm=0.0001\n",
      "[iter 460] loss=-0.3109 val_loss=0.0000 scale=0.0002 norm=0.0001\n",
      "[iter 470] loss=-0.3109 val_loss=0.0000 scale=0.0002 norm=0.0001\n",
      "[iter 480] loss=-0.3109 val_loss=0.0000 scale=0.0002 norm=0.0001\n",
      "[iter 490] loss=-0.3109 val_loss=0.0000 scale=0.0020 norm=0.0010\n",
      "\n",
      "Test MSE 0.04177199226430705\n",
      "Test NLL -0.18420984533182072\n"
     ]
    }
   ],
   "source": [
    "X_train, X_test, Y_train, Y_test = get_data(hour_num=0, transform='cos',\n",
    "                                            drop_time=True, scale=True)\n",
    "model_test(Base=esn_ridge_learner(n_readout=1000,\n",
    "                                  n_components=100,\n",
    "                                  alpha=0.01),\n",
    "           X_train=X_train, X_test=X_test,\n",
    "           Y_train=Y_train, Y_test=Y_test,\n",
    "          n_estimators=500, verbose_eval=10)"
   ]
  },
  {
   "cell_type": "markdown",
   "metadata": {},
   "source": [
    "## esn_kernel_ridge_learner"
   ]
  },
  {
   "cell_type": "code",
   "execution_count": 8,
   "metadata": {
    "ExecuteTime": {
     "end_time": "2020-02-07T09:45:25.040278Z",
     "start_time": "2020-02-07T08:46:15.780794Z"
    },
    "scrolled": true
   },
   "outputs": [
    {
     "name": "stdout",
     "output_type": "stream",
     "text": [
      "get_data(hour_num=0, transform='cos', drop_time=True, scale=True)\n",
      "\n",
      "NGBRegressor(Base=<ngboost.esn_learners.ESN_kernel_ridge_learner object at 0x1a20ee9940>,\n",
      "             Dist=<class 'ngboost.distns.normal.Normal'>,\n",
      "             Score=<class 'ngboost.scores.MLE'>, learning_rate=0.01,\n",
      "             minibatch_frac=1.0, n_estimators=500, natural_gradient=True,\n",
      "             tol=0.0001, verbose=True, verbose_eval=5) \n",
      "\n",
      "[iter 0] loss=0.0535 val_loss=0.0000 scale=1.0000 norm=0.5407\n",
      "[iter 5] loss=-0.0264 val_loss=0.0000 scale=1.0000 norm=0.4983\n",
      "[iter 10] loss=-0.0681 val_loss=0.0000 scale=0.5000 norm=0.2423\n",
      "[iter 15] loss=-0.0938 val_loss=0.0000 scale=0.5000 norm=0.2397\n",
      "[iter 20] loss=-0.1173 val_loss=0.0000 scale=0.5000 norm=0.2385\n",
      "[iter 25] loss=-0.1391 val_loss=0.0000 scale=0.5000 norm=0.2383\n",
      "[iter 30] loss=-0.1593 val_loss=0.0000 scale=0.5000 norm=0.2388\n",
      "[iter 35] loss=-0.1783 val_loss=0.0000 scale=0.5000 norm=0.2400\n",
      "[iter 40] loss=-0.1962 val_loss=0.0000 scale=0.5000 norm=0.2416\n",
      "[iter 45] loss=-0.2131 val_loss=0.0000 scale=0.5000 norm=0.2435\n",
      "[iter 50] loss=-0.2258 val_loss=0.0000 scale=0.2500 norm=0.1226\n",
      "[iter 55] loss=-0.2333 val_loss=0.0000 scale=0.2500 norm=0.1231\n",
      "[iter 60] loss=-0.2406 val_loss=0.0000 scale=0.2500 norm=0.1236\n",
      "[iter 65] loss=-0.2475 val_loss=0.0000 scale=0.2500 norm=0.1241\n",
      "[iter 70] loss=-0.2541 val_loss=0.0000 scale=0.2500 norm=0.1246\n",
      "[iter 75] loss=-0.2604 val_loss=0.0000 scale=0.2500 norm=0.1251\n",
      "[iter 80] loss=-0.2663 val_loss=0.0000 scale=0.2500 norm=0.1255\n",
      "[iter 85] loss=-0.2719 val_loss=0.0000 scale=0.2500 norm=0.1259\n",
      "[iter 90] loss=-0.2771 val_loss=0.0000 scale=0.2500 norm=0.1263\n",
      "[iter 95] loss=-0.2813 val_loss=0.0000 scale=0.1250 norm=0.0633\n",
      "[iter 100] loss=-0.2836 val_loss=0.0000 scale=0.1250 norm=0.0634\n",
      "[iter 105] loss=-0.2857 val_loss=0.0000 scale=0.1250 norm=0.0635\n",
      "[iter 110] loss=-0.2878 val_loss=0.0000 scale=0.1250 norm=0.0635\n",
      "[iter 115] loss=-0.2897 val_loss=0.0000 scale=0.1250 norm=0.0636\n",
      "[iter 120] loss=-0.2916 val_loss=0.0000 scale=0.1250 norm=0.0637\n",
      "[iter 125] loss=-0.2933 val_loss=0.0000 scale=0.1250 norm=0.0637\n",
      "[iter 130] loss=-0.2949 val_loss=0.0000 scale=0.1250 norm=0.0637\n",
      "[iter 135] loss=-0.2964 val_loss=0.0000 scale=0.1250 norm=0.0638\n",
      "[iter 140] loss=-0.2978 val_loss=0.0000 scale=0.1250 norm=0.0638\n",
      "[iter 145] loss=-0.2991 val_loss=0.0000 scale=0.1250 norm=0.0638\n",
      "[iter 150] loss=-0.2999 val_loss=0.0000 scale=0.0625 norm=0.0319\n",
      "[iter 155] loss=-0.3004 val_loss=0.0000 scale=0.0625 norm=0.0319\n",
      "[iter 160] loss=-0.3010 val_loss=0.0000 scale=0.0625 norm=0.0319\n",
      "[iter 165] loss=-0.3015 val_loss=0.0000 scale=0.0625 norm=0.0319\n",
      "[iter 170] loss=-0.3019 val_loss=0.0000 scale=0.0625 norm=0.0319\n",
      "[iter 175] loss=-0.3023 val_loss=0.0000 scale=0.0625 norm=0.0319\n",
      "[iter 180] loss=-0.3028 val_loss=0.0000 scale=0.0625 norm=0.0319\n",
      "[iter 185] loss=-0.3031 val_loss=0.0000 scale=0.0625 norm=0.0319\n",
      "[iter 190] loss=-0.3035 val_loss=0.0000 scale=0.0625 norm=0.0319\n",
      "[iter 195] loss=-0.3038 val_loss=0.0000 scale=0.0625 norm=0.0319\n",
      "[iter 200] loss=-0.3040 val_loss=0.0000 scale=0.0312 norm=0.0159\n",
      "[iter 205] loss=-0.3041 val_loss=0.0000 scale=0.0312 norm=0.0159\n",
      "[iter 210] loss=-0.3042 val_loss=0.0000 scale=0.0312 norm=0.0159\n",
      "[iter 215] loss=-0.3044 val_loss=0.0000 scale=0.0312 norm=0.0159\n",
      "[iter 220] loss=-0.3045 val_loss=0.0000 scale=0.0312 norm=0.0159\n",
      "[iter 225] loss=-0.3046 val_loss=0.0000 scale=0.0312 norm=0.0159\n",
      "[iter 230] loss=-0.3047 val_loss=0.0000 scale=0.0312 norm=0.0159\n",
      "[iter 235] loss=-0.3048 val_loss=0.0000 scale=0.0312 norm=0.0159\n",
      "[iter 240] loss=-0.3049 val_loss=0.0000 scale=0.0312 norm=0.0159\n",
      "[iter 245] loss=-0.3050 val_loss=0.0000 scale=0.0156 norm=0.0080\n",
      "[iter 250] loss=-0.3050 val_loss=0.0000 scale=0.0312 norm=0.0159\n",
      "[iter 255] loss=-0.3051 val_loss=0.0000 scale=0.0312 norm=0.0159\n",
      "[iter 260] loss=-0.3051 val_loss=0.0000 scale=0.0156 norm=0.0080\n",
      "[iter 265] loss=-0.3052 val_loss=0.0000 scale=0.0156 norm=0.0080\n",
      "[iter 270] loss=-0.3052 val_loss=0.0000 scale=0.0156 norm=0.0080\n",
      "[iter 275] loss=-0.3052 val_loss=0.0000 scale=0.0156 norm=0.0080\n",
      "[iter 280] loss=-0.3052 val_loss=0.0000 scale=0.0156 norm=0.0080\n",
      "[iter 285] loss=-0.3052 val_loss=0.0000 scale=0.0156 norm=0.0080\n",
      "[iter 290] loss=-0.3053 val_loss=0.0000 scale=0.0078 norm=0.0040\n",
      "[iter 295] loss=-0.3053 val_loss=0.0000 scale=0.0156 norm=0.0080\n",
      "[iter 300] loss=-0.3053 val_loss=0.0000 scale=0.0078 norm=0.0040\n",
      "[iter 305] loss=-0.3053 val_loss=0.0000 scale=0.0078 norm=0.0040\n",
      "[iter 310] loss=-0.3053 val_loss=0.0000 scale=0.0078 norm=0.0040\n",
      "[iter 315] loss=-0.3053 val_loss=0.0000 scale=0.0078 norm=0.0040\n",
      "[iter 320] loss=-0.3053 val_loss=0.0000 scale=0.0156 norm=0.0080\n",
      "[iter 325] loss=-0.3053 val_loss=0.0000 scale=0.0078 norm=0.0040\n",
      "[iter 330] loss=-0.3053 val_loss=0.0000 scale=0.0039 norm=0.0020\n",
      "[iter 335] loss=-0.3053 val_loss=0.0000 scale=0.0078 norm=0.0040\n",
      "[iter 340] loss=-0.3053 val_loss=0.0000 scale=0.0078 norm=0.0040\n",
      "[iter 345] loss=-0.3053 val_loss=0.0000 scale=0.0039 norm=0.0020\n",
      "[iter 350] loss=-0.3053 val_loss=0.0000 scale=0.0078 norm=0.0040\n",
      "[iter 355] loss=-0.3054 val_loss=0.0000 scale=0.0010 norm=0.0005\n",
      "[iter 360] loss=-0.3054 val_loss=0.0000 scale=0.0020 norm=0.0010\n",
      "[iter 365] loss=-0.3054 val_loss=0.0000 scale=0.0078 norm=0.0040\n",
      "[iter 370] loss=-0.3054 val_loss=0.0000 scale=0.0078 norm=0.0040\n",
      "[iter 375] loss=-0.3054 val_loss=0.0000 scale=0.0020 norm=0.0010\n",
      "[iter 380] loss=-0.3054 val_loss=0.0000 scale=0.0020 norm=0.0010\n",
      "[iter 385] loss=-0.3054 val_loss=0.0000 scale=0.0039 norm=0.0020\n",
      "[iter 390] loss=-0.3054 val_loss=0.0000 scale=0.0002 norm=0.0001\n",
      "[iter 395] loss=-0.3054 val_loss=0.0000 scale=0.0020 norm=0.0010\n",
      "[iter 400] loss=-0.3054 val_loss=0.0000 scale=0.0039 norm=0.0020\n",
      "[iter 405] loss=-0.3054 val_loss=0.0000 scale=0.0020 norm=0.0010\n",
      "[iter 410] loss=-0.3054 val_loss=0.0000 scale=0.0039 norm=0.0020\n",
      "[iter 415] loss=-0.3054 val_loss=0.0000 scale=0.0039 norm=0.0020\n",
      "[iter 420] loss=-0.3054 val_loss=0.0000 scale=0.0039 norm=0.0020\n",
      "[iter 425] loss=-0.3054 val_loss=0.0000 scale=0.0002 norm=0.0001\n",
      "[iter 430] loss=-0.3054 val_loss=0.0000 scale=0.0010 norm=0.0005\n",
      "[iter 435] loss=-0.3054 val_loss=0.0000 scale=0.0039 norm=0.0020\n",
      "[iter 440] loss=-0.3054 val_loss=0.0000 scale=0.0002 norm=0.0001\n",
      "[iter 445] loss=-0.3054 val_loss=0.0000 scale=0.0002 norm=0.0001\n",
      "[iter 450] loss=-0.3054 val_loss=0.0000 scale=0.0002 norm=0.0001\n",
      "[iter 455] loss=-0.3054 val_loss=0.0000 scale=0.0002 norm=0.0001\n",
      "[iter 460] loss=-0.3054 val_loss=0.0000 scale=0.0005 norm=0.0002\n",
      "[iter 465] loss=-0.3054 val_loss=0.0000 scale=0.0039 norm=0.0020\n",
      "[iter 470] loss=-0.3054 val_loss=0.0000 scale=0.0010 norm=0.0005\n",
      "[iter 475] loss=-0.3054 val_loss=0.0000 scale=0.0002 norm=0.0001\n",
      "[iter 480] loss=-0.3054 val_loss=0.0000 scale=0.0002 norm=0.0001\n",
      "[iter 485] loss=-0.3054 val_loss=0.0000 scale=0.0039 norm=0.0020\n",
      "[iter 490] loss=-0.3054 val_loss=0.0000 scale=0.0010 norm=0.0005\n",
      "[iter 495] loss=-0.3054 val_loss=0.0000 scale=0.0002 norm=0.0001\n",
      "\n",
      "Test MSE 0.02489454849537756\n",
      "Test NLL -0.35694637833670423\n"
     ]
    }
   ],
   "source": [
    "X_train, X_test, Y_train, Y_test = get_data(hour_num=0, transform='cos',\n",
    "                                            drop_time=True, scale=True)\n",
    "model_test(Base=esn_kernel_ridge_learner(n_readout=1000,\n",
    "                                         n_components=100,\n",
    "                                         alpha=1, \n",
    "                                         kernel='poly',\n",
    "                                         degree=3),\n",
    "           X_train=X_train, X_test=X_test,\n",
    "           Y_train=Y_train, Y_test=Y_test,\n",
    "          n_estimators=500, verbose_eval=5)"
   ]
  },
  {
   "cell_type": "markdown",
   "metadata": {},
   "source": [
    "## esn_linear_svr_learner"
   ]
  },
  {
   "cell_type": "code",
   "execution_count": 9,
   "metadata": {
    "ExecuteTime": {
     "end_time": "2020-02-07T09:54:51.047846Z",
     "start_time": "2020-02-07T09:45:25.044504Z"
    },
    "code_folding": [],
    "scrolled": true
   },
   "outputs": [
    {
     "name": "stdout",
     "output_type": "stream",
     "text": [
      "get_data(hour_num=0, transform='cos', drop_time=True, scale=True)\n",
      "\n",
      "NGBRegressor(Base=<ngboost.esn_learners.ESN_linear_svr_learner object at 0x1a22315e48>,\n",
      "             Dist=<class 'ngboost.distns.normal.Normal'>,\n",
      "             Score=<class 'ngboost.scores.MLE'>, learning_rate=0.01,\n",
      "             minibatch_frac=1.0, n_estimators=500, natural_gradient=True,\n",
      "             tol=0.0001, verbose=True, verbose_eval=10) \n",
      "\n",
      "[iter 0] loss=0.0535 val_loss=0.0000 scale=0.5000 norm=0.2703\n",
      "[iter 10] loss=0.0408 val_loss=0.0000 scale=0.5000 norm=0.2762\n",
      "[iter 20] loss=0.0243 val_loss=0.0000 scale=0.5000 norm=0.2819\n",
      "[iter 30] loss=0.0034 val_loss=0.0000 scale=0.5000 norm=0.2871\n",
      "[iter 40] loss=-0.0210 val_loss=0.0000 scale=0.5000 norm=0.2919\n",
      "[iter 50] loss=-0.0468 val_loss=0.0000 scale=0.5000 norm=0.2970\n",
      "[iter 60] loss=-0.0727 val_loss=0.0000 scale=0.5000 norm=0.3012\n",
      "[iter 70] loss=-0.0874 val_loss=0.0000 scale=0.2500 norm=0.1517\n",
      "[iter 80] loss=-0.1003 val_loss=0.0000 scale=0.2500 norm=0.1527\n",
      "[iter 90] loss=-0.1126 val_loss=0.0000 scale=0.2500 norm=0.1535\n",
      "[iter 100] loss=-0.1240 val_loss=0.0000 scale=0.2500 norm=0.1543\n",
      "[iter 110] loss=-0.1323 val_loss=0.0000 scale=0.1250 norm=0.0774\n",
      "[iter 120] loss=-0.1371 val_loss=0.0000 scale=0.1250 norm=0.0775\n",
      "[iter 130] loss=-0.1415 val_loss=0.0000 scale=0.1250 norm=0.0776\n",
      "[iter 140] loss=-0.1455 val_loss=0.0000 scale=0.1250 norm=0.0777\n",
      "[iter 150] loss=-0.1492 val_loss=0.0000 scale=0.1250 norm=0.0777\n",
      "[iter 160] loss=-0.1525 val_loss=0.0000 scale=0.1250 norm=0.0777\n",
      "[iter 170] loss=-0.1550 val_loss=0.0000 scale=0.0625 norm=0.0388\n",
      "[iter 180] loss=-0.1563 val_loss=0.0000 scale=0.0625 norm=0.0388\n",
      "[iter 190] loss=-0.1575 val_loss=0.0000 scale=0.0625 norm=0.0388\n",
      "[iter 200] loss=-0.1585 val_loss=0.0000 scale=0.0625 norm=0.0388\n",
      "[iter 210] loss=-0.1595 val_loss=0.0000 scale=0.0625 norm=0.0387\n",
      "[iter 220] loss=-0.1603 val_loss=0.0000 scale=0.0312 norm=0.0194\n",
      "[iter 230] loss=-0.1609 val_loss=0.0000 scale=0.0625 norm=0.0387\n",
      "[iter 240] loss=-0.1613 val_loss=0.0000 scale=0.0312 norm=0.0193\n",
      "[iter 250] loss=-0.1616 val_loss=0.0000 scale=0.0312 norm=0.0193\n",
      "[iter 260] loss=-0.1618 val_loss=0.0000 scale=0.0312 norm=0.0193\n",
      "[iter 270] loss=-0.1620 val_loss=0.0000 scale=0.0156 norm=0.0096\n",
      "[iter 280] loss=-0.1622 val_loss=0.0000 scale=0.0156 norm=0.0096\n",
      "[iter 290] loss=-0.1623 val_loss=0.0000 scale=0.0156 norm=0.0096\n",
      "[iter 300] loss=-0.1624 val_loss=0.0000 scale=0.0156 norm=0.0096\n",
      "[iter 310] loss=-0.1625 val_loss=0.0000 scale=0.0156 norm=0.0096\n",
      "[iter 320] loss=-0.1625 val_loss=0.0000 scale=0.0156 norm=0.0096\n",
      "[iter 330] loss=-0.1626 val_loss=0.0000 scale=0.0039 norm=0.0024\n",
      "[iter 340] loss=-0.1626 val_loss=0.0000 scale=0.0156 norm=0.0096\n",
      "[iter 350] loss=-0.1627 val_loss=0.0000 scale=0.0078 norm=0.0048\n",
      "[iter 360] loss=-0.1627 val_loss=0.0000 scale=0.0078 norm=0.0048\n",
      "[iter 370] loss=-0.1627 val_loss=0.0000 scale=0.0039 norm=0.0024\n",
      "[iter 380] loss=-0.1627 val_loss=0.0000 scale=0.0039 norm=0.0024\n",
      "[iter 390] loss=-0.1627 val_loss=0.0000 scale=0.0039 norm=0.0024\n",
      "[iter 400] loss=-0.1627 val_loss=0.0000 scale=0.0039 norm=0.0024\n",
      "[iter 410] loss=-0.1628 val_loss=0.0000 scale=0.0078 norm=0.0048\n",
      "[iter 420] loss=-0.1628 val_loss=0.0000 scale=0.0001 norm=0.0001\n",
      "[iter 430] loss=-0.1628 val_loss=0.0000 scale=0.0001 norm=0.0001\n",
      "[iter 440] loss=-0.1628 val_loss=0.0000 scale=0.0078 norm=0.0048\n",
      "[iter 450] loss=-0.1628 val_loss=0.0000 scale=0.0039 norm=0.0024\n",
      "[iter 460] loss=-0.1628 val_loss=0.0000 scale=0.0001 norm=0.0001\n",
      "[iter 470] loss=-0.1628 val_loss=0.0000 scale=0.0078 norm=0.0048\n",
      "[iter 480] loss=-0.1628 val_loss=0.0000 scale=0.0010 norm=0.0006\n",
      "[iter 490] loss=-0.1628 val_loss=0.0000 scale=0.0001 norm=0.0001\n",
      "\n",
      "Test MSE 0.021686753795170863\n",
      "Test NLL -0.3761593260773982\n"
     ]
    }
   ],
   "source": [
    "X_train, X_test, Y_train, Y_test = get_data(hour_num=0, transform='cos',\n",
    "                                            drop_time=True, scale=True)\n",
    "model_test(Base=esn_linear_svr_learner(n_readout=1000,\n",
    "                                         n_components=100,\n",
    "                                         epsilon=0.0,\n",
    "                                         C=0.02,\n",
    "                                         max_iter=1000),\n",
    "           X_train=X_train, X_test=X_test,\n",
    "           Y_train=Y_train, Y_test=Y_test,\n",
    "          n_estimators=500, verbose_eval=10)"
   ]
  },
  {
   "cell_type": "code",
   "execution_count": null,
   "metadata": {},
   "outputs": [],
   "source": []
  }
 ],
 "metadata": {
  "kernelspec": {
   "display_name": "Python 3",
   "language": "python",
   "name": "python3"
  },
  "language_info": {
   "codemirror_mode": {
    "name": "ipython",
    "version": 3
   },
   "file_extension": ".py",
   "mimetype": "text/x-python",
   "name": "python",
   "nbconvert_exporter": "python",
   "pygments_lexer": "ipython3",
   "version": "3.7.3"
  },
  "notify_time": "0",
  "toc": {
   "base_numbering": 1,
   "nav_menu": {},
   "number_sections": true,
   "sideBar": true,
   "skip_h1_title": false,
   "title_cell": "Table of Contents",
   "title_sidebar": "Contents",
   "toc_cell": false,
   "toc_position": {
    "height": "440.86956787109375px",
    "left": "353px",
    "top": "265.4782409667969px",
    "width": "222.60870361328125px"
   },
   "toc_section_display": true,
   "toc_window_display": true
  },
  "varInspector": {
   "cols": {
    "lenName": 16,
    "lenType": 16,
    "lenVar": 40
   },
   "kernels_config": {
    "python": {
     "delete_cmd_postfix": "",
     "delete_cmd_prefix": "del ",
     "library": "var_list.py",
     "varRefreshCmd": "print(var_dic_list())"
    },
    "r": {
     "delete_cmd_postfix": ") ",
     "delete_cmd_prefix": "rm(",
     "library": "var_list.r",
     "varRefreshCmd": "cat(var_dic_list()) "
    }
   },
   "types_to_exclude": [
    "module",
    "function",
    "builtin_function_or_method",
    "instance",
    "_Feature"
   ],
   "window_display": false
  }
 },
 "nbformat": 4,
 "nbformat_minor": 2
}
