{
 "cells": [
  {
   "cell_type": "code",
   "execution_count": 1,
   "metadata": {
    "ExecuteTime": {
     "end_time": "2020-03-08T16:15:06.490182Z",
     "start_time": "2020-03-08T16:15:05.432193Z"
    }
   },
   "outputs": [],
   "source": [
    "import sys\n",
    "sys.path.append('/Users/apple/Documents/ML_Project/ML - 2.1/SVR+')\n",
    "from SV_Quad import *"
   ]
  },
  {
   "cell_type": "code",
   "execution_count": 31,
   "metadata": {
    "ExecuteTime": {
     "end_time": "2020-03-08T16:30:04.019927Z",
     "start_time": "2020-03-08T16:30:03.994771Z"
    }
   },
   "outputs": [],
   "source": [
    "import datetime\n",
    "import pandas as pd\n",
    "def svr_plus(X_train, X_test, \n",
    "             Y_train, Y_test, \n",
    "             X_star=None, \n",
    "             Parameters={'C': 10,\n",
    "                         'gamma_corSpace': 10,\n",
    "                         'gamma_rbf': 1,\n",
    "                         'gamma_rbf_corSpace': 10,\n",
    "                         'epsilon': 0.1,\n",
    "                         'tol': 0.0001}, \n",
    "             return_y_pred=False, \n",
    "             return_mse=False,\n",
    "             plot_predict=True,             \n",
    "             Y_scaler=None):\n",
    "    print('\\n Training... ', datetime.datetime.now())\n",
    "    K = rbf_kernel(X_train, Y=None, gamma = Parameters['gamma_rbf'])\n",
    "    reg = SVR_Plus_Quad(X_train, X_star, Y_train, K ,Parameters)\n",
    "    Kern = rbf_kernel(X_train, X_test, gamma=Parameters['gamma_rbf'])\n",
    "    \n",
    "    print('\\n Predict... ', datetime.datetime.now())\n",
    "    Y_preds = np.dot(np.transpose((reg['alpha_star'][:, 0] - reg['alpha'][:, 0])[:, None]) , Kern) + reg['bias']\n",
    "    test_MSE = mean_squared_error(Y_test, np.squeeze(Y_preds))\n",
    "    print ('\\n Mean Squared Error: ' + str(test_MSE))\n",
    "    \n",
    "    if plot_predict:\n",
    "        if Y_scaler is not None:\n",
    "            df = pd.concat([pd.Series(Y_scaler.inverse_transform(Y_test).reshape(-1,)), \n",
    "                            pd.Series(Y_scaler.inverse_transform(Y_preds).reshape(-1,))], axis=1)\n",
    "            df.columns = ['test','pred']\n",
    "            df.plot(figsize=(10,4), title='MSE:{}'.\n",
    "                 format(round(test_MSE,4)))\n",
    "        else:\n",
    "            df = pd.concat([pd.Series(Y_test).reshape(-1,), \n",
    "                            pd.Series(Y_preds).reshape(-1,)], axis=1)\n",
    "            df.columns = ['test','pred']\n",
    "            df.plot(figsize=(10,4), title='MSE:{}'.\n",
    "                    format(round(test_MSE,4)))\n",
    "    if (return_y_pred) & (return_mse):\n",
    "        return pd.Series(Y_preds), test_MSE\n",
    "    if return_y_pred:\n",
    "        return y_pred\n",
    "    if return_mse:\n",
    "        return test_MSE"
   ]
  },
  {
   "cell_type": "code",
   "execution_count": 32,
   "metadata": {
    "ExecuteTime": {
     "end_time": "2020-03-08T16:30:05.474079Z",
     "start_time": "2020-03-08T16:30:05.083153Z"
    }
   },
   "outputs": [
    {
     "name": "stdout",
     "output_type": "stream",
     "text": [
      "get_data(hour_num=1, transform='sin+cos', drop_time=True, scale=True)\n",
      "\n",
      "Input space: Index(['wind_speed', 'sin(wd)', 'cos(wd)', 'wind_speed-1', 'sin(wd)-1',\n",
      "       'cos(wd)-1', 'wind_power-1'],\n",
      "      dtype='object')\n",
      "train index: [6426, 6527] train_len: 100\n",
      "test index: [14389, 15390] test_len: 1000\n",
      "\n",
      " Training...  2020-03-09 00:30:05.355759\n",
      "\n",
      " Predict...  2020-03-09 00:30:05.436092\n",
      "\n",
      " Mean Squared Error: 0.37187823496075273\n"
     ]
    },
    {
     "ename": "Exception",
     "evalue": "Data must be 1-dimensional",
     "output_type": "error",
     "traceback": [
      "\u001b[0;31m---------------------------------------------------------------------------\u001b[0m",
      "\u001b[0;31mException\u001b[0m                                 Traceback (most recent call last)",
      "\u001b[0;32m<ipython-input-32-4d0427a52881>\u001b[0m in \u001b[0;36m<module>\u001b[0;34m\u001b[0m\n\u001b[1;32m     20\u001b[0m               'tol': 0.0001}\n\u001b[1;32m     21\u001b[0m \u001b[0;34m\u001b[0m\u001b[0m\n\u001b[0;32m---> 22\u001b[0;31m \u001b[0msvr_plus\u001b[0m\u001b[0;34m(\u001b[0m\u001b[0mX_train\u001b[0m\u001b[0;34m,\u001b[0m \u001b[0mX_test\u001b[0m\u001b[0;34m,\u001b[0m \u001b[0mY_train\u001b[0m\u001b[0;34m,\u001b[0m \u001b[0mY_test\u001b[0m\u001b[0;34m,\u001b[0m \u001b[0mX_star\u001b[0m\u001b[0;34m,\u001b[0m \u001b[0mParameters\u001b[0m\u001b[0;34m)\u001b[0m\u001b[0;34m\u001b[0m\u001b[0;34m\u001b[0m\u001b[0m\n\u001b[0m",
      "\u001b[0;32m<ipython-input-31-a04c8ce43bab>\u001b[0m in \u001b[0;36msvr_plus\u001b[0;34m(X_train, X_test, Y_train, Y_test, X_star, Parameters, return_y_pred, return_mse, plot_predict, Y_scaler)\u001b[0m\n\u001b[1;32m     32\u001b[0m                  format(round(test_MSE,4)))\n\u001b[1;32m     33\u001b[0m         \u001b[0;32melse\u001b[0m\u001b[0;34m:\u001b[0m\u001b[0;34m\u001b[0m\u001b[0;34m\u001b[0m\u001b[0m\n\u001b[0;32m---> 34\u001b[0;31m             df = pd.concat([pd.Series(Y_test).reshape(-1,), \n\u001b[0m\u001b[1;32m     35\u001b[0m                             pd.Series(Y_preds).reshape(-1,)], axis=1)\n\u001b[1;32m     36\u001b[0m             \u001b[0mdf\u001b[0m\u001b[0;34m.\u001b[0m\u001b[0mcolumns\u001b[0m \u001b[0;34m=\u001b[0m \u001b[0;34m[\u001b[0m\u001b[0;34m'test'\u001b[0m\u001b[0;34m,\u001b[0m\u001b[0;34m'pred'\u001b[0m\u001b[0;34m]\u001b[0m\u001b[0;34m\u001b[0m\u001b[0;34m\u001b[0m\u001b[0m\n",
      "\u001b[0;32m~/anaconda3/lib/python3.7/site-packages/pandas/core/series.py\u001b[0m in \u001b[0;36m__init__\u001b[0;34m(self, data, index, dtype, name, copy, fastpath)\u001b[0m\n\u001b[1;32m    303\u001b[0m                     \u001b[0mdata\u001b[0m \u001b[0;34m=\u001b[0m \u001b[0mdata\u001b[0m\u001b[0;34m.\u001b[0m\u001b[0mcopy\u001b[0m\u001b[0;34m(\u001b[0m\u001b[0;34m)\u001b[0m\u001b[0;34m\u001b[0m\u001b[0;34m\u001b[0m\u001b[0m\n\u001b[1;32m    304\u001b[0m             \u001b[0;32melse\u001b[0m\u001b[0;34m:\u001b[0m\u001b[0;34m\u001b[0m\u001b[0;34m\u001b[0m\u001b[0m\n\u001b[0;32m--> 305\u001b[0;31m                 \u001b[0mdata\u001b[0m \u001b[0;34m=\u001b[0m \u001b[0msanitize_array\u001b[0m\u001b[0;34m(\u001b[0m\u001b[0mdata\u001b[0m\u001b[0;34m,\u001b[0m \u001b[0mindex\u001b[0m\u001b[0;34m,\u001b[0m \u001b[0mdtype\u001b[0m\u001b[0;34m,\u001b[0m \u001b[0mcopy\u001b[0m\u001b[0;34m,\u001b[0m \u001b[0mraise_cast_failure\u001b[0m\u001b[0;34m=\u001b[0m\u001b[0;32mTrue\u001b[0m\u001b[0;34m)\u001b[0m\u001b[0;34m\u001b[0m\u001b[0;34m\u001b[0m\u001b[0m\n\u001b[0m\u001b[1;32m    306\u001b[0m \u001b[0;34m\u001b[0m\u001b[0m\n\u001b[1;32m    307\u001b[0m                 \u001b[0mdata\u001b[0m \u001b[0;34m=\u001b[0m \u001b[0mSingleBlockManager\u001b[0m\u001b[0;34m(\u001b[0m\u001b[0mdata\u001b[0m\u001b[0;34m,\u001b[0m \u001b[0mindex\u001b[0m\u001b[0;34m,\u001b[0m \u001b[0mfastpath\u001b[0m\u001b[0;34m=\u001b[0m\u001b[0;32mTrue\u001b[0m\u001b[0;34m)\u001b[0m\u001b[0;34m\u001b[0m\u001b[0;34m\u001b[0m\u001b[0m\n",
      "\u001b[0;32m~/anaconda3/lib/python3.7/site-packages/pandas/core/construction.py\u001b[0m in \u001b[0;36msanitize_array\u001b[0;34m(data, index, dtype, copy, raise_cast_failure)\u001b[0m\n\u001b[1;32m    480\u001b[0m     \u001b[0;32melif\u001b[0m \u001b[0msubarr\u001b[0m\u001b[0;34m.\u001b[0m\u001b[0mndim\u001b[0m \u001b[0;34m>\u001b[0m \u001b[0;36m1\u001b[0m\u001b[0;34m:\u001b[0m\u001b[0;34m\u001b[0m\u001b[0;34m\u001b[0m\u001b[0m\n\u001b[1;32m    481\u001b[0m         \u001b[0;32mif\u001b[0m \u001b[0misinstance\u001b[0m\u001b[0;34m(\u001b[0m\u001b[0mdata\u001b[0m\u001b[0;34m,\u001b[0m \u001b[0mnp\u001b[0m\u001b[0;34m.\u001b[0m\u001b[0mndarray\u001b[0m\u001b[0;34m)\u001b[0m\u001b[0;34m:\u001b[0m\u001b[0;34m\u001b[0m\u001b[0;34m\u001b[0m\u001b[0m\n\u001b[0;32m--> 482\u001b[0;31m             \u001b[0;32mraise\u001b[0m \u001b[0mException\u001b[0m\u001b[0;34m(\u001b[0m\u001b[0;34m\"Data must be 1-dimensional\"\u001b[0m\u001b[0;34m)\u001b[0m\u001b[0;34m\u001b[0m\u001b[0;34m\u001b[0m\u001b[0m\n\u001b[0m\u001b[1;32m    483\u001b[0m         \u001b[0;32melse\u001b[0m\u001b[0;34m:\u001b[0m\u001b[0;34m\u001b[0m\u001b[0;34m\u001b[0m\u001b[0m\n\u001b[1;32m    484\u001b[0m             \u001b[0msubarr\u001b[0m \u001b[0;34m=\u001b[0m \u001b[0mcom\u001b[0m\u001b[0;34m.\u001b[0m\u001b[0masarray_tuplesafe\u001b[0m\u001b[0;34m(\u001b[0m\u001b[0mdata\u001b[0m\u001b[0;34m,\u001b[0m \u001b[0mdtype\u001b[0m\u001b[0;34m=\u001b[0m\u001b[0mdtype\u001b[0m\u001b[0;34m)\u001b[0m\u001b[0;34m\u001b[0m\u001b[0;34m\u001b[0m\u001b[0m\n",
      "\u001b[0;31mException\u001b[0m: Data must be 1-dimensional"
     ]
    }
   ],
   "source": [
    "import numpy as np\n",
    "from utils import get_data, get_data2\n",
    "\n",
    "X_train, X_test, Y_train, Y_test ,Y_scaler= get_data(\n",
    "    hour_num=1, transform='sin+cos',\n",
    "    train_index=[6426,6527],\n",
    "    test_index=[14389,15390],\n",
    "    return_y_scaler=True)\n",
    "\n",
    "X_train = np.array(X_train)\n",
    "X_test = np.array(X_test)\n",
    "Y_train = np.array(Y_train).reshape(-1, 1)\n",
    "Y_test = np.array(Y_test).reshape(-1, 1)\n",
    "X_star = Y_train\n",
    "Parameters = {'C': 10,\n",
    "              'gamma_corSpace': 10,\n",
    "              'gamma_rbf': 1,\n",
    "              'gamma_rbf_corSpace': 10,\n",
    "              'epsilon': 0.1,\n",
    "              'tol': 0.0001}\n",
    "\n",
    "svr_plus(X_train, X_test, Y_train, Y_test, X_star, Parameters)"
   ]
  },
  {
   "cell_type": "code",
   "execution_count": null,
   "metadata": {},
   "outputs": [],
   "source": []
  }
 ],
 "metadata": {
  "kernelspec": {
   "display_name": "Python 3",
   "language": "python",
   "name": "python3"
  },
  "language_info": {
   "codemirror_mode": {
    "name": "ipython",
    "version": 3
   },
   "file_extension": ".py",
   "mimetype": "text/x-python",
   "name": "python",
   "nbconvert_exporter": "python",
   "pygments_lexer": "ipython3",
   "version": "3.7.3"
  },
  "toc": {
   "base_numbering": 1,
   "nav_menu": {},
   "number_sections": true,
   "sideBar": true,
   "skip_h1_title": false,
   "title_cell": "Table of Contents",
   "title_sidebar": "Contents",
   "toc_cell": false,
   "toc_position": {},
   "toc_section_display": true,
   "toc_window_display": false
  },
  "varInspector": {
   "cols": {
    "lenName": 16,
    "lenType": 16,
    "lenVar": 40
   },
   "kernels_config": {
    "python": {
     "delete_cmd_postfix": "",
     "delete_cmd_prefix": "del ",
     "library": "var_list.py",
     "varRefreshCmd": "print(var_dic_list())"
    },
    "r": {
     "delete_cmd_postfix": ") ",
     "delete_cmd_prefix": "rm(",
     "library": "var_list.r",
     "varRefreshCmd": "cat(var_dic_list()) "
    }
   },
   "types_to_exclude": [
    "module",
    "function",
    "builtin_function_or_method",
    "instance",
    "_Feature"
   ],
   "window_display": false
  }
 },
 "nbformat": 4,
 "nbformat_minor": 4
}
