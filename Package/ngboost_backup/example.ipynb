{
 "cells": [
  {
   "cell_type": "code",
   "execution_count": 8,
   "metadata": {
    "ExecuteTime": {
     "end_time": "2020-02-03T12:52:29.420344Z",
     "start_time": "2020-02-03T12:52:26.130426Z"
    }
   },
   "outputs": [
    {
     "name": "stdout",
     "output_type": "stream",
     "text": [
      "[iter 0] loss=3.6594 val_loss=0.0000 scale=0.5000 norm=3.4562\n",
      "[iter 100] loss=3.1330 val_loss=0.0000 scale=1.0000 norm=4.0297\n",
      "[iter 200] loss=2.7430 val_loss=0.0000 scale=1.0000 norm=2.5372\n",
      "[iter 300] loss=2.4292 val_loss=0.0000 scale=1.0000 norm=2.0007\n",
      "[iter 400] loss=2.1887 val_loss=0.0000 scale=1.0000 norm=1.7447\n",
      "Test MSE 13.383481788695786\n",
      "Test NLL 2.793335904600695\n"
     ]
    }
   ],
   "source": [
    "from ngboost import NGBRegressor\n",
    "\n",
    "from sklearn.datasets import load_boston\n",
    "from sklearn.model_selection import train_test_split\n",
    "from sklearn.metrics import mean_squared_error\n",
    "\n",
    "\n",
    "X, Y = load_boston(True)\n",
    "X_train, X_test, Y_train, Y_test = train_test_split(X, Y, test_size=0.2)\n",
    "\n",
    "from ngboost.learners import default_tree_learner\n",
    "ngb = NGBRegressor(Base=default_tree_learner()).fit(X_train, Y_train)\n",
    "Y_preds = ngb.predict(X_test)\n",
    "Y_dists = ngb.pred_dist(X_test)\n",
    "\n",
    "# test Mean Squared Error\n",
    "test_MSE = mean_squared_error(Y_preds, Y_test)\n",
    "print('Test MSE', test_MSE)\n",
    "\n",
    "# test Negative Log Likelihood\n",
    "test_NLL = -Y_dists.logpdf(Y_test.flatten()).mean()\n",
    "print('Test NLL', test_NLL)"
   ]
  },
  {
   "cell_type": "code",
   "execution_count": 2,
   "metadata": {
    "ExecuteTime": {
     "end_time": "2020-02-03T09:40:26.210623Z",
     "start_time": "2020-02-03T09:40:26.116139Z"
    }
   },
   "outputs": [
    {
     "data": {
      "text/plain": [
       "NGBRegressor(Base=<function kerel_ridge_learner at 0x1a1f136f28>,\n",
       "             Dist=<class 'ngboost.distns.normal.Normal'>,\n",
       "             Score=<class 'ngboost.scores.MLE'>, learning_rate=0.01,\n",
       "             minibatch_frac=1.0, n_estimators=500, natural_gradient=True,\n",
       "             tol=0.0001, verbose=True, verbose_eval=100)"
      ]
     },
     "execution_count": 2,
     "metadata": {},
     "output_type": "execute_result"
    }
   ],
   "source": [
    "ngb"
   ]
  },
  {
   "cell_type": "code",
   "execution_count": null,
   "metadata": {},
   "outputs": [],
   "source": []
  }
 ],
 "metadata": {
  "kernelspec": {
   "display_name": "Python 3",
   "language": "python",
   "name": "python3"
  },
  "language_info": {
   "codemirror_mode": {
    "name": "ipython",
    "version": 3
   },
   "file_extension": ".py",
   "mimetype": "text/x-python",
   "name": "python",
   "nbconvert_exporter": "python",
   "pygments_lexer": "ipython3",
   "version": "3.7.3"
  },
  "toc": {
   "base_numbering": 1,
   "nav_menu": {},
   "number_sections": true,
   "sideBar": true,
   "skip_h1_title": false,
   "title_cell": "Table of Contents",
   "title_sidebar": "Contents",
   "toc_cell": false,
   "toc_position": {},
   "toc_section_display": true,
   "toc_window_display": false
  },
  "varInspector": {
   "cols": {
    "lenName": 16,
    "lenType": 16,
    "lenVar": 40
   },
   "kernels_config": {
    "python": {
     "delete_cmd_postfix": "",
     "delete_cmd_prefix": "del ",
     "library": "var_list.py",
     "varRefreshCmd": "print(var_dic_list())"
    },
    "r": {
     "delete_cmd_postfix": ") ",
     "delete_cmd_prefix": "rm(",
     "library": "var_list.r",
     "varRefreshCmd": "cat(var_dic_list()) "
    }
   },
   "types_to_exclude": [
    "module",
    "function",
    "builtin_function_or_method",
    "instance",
    "_Feature"
   ],
   "window_display": false
  }
 },
 "nbformat": 4,
 "nbformat_minor": 2
}
