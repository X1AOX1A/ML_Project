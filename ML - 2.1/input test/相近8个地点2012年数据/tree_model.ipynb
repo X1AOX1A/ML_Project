{
 "cells": [
  {
   "cell_type": "markdown",
   "metadata": {},
   "source": [
    "# 树模型"
   ]
  },
  {
   "cell_type": "code",
   "execution_count": 1,
   "metadata": {
    "ExecuteTime": {
     "end_time": "2020-02-26T17:20:31.962666Z",
     "start_time": "2020-02-26T17:20:29.024797Z"
    },
    "scrolled": false
   },
   "outputs": [
    {
     "name": "stderr",
     "output_type": "stream",
     "text": [
      "/Users/apple/anaconda3/lib/python3.7/site-packages/statsmodels/tools/_testing.py:19: FutureWarning: pandas.util.testing is deprecated. Use the functions in the public API at pandas.testing instead.\n",
      "  import pandas.util.testing as tm\n"
     ]
    }
   ],
   "source": [
    "import sys\n",
    "sys.path.append('/Users/apple/Documents/ML_Project/ML - 2.1/')\n",
    "import numpy as np\n",
    "import pandas as pd\n",
    "from module.utils import *\n",
    "from ngboost.learners import *\n",
    "from tqdm.notebook import tqdm as tqdm\n",
    "from sklearn.metrics.regression import mean_squared_error\n",
    "from sklearn.tree import DecisionTreeRegressor\n",
    "import matplotlib.pyplot as plt\n",
    "import seaborn as sns\n",
    "%config InlineBackend.figure_format='retina'"
   ]
  },
  {
   "cell_type": "code",
   "execution_count": 2,
   "metadata": {
    "ExecuteTime": {
     "end_time": "2020-02-26T17:20:31.979182Z",
     "start_time": "2020-02-26T17:20:31.966226Z"
    },
    "code_folding": [
     0
    ]
   },
   "outputs": [],
   "source": [
    "def tree_model_plot1(best_param):\n",
    "    X_train, X_test, Y_train, Y_test, Y_scaler = \\\n",
    "    get_data(hour_num=int(best_param['hour_num']),\n",
    "             transform=best_param['transform'],\n",
    "             drop_time=bool(best_param['transform']), \n",
    "             scale=True, return_y_scaler=True)\n",
    "    Y_pred = DecisionTreeRegressor(max_depth=best_param['max_depth']).\\\n",
    "        fit(X_train, Y_train).predict(X_test)\n",
    "    mse = mean_squared_error(Y_pred, Y_test)\n",
    "    pd.concat([pd.Series(Y_pred, name='Pred', \n",
    "                         index=Y_test.index), Y_test], axis=1)\\\n",
    "    .plot(title='mse:'+str(round(mse, 8))+\\\n",
    "          '   depth:'+str(best_param['max_depth']),\n",
    "          figsize=(12, 5))"
   ]
  },
  {
   "cell_type": "code",
   "execution_count": 3,
   "metadata": {
    "ExecuteTime": {
     "end_time": "2020-02-26T17:20:32.000799Z",
     "start_time": "2020-02-26T17:20:31.988138Z"
    },
    "code_folding": [
     0
    ]
   },
   "outputs": [],
   "source": [
    "def tree_model_plot2(best_param):\n",
    "    X_train, X_test, Y_train, Y_test, Y_scaler = \\\n",
    "    get_data2(hour_num=int(best_param['hour_num']),\n",
    "             transform=best_param['transform'],\n",
    "             drop_time=bool(best_param['transform']),\n",
    "             drop_else=bool(best_param['drop_else']),\n",
    "             scale=True, return_y_scaler=True)\n",
    "    Y_pred = DecisionTreeRegressor(max_depth=best_param['max_depth']).\\\n",
    "        fit(X_train, Y_train).predict(X_test)\n",
    "    mse = mean_squared_error(Y_pred, Y_test)\n",
    "    pd.concat([pd.Series(Y_pred, name='Pred', \n",
    "                         index=Y_test.index), Y_test], axis=1)\\\n",
    "    .plot(title='mse:'+str(round(mse, 8))+\\\n",
    "          '   depth:'+str(best_param['max_depth']),\n",
    "          figsize=(12, 5))"
   ]
  },
  {
   "cell_type": "code",
   "execution_count": 4,
   "metadata": {
    "ExecuteTime": {
     "end_time": "2020-02-26T17:20:32.020378Z",
     "start_time": "2020-02-26T17:20:32.008578Z"
    },
    "code_folding": [
     0
    ]
   },
   "outputs": [],
   "source": [
    "def tree_heatmap1(mse_df):\n",
    "    f, ax= plt.subplots(figsize=(15,18),nrows=3)\n",
    "    sns.heatmap(mse_df.groupby(['transform','hour_num'])['mse'].mean().unstack(),\n",
    "                ax=ax[0], vmax=0.008, annot=True, fmt='.5f')\n",
    "    sns.heatmap(mse_df.groupby(['transform','max_depth'])['mse'].mean().unstack(),\n",
    "                ax=ax[1], vmax=0.008, annot=True, fmt='.3f')\n",
    "    sns.heatmap(mse_df.groupby(['transform','drop_time'])['mse'].mean().unstack(),\n",
    "            ax=ax[2], vmax=0.008, annot=True, fmt='.5f')"
   ]
  },
  {
   "cell_type": "code",
   "execution_count": 5,
   "metadata": {
    "ExecuteTime": {
     "end_time": "2020-02-26T17:20:32.041217Z",
     "start_time": "2020-02-26T17:20:32.027157Z"
    },
    "code_folding": [
     0
    ]
   },
   "outputs": [],
   "source": [
    "def tree_heatmap2(mse_df):\n",
    "    f, ax= plt.subplots(figsize=(15,24),nrows=4)\n",
    "    sns.heatmap(mse_df.groupby(['transform','hour_num'])['mse'].mean().unstack(),\n",
    "                ax=ax[0], vmax=0.008, annot=True, fmt='.5f')\n",
    "    sns.heatmap(mse_df.groupby(['transform','max_depth'])['mse'].mean().unstack(),\n",
    "                ax=ax[1], vmax=0.008, annot=True, fmt='.3f')\n",
    "    sns.heatmap(mse_df.groupby(['transform','drop_time'])['mse'].mean().unstack(),\n",
    "                ax=ax[2], vmax=0.008, annot=True, fmt='.5f')\n",
    "    sns.heatmap(mse_df.groupby(['transform','drop_else'])['mse'].mean().unstack(),\n",
    "                ax=ax[3], vmax=0.008, annot=True, fmt='.5f')"
   ]
  },
  {
   "cell_type": "code",
   "execution_count": 6,
   "metadata": {
    "ExecuteTime": {
     "end_time": "2020-02-26T17:20:32.062343Z",
     "start_time": "2020-02-26T17:20:32.047864Z"
    },
    "code_folding": [
     0
    ]
   },
   "outputs": [],
   "source": [
    "def tree_grid_search1(param_grid, plot=True, heatmap=True):\n",
    "    mse_df = pd.DataFrame()\n",
    "    for transform in tqdm(param_grid['transform']):\n",
    "        for hour_num in param_grid['hour_num']:\n",
    "            for drop_time in param_grid['drop_time']:\n",
    "                X_train, X_test, Y_train, Y_test = \\\n",
    "                get_data(hour_num=hour_num, transform=transform, \n",
    "                         drop_time=drop_time, scale=True, verbose=False)\n",
    "                for max_depth in param_grid['max_depth']:\n",
    "                    Y_pred = DecisionTreeRegressor(max_depth=max_depth).\\\n",
    "                    fit(X_train, Y_train).predict(X_test)\n",
    "                    mse = mean_squared_error(Y_pred, Y_test)\n",
    "                    new_data = {'transform': transform,\n",
    "                                'hour_num': hour_num,\n",
    "                                'drop_time': drop_time,\n",
    "                                'max_depth': max_depth,\n",
    "                                'mse':mse}\n",
    "                    mse_df = mse_df.append(new_data, ignore_index=True)  \n",
    "    if plot:\n",
    "        tree_model_plot1(dict(mse_df.iloc[mse_df['mse'].idxmin()]))\n",
    "    if heatmap:\n",
    "        tree_heatmap1(mse_df)\n",
    "\n",
    "    mse_df['transform'].replace({None: 'None'}, inplace=True)\n",
    "    print('best_param:\\n', dict(mse_df.iloc[mse_df['mse'].idxmin()]),\n",
    "      '\\n\\nbest_mse:', mse_df['mse'].min())\n",
    "    return mse_df, dict(mse_df.iloc[mse_df['mse'].idxmin()])"
   ]
  },
  {
   "cell_type": "code",
   "execution_count": 7,
   "metadata": {
    "ExecuteTime": {
     "end_time": "2020-02-26T17:20:32.087619Z",
     "start_time": "2020-02-26T17:20:32.069384Z"
    },
    "code_folding": [
     0
    ]
   },
   "outputs": [],
   "source": [
    "def tree_grid_search2(param_grid, plot=True, heatmap=True):\n",
    "    mse_df = pd.DataFrame()\n",
    "    for transform in tqdm(param_grid['transform']):\n",
    "        for hour_num in param_grid['hour_num']:\n",
    "            for drop_time in param_grid['drop_time']:\n",
    "                X_train, X_test, Y_train, Y_test = \\\n",
    "                get_data(hour_num=hour_num, transform=transform, \n",
    "                         drop_time=drop_time, scale=True, verbose=False)\n",
    "                for drop_else in param_grid['drop_else']:\n",
    "                    for max_depth in param_grid['max_depth']:\n",
    "                        Y_pred = DecisionTreeRegressor(max_depth=max_depth).\\\n",
    "                        fit(X_train, Y_train).predict(X_test)\n",
    "                        mse = mean_squared_error(Y_pred, Y_test)\n",
    "                        new_data = {'transform': transform,\n",
    "                                    'hour_num': hour_num,\n",
    "                                    'drop_time': drop_time,\n",
    "                                    'drop_else': drop_else,\n",
    "                                    'max_depth': max_depth,\n",
    "                                    'mse':mse}\n",
    "                        mse_df = mse_df.append(new_data, ignore_index=True)  \n",
    "    if plot:\n",
    "        tree_model_plot2(dict(mse_df.iloc[mse_df['mse'].idxmin()]))  \n",
    "    if heatmap:\n",
    "        tree_heatmap2(mse_df)\n",
    "            \n",
    "    mse_df['transform'].replace({None: 'None'}, inplace=True)\n",
    "    print('best_param:\\n', dict(mse_df.iloc[mse_df['mse'].idxmin()]),\n",
    "      '\\n\\nbest_mse:', mse_df['mse'].min())\n",
    "    return mse_df, dict(mse_df.iloc[mse_df['mse'].idxmin()])"
   ]
  },
  {
   "cell_type": "markdown",
   "metadata": {},
   "source": [
    "## 西班牙数据"
   ]
  },
  {
   "cell_type": "code",
   "execution_count": null,
   "metadata": {
    "ExecuteTime": {
     "start_time": "2020-02-26T17:20:29.040Z"
    },
    "code_folding": [],
    "scrolled": false
   },
   "outputs": [
    {
     "data": {
      "application/vnd.jupyter.widget-view+json": {
       "model_id": "b0d18c339e25407184dc66ac24c7b521",
       "version_major": 2,
       "version_minor": 0
      },
      "text/plain": [
       "HBox(children=(FloatProgress(value=0.0, max=7.0), HTML(value='')))"
      ]
     },
     "metadata": {},
     "output_type": "display_data"
    }
   ],
   "source": [
    "param_grid = {'transform': [None, 'sin', 'cos', 'sin+cos', 'ws*sin(wd)', \n",
    "                            'ws*cos(wd)', 'ws*sin(wd)+ws*cos(wd)'],\n",
    "              'hour_num': np.arange(0,12),\n",
    "              'drop_time': [True, False],\n",
    "              'max_depth': np.arange(1,20)}\n",
    "mse_df, best_param = tree_grid_search1(param_grid)"
   ]
  },
  {
   "cell_type": "code",
   "execution_count": null,
   "metadata": {
    "ExecuteTime": {
     "start_time": "2020-02-26T17:20:29.043Z"
    }
   },
   "outputs": [],
   "source": [
    "tree_model_plot1(best_param)"
   ]
  },
  {
   "cell_type": "code",
   "execution_count": null,
   "metadata": {
    "ExecuteTime": {
     "start_time": "2020-02-26T17:20:29.047Z"
    },
    "scrolled": false
   },
   "outputs": [],
   "source": [
    "f, ax= plt.subplots(figsize=(15,18),nrows=3)\n",
    "sns.heatmap(mse_df.groupby(['transform','hour_num'])['mse'].mean().unstack(),\n",
    "            ax=ax[0], vmax=0.008, annot=True, fmt='.5f')\n",
    "sns.heatmap(mse_df.groupby(['transform','max_depth'])['mse'].mean().unstack(),\n",
    "            ax=ax[1], vmax=0.008, annot=True, fmt='.3f')\n",
    "sns.heatmap(mse_df.groupby(['transform','drop_time'])['mse'].mean().unstack(),\n",
    "            ax=ax[2], vmax=0.008, annot=True, fmt='.5f')"
   ]
  },
  {
   "cell_type": "markdown",
   "metadata": {},
   "source": [
    "___"
   ]
  },
  {
   "cell_type": "markdown",
   "metadata": {},
   "source": [
    "## 美国数据"
   ]
  },
  {
   "cell_type": "code",
   "execution_count": null,
   "metadata": {
    "ExecuteTime": {
     "start_time": "2020-02-26T17:20:29.051Z"
    }
   },
   "outputs": [],
   "source": [
    "param_grid = {'transform': [None, 'sin', 'cos', 'sin+cos', 'ws*sin(wd)', \n",
    "                            'ws*cos(wd)', 'ws*sin(wd)+ws*cos(wd)'],\n",
    "              'hour_num': np.arange(0,12),\n",
    "              'drop_time': [True, False],\n",
    "              'drop_else': [True, False],\n",
    "              'max_depth': np.arange(1,20)}\n",
    "mse_df2, best_param2 = tree_grid_search2(param_grid)"
   ]
  },
  {
   "cell_type": "code",
   "execution_count": null,
   "metadata": {
    "ExecuteTime": {
     "start_time": "2020-02-26T17:20:29.054Z"
    }
   },
   "outputs": [],
   "source": [
    "f, ax= plt.subplots(figsize=(15,24),nrows=4)\n",
    "sns.heatmap(mse_df2.groupby(['transform','hour_num'])['mse'].mean().unstack(),\n",
    "            ax=ax[0], vmax=0.008, annot=True, fmt='.5f')\n",
    "sns.heatmap(mse_df2.groupby(['transform','max_depth'])['mse'].mean().unstack(),\n",
    "            ax=ax[1], vmax=0.008, annot=True, fmt='.3f')\n",
    "sns.heatmap(mse_df2.groupby(['transform','drop_time'])['mse'].mean().unstack(),\n",
    "            ax=ax[2], vmax=0.008, annot=True, fmt='.5f')\n",
    "sns.heatmap(mse_df2.groupby(['transform','drop_else'])['mse'].mean().unstack(),\n",
    "            ax=ax[3], vmax=0.008, annot=True, fmt='.5f')"
   ]
  }
 ],
 "metadata": {
  "kernelspec": {
   "display_name": "Python 3",
   "language": "python",
   "name": "python3"
  },
  "language_info": {
   "codemirror_mode": {
    "name": "ipython",
    "version": 3
   },
   "file_extension": ".py",
   "mimetype": "text/x-python",
   "name": "python",
   "nbconvert_exporter": "python",
   "pygments_lexer": "ipython3",
   "version": "3.7.3"
  },
  "toc": {
   "base_numbering": 1,
   "nav_menu": {},
   "number_sections": true,
   "sideBar": true,
   "skip_h1_title": false,
   "title_cell": "Table of Contents",
   "title_sidebar": "Contents",
   "toc_cell": false,
   "toc_position": {
    "height": "calc(100% - 180px)",
    "left": "10px",
    "top": "150px",
    "width": "222.60870361328125px"
   },
   "toc_section_display": true,
   "toc_window_display": true
  },
  "varInspector": {
   "cols": {
    "lenName": 16,
    "lenType": 16,
    "lenVar": 40
   },
   "kernels_config": {
    "python": {
     "delete_cmd_postfix": "",
     "delete_cmd_prefix": "del ",
     "library": "var_list.py",
     "varRefreshCmd": "print(var_dic_list())"
    },
    "r": {
     "delete_cmd_postfix": ") ",
     "delete_cmd_prefix": "rm(",
     "library": "var_list.r",
     "varRefreshCmd": "cat(var_dic_list()) "
    }
   },
   "types_to_exclude": [
    "module",
    "function",
    "builtin_function_or_method",
    "instance",
    "_Feature"
   ],
   "window_display": false
  }
 },
 "nbformat": 4,
 "nbformat_minor": 4
}
