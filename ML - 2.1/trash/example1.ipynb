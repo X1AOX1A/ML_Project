{
 "cells": [
  {
   "cell_type": "markdown",
   "metadata": {},
   "source": [
    "# 数据准备"
   ]
  },
  {
   "cell_type": "markdown",
   "metadata": {},
   "source": [
    "## 数据导入"
   ]
  },
  {
   "cell_type": "code",
   "execution_count": 29,
   "metadata": {
    "ExecuteTime": {
     "end_time": "2020-02-02T15:57:04.063415Z",
     "start_time": "2020-02-02T15:57:03.322130Z"
    },
    "scrolled": true
   },
   "outputs": [
    {
     "data": {
      "text/html": [
       "<div>\n",
       "<style scoped>\n",
       "    .dataframe tbody tr th:only-of-type {\n",
       "        vertical-align: middle;\n",
       "    }\n",
       "\n",
       "    .dataframe tbody tr th {\n",
       "        vertical-align: top;\n",
       "    }\n",
       "\n",
       "    .dataframe thead th {\n",
       "        text-align: right;\n",
       "    }\n",
       "</style>\n",
       "<table border=\"1\" class=\"dataframe\">\n",
       "  <thead>\n",
       "    <tr style=\"text-align: right;\">\n",
       "      <th></th>\n",
       "      <th>Year</th>\n",
       "      <th>Month</th>\n",
       "      <th>Day</th>\n",
       "      <th>Hour</th>\n",
       "      <th>Minute</th>\n",
       "      <th>power (MW)</th>\n",
       "      <th>wind direction at 100m (deg)</th>\n",
       "      <th>wind speed at 100m (m/s)</th>\n",
       "      <th>air temperature at 2m (K)</th>\n",
       "      <th>surface air pressure (Pa)</th>\n",
       "      <th>density at hub height (kg/m^3)</th>\n",
       "    </tr>\n",
       "  </thead>\n",
       "  <tbody>\n",
       "    <tr>\n",
       "      <th>count</th>\n",
       "      <td>105408.0</td>\n",
       "      <td>105408.000000</td>\n",
       "      <td>105408.000000</td>\n",
       "      <td>105408.000000</td>\n",
       "      <td>105408.000000</td>\n",
       "      <td>105408.000000</td>\n",
       "      <td>105408.000000</td>\n",
       "      <td>105408.000000</td>\n",
       "      <td>105408.000000</td>\n",
       "      <td>105408.000000</td>\n",
       "      <td>105408.000000</td>\n",
       "    </tr>\n",
       "    <tr>\n",
       "      <th>mean</th>\n",
       "      <td>2012.0</td>\n",
       "      <td>6.513661</td>\n",
       "      <td>15.756831</td>\n",
       "      <td>11.500000</td>\n",
       "      <td>27.500000</td>\n",
       "      <td>4.125135</td>\n",
       "      <td>193.870912</td>\n",
       "      <td>7.899902</td>\n",
       "      <td>287.464005</td>\n",
       "      <td>84606.872893</td>\n",
       "      <td>1.011686</td>\n",
       "    </tr>\n",
       "    <tr>\n",
       "      <th>std</th>\n",
       "      <td>0.0</td>\n",
       "      <td>3.451250</td>\n",
       "      <td>8.811571</td>\n",
       "      <td>6.922219</td>\n",
       "      <td>17.260345</td>\n",
       "      <td>3.694119</td>\n",
       "      <td>88.377513</td>\n",
       "      <td>4.100500</td>\n",
       "      <td>9.776362</td>\n",
       "      <td>468.523564</td>\n",
       "      <td>0.033038</td>\n",
       "    </tr>\n",
       "    <tr>\n",
       "      <th>min</th>\n",
       "      <td>2012.0</td>\n",
       "      <td>1.000000</td>\n",
       "      <td>1.000000</td>\n",
       "      <td>0.000000</td>\n",
       "      <td>0.000000</td>\n",
       "      <td>0.000000</td>\n",
       "      <td>0.022000</td>\n",
       "      <td>0.039000</td>\n",
       "      <td>264.279000</td>\n",
       "      <td>83157.784000</td>\n",
       "      <td>0.939000</td>\n",
       "    </tr>\n",
       "    <tr>\n",
       "      <th>25%</th>\n",
       "      <td>2012.0</td>\n",
       "      <td>4.000000</td>\n",
       "      <td>8.000000</td>\n",
       "      <td>5.750000</td>\n",
       "      <td>13.750000</td>\n",
       "      <td>0.647000</td>\n",
       "      <td>122.959750</td>\n",
       "      <td>4.797000</td>\n",
       "      <td>279.383000</td>\n",
       "      <td>84290.328000</td>\n",
       "      <td>0.986000</td>\n",
       "    </tr>\n",
       "    <tr>\n",
       "      <th>50%</th>\n",
       "      <td>2012.0</td>\n",
       "      <td>7.000000</td>\n",
       "      <td>16.000000</td>\n",
       "      <td>11.500000</td>\n",
       "      <td>27.500000</td>\n",
       "      <td>2.985500</td>\n",
       "      <td>212.370500</td>\n",
       "      <td>7.562000</td>\n",
       "      <td>287.852000</td>\n",
       "      <td>84634.568000</td>\n",
       "      <td>1.008000</td>\n",
       "    </tr>\n",
       "    <tr>\n",
       "      <th>75%</th>\n",
       "      <td>2012.0</td>\n",
       "      <td>10.000000</td>\n",
       "      <td>23.000000</td>\n",
       "      <td>17.250000</td>\n",
       "      <td>41.250000</td>\n",
       "      <td>7.813000</td>\n",
       "      <td>267.541000</td>\n",
       "      <td>10.546250</td>\n",
       "      <td>295.039000</td>\n",
       "      <td>84930.296000</td>\n",
       "      <td>1.036000</td>\n",
       "    </tr>\n",
       "    <tr>\n",
       "      <th>max</th>\n",
       "      <td>2012.0</td>\n",
       "      <td>12.000000</td>\n",
       "      <td>31.000000</td>\n",
       "      <td>23.000000</td>\n",
       "      <td>55.000000</td>\n",
       "      <td>10.000000</td>\n",
       "      <td>359.989000</td>\n",
       "      <td>33.057000</td>\n",
       "      <td>309.620000</td>\n",
       "      <td>86287.160000</td>\n",
       "      <td>1.102000</td>\n",
       "    </tr>\n",
       "  </tbody>\n",
       "</table>\n",
       "</div>"
      ],
      "text/plain": [
       "           Year          Month            Day           Hour         Minute  \\\n",
       "count  105408.0  105408.000000  105408.000000  105408.000000  105408.000000   \n",
       "mean     2012.0       6.513661      15.756831      11.500000      27.500000   \n",
       "std         0.0       3.451250       8.811571       6.922219      17.260345   \n",
       "min      2012.0       1.000000       1.000000       0.000000       0.000000   \n",
       "25%      2012.0       4.000000       8.000000       5.750000      13.750000   \n",
       "50%      2012.0       7.000000      16.000000      11.500000      27.500000   \n",
       "75%      2012.0      10.000000      23.000000      17.250000      41.250000   \n",
       "max      2012.0      12.000000      31.000000      23.000000      55.000000   \n",
       "\n",
       "          power (MW)  wind direction at 100m (deg)  wind speed at 100m (m/s)  \\\n",
       "count  105408.000000                 105408.000000             105408.000000   \n",
       "mean        4.125135                    193.870912                  7.899902   \n",
       "std         3.694119                     88.377513                  4.100500   \n",
       "min         0.000000                      0.022000                  0.039000   \n",
       "25%         0.647000                    122.959750                  4.797000   \n",
       "50%         2.985500                    212.370500                  7.562000   \n",
       "75%         7.813000                    267.541000                 10.546250   \n",
       "max        10.000000                    359.989000                 33.057000   \n",
       "\n",
       "       air temperature at 2m (K)  surface air pressure (Pa)  \\\n",
       "count              105408.000000              105408.000000   \n",
       "mean                  287.464005               84606.872893   \n",
       "std                     9.776362                 468.523564   \n",
       "min                   264.279000               83157.784000   \n",
       "25%                   279.383000               84290.328000   \n",
       "50%                   287.852000               84634.568000   \n",
       "75%                   295.039000               84930.296000   \n",
       "max                   309.620000               86287.160000   \n",
       "\n",
       "       density at hub height (kg/m^3)  \n",
       "count                   105408.000000  \n",
       "mean                         1.011686  \n",
       "std                          0.033038  \n",
       "min                          0.939000  \n",
       "25%                          0.986000  \n",
       "50%                          1.008000  \n",
       "75%                          1.036000  \n",
       "max                          1.102000  "
      ]
     },
     "execution_count": 29,
     "metadata": {},
     "output_type": "execute_result"
    }
   ],
   "source": [
    "from ngboost import NGBRegressor\n",
    "from sklearn.model_selection import train_test_split\n",
    "from sklearn.metrics import mean_squared_error\n",
    "\n",
    "import pandas as pd\n",
    "data = pd.read_csv('/Users/apple/Documents/ML_Project/ML - 2.1/Data/相近8个地点2012年数据/20739-2012.csv',\n",
    "                  skiprows=[0,1,2])\n",
    "\n",
    "data.describe()"
   ]
  },
  {
   "cell_type": "markdown",
   "metadata": {},
   "source": [
    "## 数据转换"
   ]
  },
  {
   "cell_type": "code",
   "execution_count": 28,
   "metadata": {
    "ExecuteTime": {
     "end_time": "2020-02-02T15:56:24.428799Z",
     "start_time": "2020-02-02T15:56:24.275698Z"
    },
    "scrolled": true
   },
   "outputs": [],
   "source": [
    "X = data.drop('power (MW)', axis=1)\n",
    "Y = data['power (MW)']\n",
    "X_train, X_test, Y_train, Y_test = train_test_split(X, Y, test_size=0.2, random_state=520)\n",
    "\n",
    "from sklearn.preprocessing import MinMaxScaler\n",
    "X_Scaler = MinMaxScaler()\n",
    "X_train = X_Scaler.fit_transform(X_train)\n",
    "X_test = X_Scaler.transform(X_test)\n",
    "\n",
    "Y_Scaler = MinMaxScaler()\n",
    "Y_train = Y_Scaler.fit_transform(Y_train.values.reshape(-1,1)).reshape(len(Y_train),)\n",
    "Y_test = Y_Scaler.transform(Y_test.values.reshape(-1,1)).reshape(len(Y_test),)"
   ]
  },
  {
   "cell_type": "markdown",
   "metadata": {},
   "source": [
    "# 模型预测"
   ]
  },
  {
   "cell_type": "code",
   "execution_count": 34,
   "metadata": {
    "ExecuteTime": {
     "end_time": "2020-02-02T16:14:15.726348Z",
     "start_time": "2020-02-02T16:14:15.706632Z"
    }
   },
   "outputs": [],
   "source": [
    "from ngboost import NGBRegressor\n",
    "def model_test(Base, X_train, X_test, Y_train, Y_test, \n",
    "               n_estimators=500, verbose_eval=100):\n",
    "    ngb = NGBRegressor(Base=Base, n_estimators=n_estimators,verbose_eval=verbose_eval)\n",
    "    print(ngb,'\\n')\n",
    "    ngb.fit(X_train, Y_train)\n",
    "\n",
    "    Y_preds = ngb.predict(X_test)\n",
    "    Y_dists = ngb.pred_dist(X_test) # return norm method: mean std\n",
    "\n",
    "    # test Mean Squared Error\n",
    "    test_MSE = mean_squared_error(Y_preds, Y_test)\n",
    "    print('\\nTest MSE', test_MSE)\n",
    "\n",
    "    # test Negative Log Likelihood\n",
    "    test_NLL = -Y_dists.logpdf(Y_test).mean()\n",
    "    print('Test NLL', test_NLL)"
   ]
  },
  {
   "cell_type": "markdown",
   "metadata": {},
   "source": [
    "## default_linear_learner"
   ]
  },
  {
   "cell_type": "code",
   "execution_count": 31,
   "metadata": {
    "ExecuteTime": {
     "end_time": "2020-02-02T16:07:47.375846Z",
     "start_time": "2020-02-02T16:06:37.349460Z"
    },
    "scrolled": true
   },
   "outputs": [
    {
     "name": "stdout",
     "output_type": "stream",
     "text": [
      "NGBRegressor(Base=<function default_linear_learner at 0x1a1ea9b488>,\n",
      "             Dist=<class 'ngboost.distns.normal.Normal'>,\n",
      "             Score=<class 'ngboost.scores.MLE'>, learning_rate=0.01,\n",
      "             minibatch_frac=1.0, n_estimators=500, natural_gradient=True,\n",
      "             tol=0.0001, verbose=True, verbose_eval=100) \n",
      "\n",
      "[iter 0] loss=0.4233 val_loss=0.0000 scale=1.0000 norm=0.5075\n",
      "[iter 100] loss=-0.1296 val_loss=0.0000 scale=1.0000 norm=0.3964\n",
      "[iter 200] loss=-0.4713 val_loss=0.0000 scale=1.0000 norm=0.3808\n",
      "[iter 300] loss=-0.6817 val_loss=0.0000 scale=1.0000 norm=0.3446\n",
      "[iter 400] loss=-0.7670 val_loss=0.0000 scale=1.0000 norm=0.3483\n",
      "\n",
      "Test MSE 0.015955682176653666\n",
      "Test NLL -0.7861904540301601\n"
     ]
    }
   ],
   "source": [
    "from ngboost.learners import default_linear_learner\n",
    "model_test(Base=default_linear_learner,\n",
    "           X_train=X_train, X_test=X_test,\n",
    "           Y_train=Y_train, Y_test=Y_test,\n",
    "          n_estimators=500, verbose_eval=100)"
   ]
  },
  {
   "cell_type": "markdown",
   "metadata": {},
   "source": [
    "## default_tree_learner"
   ]
  },
  {
   "cell_type": "code",
   "execution_count": 32,
   "metadata": {
    "ExecuteTime": {
     "end_time": "2020-02-02T16:09:12.473232Z",
     "start_time": "2020-02-02T16:07:47.837817Z"
    }
   },
   "outputs": [
    {
     "name": "stdout",
     "output_type": "stream",
     "text": [
      "NGBRegressor(Base=<function default_linear_learner at 0x1a1ea9b488>,\n",
      "             Dist=<class 'ngboost.distns.normal.Normal'>,\n",
      "             Score=<class 'ngboost.scores.MLE'>, learning_rate=0.01,\n",
      "             minibatch_frac=1.0, n_estimators=500, natural_gradient=True,\n",
      "             tol=0.0001, verbose=True, verbose_eval=100) \n",
      "\n",
      "[iter 0] loss=0.4233 val_loss=0.0000 scale=1.0000 norm=0.5075\n",
      "[iter 100] loss=-0.1296 val_loss=0.0000 scale=1.0000 norm=0.3964\n",
      "[iter 200] loss=-0.4713 val_loss=0.0000 scale=1.0000 norm=0.3808\n",
      "[iter 300] loss=-0.6817 val_loss=0.0000 scale=1.0000 norm=0.3446\n",
      "[iter 400] loss=-0.7670 val_loss=0.0000 scale=1.0000 norm=0.3483\n",
      "\n",
      "Test MSE 0.015955682176653666\n",
      "Test NLL -0.7861904540301601\n"
     ]
    }
   ],
   "source": [
    "from ngboost.learners import default_tree_learner\n",
    "model_test(Base=default_tree_learner,\n",
    "           X_train=X_train, X_test=X_test,\n",
    "           Y_train=Y_train, Y_test=Y_test,\n",
    "          n_estimators=500, verbose_eval=100)"
   ]
  },
  {
   "cell_type": "markdown",
   "metadata": {
    "ExecuteTime": {
     "end_time": "2020-02-01T13:48:04.141127Z",
     "start_time": "2020-02-01T13:48:04.136843Z"
    }
   },
   "source": [
    "## esn_ridge_learner"
   ]
  },
  {
   "cell_type": "code",
   "execution_count": null,
   "metadata": {
    "ExecuteTime": {
     "start_time": "2020-02-02T16:14:25.588Z"
    },
    "scrolled": true
   },
   "outputs": [
    {
     "name": "stdout",
     "output_type": "stream",
     "text": [
      "NGBRegressor(Base=<function esn_ridge_learner at 0x1a1fceb7b8>,\n",
      "             Dist=<class 'ngboost.distns.normal.Normal'>,\n",
      "             Score=<class 'ngboost.scores.MLE'>, learning_rate=0.01,\n",
      "             minibatch_frac=1.0, n_estimators=500, natural_gradient=True,\n",
      "             tol=0.0001, verbose=True, verbose_eval=10) \n",
      "\n",
      "[iter 0] loss=0.4216 val_loss=0.0000 scale=1.0000 norm=0.5063\n",
      "[iter 10] loss=0.3360 val_loss=0.0000 scale=1.0000 norm=0.4536\n",
      "[iter 20] loss=0.2650 val_loss=0.0000 scale=1.0000 norm=0.4223\n",
      "[iter 30] loss=0.2032 val_loss=0.0000 scale=1.0000 norm=0.4049\n",
      "[iter 40] loss=0.1474 val_loss=0.0000 scale=1.0000 norm=0.3961\n",
      "[iter 50] loss=0.0954 val_loss=0.0000 scale=1.0000 norm=0.3923\n",
      "[iter 60] loss=0.0469 val_loss=0.0000 scale=1.0000 norm=0.3913\n",
      "[iter 70] loss=0.0007 val_loss=0.0000 scale=1.0000 norm=0.3919\n",
      "[iter 80] loss=-0.0436 val_loss=0.0000 scale=1.0000 norm=0.3930\n",
      "[iter 90] loss=-0.0863 val_loss=0.0000 scale=1.0000 norm=0.3944\n",
      "[iter 100] loss=-0.1276 val_loss=0.0000 scale=1.0000 norm=0.3956\n"
     ]
    }
   ],
   "source": [
    "from ngboost.learners import esn_ridge_learner\n",
    "model_test(Base=esn_ridge_learner,\n",
    "           X_train=X_train[:8000], X_test=X_test,\n",
    "           Y_train=Y_train[:8000], Y_test=Y_test,\n",
    "          n_estimators=500, verbose_eval=10)"
   ]
  },
  {
   "cell_type": "code",
   "execution_count": null,
   "metadata": {},
   "outputs": [],
   "source": []
  }
 ],
 "metadata": {
  "kernelspec": {
   "display_name": "Python 3",
   "language": "python",
   "name": "python3"
  },
  "language_info": {
   "codemirror_mode": {
    "name": "ipython",
    "version": 3
   },
   "file_extension": ".py",
   "mimetype": "text/x-python",
   "name": "python",
   "nbconvert_exporter": "python",
   "pygments_lexer": "ipython3",
   "version": "3.7.3"
  },
  "notify_time": "0",
  "toc": {
   "base_numbering": 1,
   "nav_menu": {},
   "number_sections": true,
   "sideBar": true,
   "skip_h1_title": false,
   "title_cell": "Table of Contents",
   "title_sidebar": "Contents",
   "toc_cell": false,
   "toc_position": {
    "height": "calc(100% - 180px)",
    "left": "10px",
    "top": "150px",
    "width": "222.60870361328125px"
   },
   "toc_section_display": true,
   "toc_window_display": true
  },
  "varInspector": {
   "cols": {
    "lenName": 16,
    "lenType": 16,
    "lenVar": 40
   },
   "kernels_config": {
    "python": {
     "delete_cmd_postfix": "",
     "delete_cmd_prefix": "del ",
     "library": "var_list.py",
     "varRefreshCmd": "print(var_dic_list())"
    },
    "r": {
     "delete_cmd_postfix": ") ",
     "delete_cmd_prefix": "rm(",
     "library": "var_list.r",
     "varRefreshCmd": "cat(var_dic_list()) "
    }
   },
   "types_to_exclude": [
    "module",
    "function",
    "builtin_function_or_method",
    "instance",
    "_Feature"
   ],
   "window_display": false
  }
 },
 "nbformat": 4,
 "nbformat_minor": 2
}
