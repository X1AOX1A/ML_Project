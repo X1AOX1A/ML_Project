{
 "cells": [
  {
   "cell_type": "markdown",
   "metadata": {},
   "source": [
    "# 数据准备\n",
    "\n",
    "## 连续区间"
   ]
  },
  {
   "cell_type": "code",
   "execution_count": 6,
   "metadata": {
    "ExecuteTime": {
     "end_time": "2020-02-07T07:11:28.674575Z",
     "start_time": "2020-02-07T07:11:28.670453Z"
    }
   },
   "outputs": [],
   "source": [
    "import numpy as np\n",
    "import pandas as pd\n",
    "from utils import *\n",
    "from ngboost.learners import *"
   ]
  },
  {
   "cell_type": "markdown",
   "metadata": {},
   "source": [
    "输出连续区间"
   ]
  },
  {
   "cell_type": "code",
   "execution_count": 2,
   "metadata": {
    "ExecuteTime": {
     "end_time": "2020-02-07T07:09:16.263074Z",
     "start_time": "2020-02-07T07:09:16.113602Z"
    },
    "code_folding": [],
    "hide_input": true,
    "scrolled": false
   },
   "outputs": [
    {
     "name": "stdout",
     "output_type": "stream",
     "text": [
      "Continue: [ 0 , 975 ] len: 975 \tNan: [ 976 , 976 ] len: 1\n",
      "Continue: [ 977 , 2216 ] len: 1239 \tNan: [ 2217 , 2221 ] len: 5\n",
      "Continue: [ 2222 , 3498 ] len: 1276 \tNan: [ 3499 , 3560 ] len: 62\n",
      "Continue: [ 3561 , 3572 ] len: 11 \tNan: [ 3573 , 3589 ] len: 17\n",
      "Continue: [ 3590 , 4314 ] len: 724 \tNan: [ 4315 , 4401 ] len: 87\n",
      "Continue: [ 4402 , 6255 ] len: 1853 \tNan: [ 6256 , 6273 ] len: 18\n",
      "Continue: [ 6274 , 6375 ] len: 101 \tNan: [ 6376 , 6376 ] len: 1\n",
      "Continue: [ 6377 , 6417 ] len: 40 \tNan: [ 6418 , 6425 ] len: 8\n",
      "Continue: [ 6426 , 10427 ] len: 4001 \tNan: [ 10428 , 10447 ] len: 20\n",
      "Continue: [ 10448 , 13432 ] len: 2984 \tNan: [ 13433 , 13434 ] len: 2\n",
      "Continue: [ 13435 , 13976 ] len: 541 \tNan: [ 13977 , 13985 ] len: 9\n",
      "Continue: [ 13986 , 14000 ] len: 14 \tNan: [ 14001 , 14009 ] len: 9\n",
      "Continue: [ 14010 , 14024 ] len: 14 \tNan: [ 14025 , 14033 ] len: 9\n",
      "Continue: [ 14034 , 14048 ] len: 14 \tNan: [ 14049 , 14057 ] len: 9\n",
      "Continue: [ 14058 , 14072 ] len: 14 \tNan: [ 14073 , 14077 ] len: 5\n",
      "Continue: [ 14078 , 14387 ] len: 309 \tNan: [ 14388 , 14388 ] len: 1\n",
      "Continue: [ 14389 , 17872 ] len: 3483 \tNan: [ 17873 , 17887 ] len: 15\n",
      "Continue: [ 17888 , 18265 ] len: 377\n"
     ]
    }
   ],
   "source": [
    "path = '/Users/apple/Documents/ML_Project/ML - 2.1/Data/国际西班牙数据.csv'\n",
    "data = load_data(path, add_time=True, describe=False)\n",
    "\n",
    "index = data[data['wind_speed'].isna() |\n",
    "    data['wind_direction'].isna() |\n",
    "    data['wind_power'].isna()]['wind_power'].index.tolist()\n",
    "a = index[0]\n",
    "b=-1\n",
    "for i,x in enumerate(index):\n",
    "    if i<len(index)-1:\n",
    "        if index[i+1] > index[i]+1:\n",
    "            print('Continue: [',b+1, ',', a-1,']','len:',a-b-2,\n",
    "                '\\tNan: [',a, ',',index[i], '] len:',index[i]-a+1)     \n",
    "            a = index[i+1]\n",
    "            b = index[i]\n",
    "    else: \n",
    "        a=index[-15]\n",
    "        print('Continue: [',b+1, ',', a-1,']','len:',a-b-2,\n",
    "                '\\tNan: [',a, ',',index[i], '] len:',index[i]-a+1)     \n",
    "        a=len(data)\n",
    "        b=index[i]\n",
    "        print('Continue: [',b+1, ',', a-1,']','len:',a-b-2)\n",
    "\n",
    "del data"
   ]
  },
  {
   "cell_type": "markdown",
   "metadata": {},
   "source": [
    "## 可视化"
   ]
  },
  {
   "cell_type": "code",
   "execution_count": 3,
   "metadata": {
    "ExecuteTime": {
     "end_time": "2020-02-07T07:09:18.922154Z",
     "start_time": "2020-02-07T07:09:18.159335Z"
    },
    "code_folding": [],
    "scrolled": true
   },
   "outputs": [
    {
     "data": {
      "application/vnd.jupyter.widget-view+json": {
       "model_id": "6402e271389d4eae821c731ae446fc48",
       "version_major": 2,
       "version_minor": 0
      },
      "text/plain": [
       "HBox(children=(FloatProgress(value=0.0, max=1.0), HTML(value='')))"
      ]
     },
     "metadata": {},
     "output_type": "display_data"
    },
    {
     "name": "stdout",
     "output_type": "stream",
     "text": [
      "\n"
     ]
    },
    {
     "data": {
      "application/vnd.jupyter.widget-view+json": {
       "model_id": "001d804395f5498f8d2163b04b238451",
       "version_major": 2,
       "version_minor": 0
      },
      "text/plain": [
       "HBox(children=(FloatProgress(value=0.0, max=1.0), HTML(value='')))"
      ]
     },
     "metadata": {},
     "output_type": "display_data"
    },
    {
     "name": "stdout",
     "output_type": "stream",
     "text": [
      "\n"
     ]
    }
   ],
   "source": [
    "%config InlineBackend.figure_format='retina'\n",
    "from tqdm.notebook import tqdm as tqdm\n",
    "for day in tqdm(np.arange(1,2)):\n",
    "    plot_module1(year=2017, month=10, day=day, figsize=(8,13), \n",
    "                 save_fig=False, close_fig=True)\n",
    "for day in tqdm(np.arange(1,2)):\n",
    "    plot_module2(year=2017, month=10, day=day, figsize=(8,10), \n",
    "                 save_fig=False, close_fig=True)"
   ]
  },
  {
   "cell_type": "markdown",
   "metadata": {},
   "source": [
    "# 模型预测"
   ]
  },
  {
   "cell_type": "code",
   "execution_count": 1,
   "metadata": {
    "ExecuteTime": {
     "end_time": "2020-02-07T07:43:42.772177Z",
     "start_time": "2020-02-07T07:43:41.191216Z"
    }
   },
   "outputs": [],
   "source": [
    "import numpy as np\n",
    "import pandas as pd\n",
    "from utils import *\n",
    "from ngboost.learners import *"
   ]
  },
  {
   "cell_type": "markdown",
   "metadata": {},
   "source": [
    "1. linear_svr_learner（0.0189）\n",
    "2. esn_linear_svr_learner（0.0275）\n",
    "3. default_linear_learner（0.0249）\n",
    "4. default_tree_learner（0.0408）\n",
    "5. esn_kernel_ridge_learner（0.0442）\n",
    "6. kernel_ridge_learner（0.0478）\n",
    "7. esn_ridge_learner（0.0482）"
   ]
  },
  {
   "cell_type": "markdown",
   "metadata": {},
   "source": [
    "## default_linear_learner"
   ]
  },
  {
   "cell_type": "code",
   "execution_count": 2,
   "metadata": {
    "ExecuteTime": {
     "end_time": "2020-02-07T07:43:55.652174Z",
     "start_time": "2020-02-07T07:43:45.055122Z"
    }
   },
   "outputs": [
    {
     "name": "stdout",
     "output_type": "stream",
     "text": [
      "get_data(hour_num=0, transform='cos', drop_time=True, scale=True)\n",
      "\n",
      "NGBRegressor(Base=Ridge(alpha=0.1, copy_X=True, fit_intercept=True,\n",
      "                        max_iter=None, normalize=False, random_state=None,\n",
      "                        solver='auto', tol=0.001),\n",
      "             Dist=<class 'ngboost.distns.normal.Normal'>,\n",
      "             Score=<class 'ngboost.scores.MLE'>, learning_rate=0.01,\n",
      "             minibatch_frac=1.0, n_estimators=500, natural_gradient=True,\n",
      "             tol=0.0001, verbose=True, verbose_eval=100) \n",
      "\n",
      "[iter 0] loss=0.0535 val_loss=0.0000 scale=0.5000 norm=0.2703\n",
      "[iter 100] loss=-0.2826 val_loss=0.0000 scale=0.1250 norm=0.0631\n",
      "[iter 200] loss=-0.3047 val_loss=0.0000 scale=0.0312 norm=0.0159\n",
      "[iter 300] loss=-0.3060 val_loss=0.0000 scale=0.0078 norm=0.0040\n",
      "[iter 400] loss=-0.3061 val_loss=0.0000 scale=0.0020 norm=0.0010\n",
      "\n",
      "Test MSE 0.02490641682277041\n",
      "Test NLL -0.35658237100203094\n"
     ]
    }
   ],
   "source": [
    "X_train, X_test, Y_train, Y_test = get_data(hour_num=0, transform='cos',\n",
    "                                            drop_time=True, scale=True)\n",
    "model_test(Base=default_linear_learner(alpha=0.1),\n",
    "           X_train=X_train, X_test=X_test,\n",
    "           Y_train=Y_train, Y_test=Y_test,\n",
    "          n_estimators=500, verbose_eval=100)"
   ]
  },
  {
   "cell_type": "markdown",
   "metadata": {},
   "source": [
    "## default_tree_learner"
   ]
  },
  {
   "cell_type": "code",
   "execution_count": 3,
   "metadata": {
    "ExecuteTime": {
     "end_time": "2020-02-07T07:44:54.593992Z",
     "start_time": "2020-02-07T07:44:23.207104Z"
    }
   },
   "outputs": [
    {
     "name": "stdout",
     "output_type": "stream",
     "text": [
      "get_data(hour_num=0, transform='cos', drop_time=True, scale=True)\n",
      "\n",
      "NGBRegressor(Base=DecisionTreeRegressor(criterion='friedman_mse', max_depth=6,\n",
      "                                        max_features=None, max_leaf_nodes=None,\n",
      "                                        min_impurity_decrease=0.0,\n",
      "                                        min_impurity_split=None,\n",
      "                                        min_samples_leaf=1, min_samples_split=2,\n",
      "                                        min_weight_fraction_leaf=0.0,\n",
      "                                        presort=False, random_state=None,\n",
      "                                        splitter='best'),\n",
      "             Dist=<class 'ngboost.distns.normal.Normal'>,\n",
      "             Score=<class 'ngboost.scores.MLE'>, learning_rate=0.01,\n",
      "             minibatch_frac=1.0, n_estimators=1000, natural_gradient=True,\n",
      "             tol=0.0001, verbose=True, verbose_eval=200) \n",
      "\n",
      "[iter 0] loss=0.0535 val_loss=0.0000 scale=0.5000 norm=0.2703\n",
      "[iter 200] loss=-0.2965 val_loss=0.0000 scale=0.0625 norm=0.0284\n",
      "[iter 400] loss=-0.3040 val_loss=0.0000 scale=0.0156 norm=0.0071\n",
      "[iter 600] loss=-0.3042 val_loss=0.0000 scale=0.0002 norm=0.0001\n",
      "[iter 800] loss=-0.3043 val_loss=0.0000 scale=0.0002 norm=0.0001\n",
      "\n",
      "Test MSE 0.04085529841448047\n",
      "Test NLL -0.23679548394202238\n"
     ]
    }
   ],
   "source": [
    "X_train, X_test, Y_train, Y_test = get_data(hour_num=0, transform='cos',\n",
    "                                            drop_time=True, scale=True)\n",
    "model_test(Base=default_tree_learner(depth=6),\n",
    "           X_train=X_train, X_test=X_test,\n",
    "           Y_train=Y_train, Y_test=Y_test,\n",
    "          n_estimators=1000, verbose_eval=200)"
   ]
  },
  {
   "cell_type": "markdown",
   "metadata": {},
   "source": [
    "## linear_svr_learner"
   ]
  },
  {
   "cell_type": "code",
   "execution_count": 4,
   "metadata": {
    "ExecuteTime": {
     "end_time": "2020-02-07T07:47:36.084450Z",
     "start_time": "2020-02-07T07:47:20.273137Z"
    }
   },
   "outputs": [
    {
     "name": "stdout",
     "output_type": "stream",
     "text": [
      "get_data(hour_num=0, transform='cos', drop_time=True, scale=True)\n",
      "\n",
      "NGBRegressor(Base=LinearSVR(C=0.05, dual=True, epsilon=0.0, fit_intercept=True,\n",
      "                            intercept_scaling=1.0, loss='epsilon_insensitive',\n",
      "                            max_iter=1000, random_state=None, tol=0.0001,\n",
      "                            verbose=0),\n",
      "             Dist=<class 'ngboost.distns.normal.Normal'>,\n",
      "             Score=<class 'ngboost.scores.MLE'>, learning_rate=0.01,\n",
      "             minibatch_frac=1.0, n_estimators=500, natural_gradient=True,\n",
      "             tol=0.0001, verbose=True, verbose_eval=100) \n",
      "\n",
      "[iter 0] loss=0.0535 val_loss=0.0000 scale=0.5000 norm=0.2703\n",
      "[iter 100] loss=-0.1027 val_loss=0.0000 scale=0.2500 norm=0.1587\n",
      "[iter 200] loss=-0.1449 val_loss=0.0000 scale=0.0625 norm=0.0397\n",
      "[iter 300] loss=-0.1504 val_loss=0.0000 scale=0.0156 norm=0.0098\n",
      "[iter 400] loss=-0.1509 val_loss=0.0000 scale=0.0078 norm=0.0049\n",
      "\n",
      "Test MSE 0.018950746108482006\n",
      "Test NLL -0.3825329050974052\n"
     ]
    }
   ],
   "source": [
    "X_train, X_test, Y_train, Y_test = get_data(hour_num=0, transform='cos',\n",
    "                                            drop_time=True, scale=True)\n",
    "model_test(Base=linear_svr_learner(epsilon=0.0, \n",
    "                                   C=0.05, \n",
    "                                   max_iter=10000),\n",
    "           X_train=X_train, X_test=X_test,\n",
    "           Y_train=Y_train, Y_test=Y_test,\n",
    "          n_estimators=500, verbose_eval=100)"
   ]
  },
  {
   "cell_type": "code",
   "execution_count": 5,
   "metadata": {
    "ExecuteTime": {
     "end_time": "2020-02-07T07:47:52.021658Z",
     "start_time": "2020-02-07T07:47:36.087978Z"
    }
   },
   "outputs": [
    {
     "name": "stdout",
     "output_type": "stream",
     "text": [
      "get_data(hour_num=0, transform='cos', drop_time=True, scale=True)\n",
      "\n",
      "NGBRegressor(Base=LinearSVR(C=0.05, dual=True, epsilon=0.0, fit_intercept=True,\n",
      "                            intercept_scaling=1.0, loss='epsilon_insensitive',\n",
      "                            max_iter=1000, random_state=None, tol=0.0001,\n",
      "                            verbose=0),\n",
      "             Dist=<class 'ngboost.distns.normal.Normal'>,\n",
      "             Score=<class 'ngboost.scores.MLE'>, learning_rate=0.01,\n",
      "             minibatch_frac=1.0, n_estimators=500, natural_gradient=True,\n",
      "             tol=0.0001, verbose=True, verbose_eval=100) \n",
      "\n",
      "[iter 0] loss=0.0535 val_loss=0.0000 scale=0.5000 norm=0.2703\n",
      "[iter 100] loss=-0.1038 val_loss=0.0000 scale=0.2500 norm=0.1587\n",
      "[iter 200] loss=-0.1454 val_loss=0.0000 scale=0.0625 norm=0.0397\n",
      "[iter 300] loss=-0.1506 val_loss=0.0000 scale=0.0156 norm=0.0098\n",
      "[iter 400] loss=-0.1510 val_loss=0.0000 scale=0.0078 norm=0.0049\n",
      "\n",
      "Test MSE 0.019570084180591786\n",
      "Test NLL -0.379616275691176\n"
     ]
    }
   ],
   "source": [
    "X_train, X_test, Y_train, Y_test = get_data(hour_num=0, transform='cos',\n",
    "                                            drop_time=True, scale=True)\n",
    "model_test(Base=linear_svr_learner(epsilon=0.0, \n",
    "                                   C=0.05, \n",
    "                                   max_iter=10000),\n",
    "           X_train=X_train, X_test=X_test,\n",
    "           Y_train=Y_train, Y_test=Y_test,\n",
    "          n_estimators=500, verbose_eval=100)"
   ]
  },
  {
   "cell_type": "markdown",
   "metadata": {},
   "source": [
    "## kernel_ridge_learner"
   ]
  },
  {
   "cell_type": "code",
   "execution_count": null,
   "metadata": {
    "ExecuteTime": {
     "start_time": "2020-02-07T07:47:20.276Z"
    },
    "scrolled": true
   },
   "outputs": [
    {
     "name": "stdout",
     "output_type": "stream",
     "text": [
      "get_data(hour_num=0, transform='cos', drop_time=True, scale=True)\n",
      "\n",
      "NGBRegressor(Base=KernelRidge(alpha=0.5, coef0=1, degree=3, gamma=None,\n",
      "                              kernel='poly', kernel_params=None),\n",
      "             Dist=<class 'ngboost.distns.normal.Normal'>,\n",
      "             Score=<class 'ngboost.scores.MLE'>, learning_rate=0.01,\n",
      "             minibatch_frac=1.0, n_estimators=500, natural_gradient=True,\n",
      "             tol=0.0001, verbose=True, verbose_eval=10) \n",
      "\n",
      "[iter 0] loss=0.0535 val_loss=0.0000 scale=1.0000 norm=0.5407\n",
      "[iter 10] loss=-0.0826 val_loss=0.0000 scale=1.0000 norm=0.4713\n",
      "[iter 20] loss=-0.1353 val_loss=0.0000 scale=0.5000 norm=0.2337\n",
      "[iter 30] loss=-0.1700 val_loss=0.0000 scale=0.5000 norm=0.2361\n"
     ]
    }
   ],
   "source": [
    "X_train, X_test, Y_train, Y_test = get_data(hour_num=0, transform='cos',\n",
    "                                            drop_time=True, scale=True)\n",
    "model_test(Base=kernel_ridge_learner(alpha=0.5, \n",
    "                                    kernel=\"poly\",\n",
    "                                    degree=3),\n",
    "           X_train=X_train, X_test=X_test,\n",
    "           Y_train=Y_train, Y_test=Y_test,\n",
    "          n_estimators=500, verbose_eval=10)"
   ]
  },
  {
   "cell_type": "markdown",
   "metadata": {},
   "source": [
    "## esn_ridge_learner"
   ]
  },
  {
   "cell_type": "code",
   "execution_count": null,
   "metadata": {
    "ExecuteTime": {
     "start_time": "2020-02-07T07:47:20.279Z"
    },
    "scrolled": true
   },
   "outputs": [],
   "source": [
    "X_train, X_test, Y_train, Y_test = get_data(hour_num=0, transform='cos',\n",
    "                                            drop_time=True, scale=True)\n",
    "model_test(Base=esn_ridge_learner(n_readout=1000,\n",
    "                                  n_components=100,\n",
    "                                  alpha=0.01),\n",
    "           X_train=X_train, X_test=X_test,\n",
    "           Y_train=Y_train, Y_test=Y_test,\n",
    "          n_estimators=500, verbose_eval=10)"
   ]
  },
  {
   "cell_type": "markdown",
   "metadata": {},
   "source": [
    "## esn_kernel_ridge_learner"
   ]
  },
  {
   "cell_type": "code",
   "execution_count": null,
   "metadata": {
    "ExecuteTime": {
     "start_time": "2020-02-07T07:47:20.283Z"
    },
    "scrolled": true
   },
   "outputs": [],
   "source": [
    "X_train, X_test, Y_train, Y_test = get_data(hour_num=0, transform='cos',\n",
    "                                            drop_time=True, scale=True)\n",
    "model_test(Base=esn_kernel_ridge_learner(n_readout=1000,\n",
    "                                         n_components=100,\n",
    "                                         alpha=1, \n",
    "                                         kernel='poly',\n",
    "                                         degree=3),\n",
    "           X_train=X_train, X_test=X_test,\n",
    "           Y_train=Y_train, Y_test=Y_test,\n",
    "          n_estimators=500, verbose_eval=5)"
   ]
  },
  {
   "cell_type": "markdown",
   "metadata": {},
   "source": [
    "## esn_linear_svr_learner"
   ]
  },
  {
   "cell_type": "code",
   "execution_count": null,
   "metadata": {
    "ExecuteTime": {
     "start_time": "2020-02-07T07:47:20.286Z"
    },
    "code_folding": [],
    "scrolled": true
   },
   "outputs": [],
   "source": [
    "X_train, X_test, Y_train, Y_test = get_data(hour_num=0, transform='cos',\n",
    "                                            drop_time=True, scale=True)\n",
    "model_test(Base=esn_linear_svr_learner(n_readout=1000,\n",
    "                                         n_components=100,\n",
    "                                         epsilon=0.0,\n",
    "                                         C=0.02,\n",
    "                                         max_iter=1000),\n",
    "           X_train=X_train, X_test=X_test,\n",
    "           Y_train=Y_train, Y_test=Y_test,\n",
    "          n_estimators=500, verbose_eval=10)"
   ]
  },
  {
   "cell_type": "code",
   "execution_count": null,
   "metadata": {},
   "outputs": [],
   "source": []
  }
 ],
 "metadata": {
  "kernelspec": {
   "display_name": "Python 3",
   "language": "python",
   "name": "python3"
  },
  "language_info": {
   "codemirror_mode": {
    "name": "ipython",
    "version": 3
   },
   "file_extension": ".py",
   "mimetype": "text/x-python",
   "name": "python",
   "nbconvert_exporter": "python",
   "pygments_lexer": "ipython3",
   "version": "3.7.3"
  },
  "notify_time": "0",
  "toc": {
   "base_numbering": 1,
   "nav_menu": {},
   "number_sections": true,
   "sideBar": true,
   "skip_h1_title": false,
   "title_cell": "Table of Contents",
   "title_sidebar": "Contents",
   "toc_cell": false,
   "toc_position": {
    "height": "calc(100% - 180px)",
    "left": "10px",
    "top": "150px",
    "width": "222.60870361328125px"
   },
   "toc_section_display": true,
   "toc_window_display": true
  },
  "varInspector": {
   "cols": {
    "lenName": 16,
    "lenType": 16,
    "lenVar": 40
   },
   "kernels_config": {
    "python": {
     "delete_cmd_postfix": "",
     "delete_cmd_prefix": "del ",
     "library": "var_list.py",
     "varRefreshCmd": "print(var_dic_list())"
    },
    "r": {
     "delete_cmd_postfix": ") ",
     "delete_cmd_prefix": "rm(",
     "library": "var_list.r",
     "varRefreshCmd": "cat(var_dic_list()) "
    }
   },
   "types_to_exclude": [
    "module",
    "function",
    "builtin_function_or_method",
    "instance",
    "_Feature"
   ],
   "window_display": false
  }
 },
 "nbformat": 4,
 "nbformat_minor": 2
}
