{
 "cells": [
  {
   "cell_type": "markdown",
   "metadata": {},
   "source": [
    "# 数据准备\n",
    "\n",
    "## 数据导入"
   ]
  },
  {
   "cell_type": "code",
   "execution_count": 1,
   "metadata": {
    "ExecuteTime": {
     "end_time": "2020-02-03T13:50:32.558436Z",
     "start_time": "2020-02-03T13:50:30.912082Z"
    },
    "scrolled": false
   },
   "outputs": [
    {
     "data": {
      "text/html": [
       "<div>\n",
       "<style scoped>\n",
       "    .dataframe tbody tr th:only-of-type {\n",
       "        vertical-align: middle;\n",
       "    }\n",
       "\n",
       "    .dataframe tbody tr th {\n",
       "        vertical-align: top;\n",
       "    }\n",
       "\n",
       "    .dataframe thead th {\n",
       "        text-align: right;\n",
       "    }\n",
       "</style>\n",
       "<table border=\"1\" class=\"dataframe\">\n",
       "  <thead>\n",
       "    <tr style=\"text-align: right;\">\n",
       "      <th></th>\n",
       "      <th>wind_speed</th>\n",
       "      <th>wind_direction</th>\n",
       "      <th>wind_power</th>\n",
       "    </tr>\n",
       "  </thead>\n",
       "  <tbody>\n",
       "    <tr>\n",
       "      <th>count</th>\n",
       "      <td>18087.000000</td>\n",
       "      <td>18087.000000</td>\n",
       "      <td>17988.000000</td>\n",
       "    </tr>\n",
       "    <tr>\n",
       "      <th>mean</th>\n",
       "      <td>5.970865</td>\n",
       "      <td>173.388069</td>\n",
       "      <td>2955.932230</td>\n",
       "    </tr>\n",
       "    <tr>\n",
       "      <th>std</th>\n",
       "      <td>2.990040</td>\n",
       "      <td>96.471277</td>\n",
       "      <td>3555.648744</td>\n",
       "    </tr>\n",
       "    <tr>\n",
       "      <th>min</th>\n",
       "      <td>0.350000</td>\n",
       "      <td>0.000000</td>\n",
       "      <td>0.000000</td>\n",
       "    </tr>\n",
       "    <tr>\n",
       "      <th>25%</th>\n",
       "      <td>3.960000</td>\n",
       "      <td>91.000000</td>\n",
       "      <td>83.712500</td>\n",
       "    </tr>\n",
       "    <tr>\n",
       "      <th>50%</th>\n",
       "      <td>5.450000</td>\n",
       "      <td>167.000000</td>\n",
       "      <td>1515.720000</td>\n",
       "    </tr>\n",
       "    <tr>\n",
       "      <th>75%</th>\n",
       "      <td>7.440000</td>\n",
       "      <td>256.000000</td>\n",
       "      <td>4588.337500</td>\n",
       "    </tr>\n",
       "    <tr>\n",
       "      <th>max</th>\n",
       "      <td>27.130000</td>\n",
       "      <td>359.000000</td>\n",
       "      <td>16163.410000</td>\n",
       "    </tr>\n",
       "  </tbody>\n",
       "</table>\n",
       "</div>"
      ],
      "text/plain": [
       "         wind_speed  wind_direction    wind_power\n",
       "count  18087.000000    18087.000000  17988.000000\n",
       "mean       5.970865      173.388069   2955.932230\n",
       "std        2.990040       96.471277   3555.648744\n",
       "min        0.350000        0.000000      0.000000\n",
       "25%        3.960000       91.000000     83.712500\n",
       "50%        5.450000      167.000000   1515.720000\n",
       "75%        7.440000      256.000000   4588.337500\n",
       "max       27.130000      359.000000  16163.410000"
      ]
     },
     "metadata": {},
     "output_type": "display_data"
    }
   ],
   "source": [
    "from ngboost import NGBRegressor\n",
    "from sklearn.model_selection import train_test_split\n",
    "from sklearn.metrics import mean_squared_error\n",
    "\n",
    "import pandas as pd\n",
    "data = pd.read_csv('/Users/apple/Documents/ML_Project/ML - 2.1/Data/国际西班牙数据.csv')\n",
    "display(data.describe())"
   ]
  },
  {
   "cell_type": "markdown",
   "metadata": {},
   "source": [
    "输出连续区间"
   ]
  },
  {
   "cell_type": "code",
   "execution_count": 2,
   "metadata": {
    "ExecuteTime": {
     "end_time": "2020-02-03T13:50:32.626490Z",
     "start_time": "2020-02-03T13:50:32.563004Z"
    },
    "scrolled": true
   },
   "outputs": [
    {
     "name": "stdout",
     "output_type": "stream",
     "text": [
      "Continue: [ 0 , 975 ] len: 975 \tNan: [ 976 , 976 ] len: 1\n",
      "Continue: [ 977 , 2216 ] len: 1239 \tNan: [ 2217 , 2221 ] len: 5\n",
      "Continue: [ 2222 , 3498 ] len: 1276 \tNan: [ 3499 , 3560 ] len: 62\n",
      "Continue: [ 3561 , 3572 ] len: 11 \tNan: [ 3573 , 3589 ] len: 17\n",
      "Continue: [ 3590 , 4314 ] len: 724 \tNan: [ 4315 , 4401 ] len: 87\n",
      "Continue: [ 4402 , 6255 ] len: 1853 \tNan: [ 6256 , 6273 ] len: 18\n",
      "Continue: [ 6274 , 6375 ] len: 101 \tNan: [ 6376 , 6376 ] len: 1\n",
      "Continue: [ 6377 , 6417 ] len: 40 \tNan: [ 6418 , 6425 ] len: 8\n",
      "Continue: [ 6426 , 10427 ] len: 4001 \tNan: [ 10428 , 10447 ] len: 20\n",
      "Continue: [ 10448 , 13432 ] len: 2984 \tNan: [ 13433 , 13434 ] len: 2\n",
      "Continue: [ 13435 , 13976 ] len: 541 \tNan: [ 13977 , 13985 ] len: 9\n",
      "Continue: [ 13986 , 14000 ] len: 14 \tNan: [ 14001 , 14009 ] len: 9\n",
      "Continue: [ 14010 , 14024 ] len: 14 \tNan: [ 14025 , 14033 ] len: 9\n",
      "Continue: [ 14034 , 14048 ] len: 14 \tNan: [ 14049 , 14057 ] len: 9\n",
      "Continue: [ 14058 , 14072 ] len: 14 \tNan: [ 14073 , 14077 ] len: 5\n",
      "Continue: [ 14078 , 14387 ] len: 309 \tNan: [ 14388 , 14388 ] len: 1\n",
      "Continue: [ 14389 , 17872 ] len: 3483 \tNan: [ 17873 , 17887 ] len: 15\n",
      "Continue: [ 17888 , 18265 ] len: 377\n"
     ]
    }
   ],
   "source": [
    "index = data[data['wind_speed'].isna() |\n",
    "    data['wind_direction'].isna() |\n",
    "    data['wind_power'].isna()]['Date'].index.tolist()\n",
    "a = index[0]\n",
    "b=-1\n",
    "for i,x in enumerate(index):\n",
    "    if i<len(index)-1:\n",
    "        if index[i+1] > index[i]+1:\n",
    "            print('Continue: [',b+1, ',', a-1,']','len:',a-b-2,\n",
    "                '\\tNan: [',a, ',',index[i], '] len:',index[i]-a+1)     \n",
    "            a = index[i+1]\n",
    "            b = index[i]\n",
    "    else: \n",
    "        a=index[-15]\n",
    "        print('Continue: [',b+1, ',', a-1,']','len:',a-b-2,\n",
    "                '\\tNan: [',a, ',',index[i], '] len:',index[i]-a+1)     \n",
    "        a=len(data)\n",
    "        b=index[i]\n",
    "        print('Continue: [',b+1, ',', a-1,']','len:',a-b-2)\n"
   ]
  },
  {
   "cell_type": "markdown",
   "metadata": {},
   "source": [
    "## 数据转换"
   ]
  },
  {
   "cell_type": "code",
   "execution_count": 3,
   "metadata": {
    "ExecuteTime": {
     "end_time": "2020-02-03T13:50:32.770805Z",
     "start_time": "2020-02-03T13:50:32.632456Z"
    }
   },
   "outputs": [],
   "source": [
    "data['Date'] = data['Date'].apply(lambda data: data.split('/'))\n",
    "data['Year'] = data['Date'].apply(lambda data: int(data[2].split(' ')[0]))\n",
    "data['Month'] = data['Date'].apply(lambda data: int(data[1]))\n",
    "data['Day'] = data['Date'].apply(lambda data: int(data[0]))\n",
    "data['Hour'] = data['Date'].apply(lambda data: int(data[2].split(' ')[1].split(':')[0]))\n",
    "data.drop('Date', inplace=True, axis=1)\n",
    "\n",
    "X = data.drop('wind_power', axis=1)\n",
    "Y = data['wind_power']\n",
    "X_train = X.iloc[6426:10427]\n",
    "Y_train = Y.iloc[6426:10427]\n",
    "X_test = X.iloc[14389:17872]\n",
    "Y_test = Y.iloc[14389:17872]\n",
    "\n",
    "# X_train, X_test, Y_train, Y_test = train_test_split(X, Y, test_size=0.2, random_state=520)\n",
    "\n",
    "from sklearn.preprocessing import MinMaxScaler\n",
    "X_Scaler = MinMaxScaler()\n",
    "X_train = X_Scaler.fit_transform(X_train)\n",
    "X_test = X_Scaler.transform(X_test)\n",
    "\n",
    "Y_Scaler = MinMaxScaler()\n",
    "Y_train = Y_Scaler.fit_transform(Y_train.values.reshape(-1,1)).reshape(len(Y_train),)\n",
    "Y_test = Y_Scaler.transform(Y_test.values.reshape(-1,1)).reshape(len(Y_test),)"
   ]
  },
  {
   "cell_type": "markdown",
   "metadata": {},
   "source": [
    "# 模型预测"
   ]
  },
  {
   "cell_type": "code",
   "execution_count": 4,
   "metadata": {
    "ExecuteTime": {
     "end_time": "2020-02-03T13:50:32.784103Z",
     "start_time": "2020-02-03T13:50:32.774223Z"
    }
   },
   "outputs": [],
   "source": [
    "from ngboost import NGBRegressor\n",
    "def model_test(Base, X_train, X_test, Y_train, Y_test, \n",
    "               n_estimators=500, verbose_eval=100):\n",
    "    ngb = NGBRegressor(Base=Base, \n",
    "                       n_estimators=n_estimators,\n",
    "                       verbose_eval=verbose_eval)\n",
    "    print(ngb,'\\n')\n",
    "    ngb.fit(X_train, Y_train)\n",
    "\n",
    "    Y_preds = ngb.predict(X_test)\n",
    "    Y_dists = ngb.pred_dist(X_test) # return norm method: mean std\n",
    "\n",
    "    # test Mean Squared Error\n",
    "    test_MSE = mean_squared_error(Y_preds, Y_test)\n",
    "    print('\\nTest MSE', test_MSE)\n",
    "\n",
    "    # test Negative Log Likelihood\n",
    "    test_NLL = -Y_dists.logpdf(Y_test).mean()\n",
    "    print('Test NLL', test_NLL)"
   ]
  },
  {
   "cell_type": "markdown",
   "metadata": {},
   "source": [
    "## default_linear_learner"
   ]
  },
  {
   "cell_type": "code",
   "execution_count": 14,
   "metadata": {
    "ExecuteTime": {
     "end_time": "2020-02-03T14:26:40.412539Z",
     "start_time": "2020-02-03T14:26:33.238971Z"
    }
   },
   "outputs": [
    {
     "name": "stdout",
     "output_type": "stream",
     "text": [
      "NGBRegressor(Base=Ridge(alpha=0.0, copy_X=True, fit_intercept=True,\n",
      "                        max_iter=None, normalize=False, random_state=None,\n",
      "                        solver='auto', tol=0.001),\n",
      "             Dist=<class 'ngboost.distns.normal.Normal'>,\n",
      "             Score=<class 'ngboost.scores.MLE'>, learning_rate=0.01,\n",
      "             minibatch_frac=1.0, n_estimators=500, natural_gradient=True,\n",
      "             tol=0.0001, verbose=True, verbose_eval=100) \n",
      "\n",
      "[iter 0] loss=0.0535 val_loss=0.0000 scale=0.5000 norm=0.2703\n",
      "[iter 100] loss=-0.2827 val_loss=0.0000 scale=0.1250 norm=0.0616\n",
      "[iter 200] loss=-0.3056 val_loss=0.0000 scale=0.0312 norm=0.0154\n",
      "[iter 300] loss=-0.3070 val_loss=0.0000 scale=0.0156 norm=0.0077\n",
      "[iter 400] loss=-0.3071 val_loss=0.0000 scale=0.0020 norm=0.0010\n",
      "\n",
      "Test MSE 0.022265049427956596\n",
      "Test NLL -0.3534161516209199\n"
     ]
    }
   ],
   "source": [
    "from ngboost.learners import default_linear_learner\n",
    "model_test(Base=default_linear_learner(alpha=0.0),\n",
    "           X_train=X_train, X_test=X_test,\n",
    "           Y_train=Y_train, Y_test=Y_test,\n",
    "          n_estimators=500, verbose_eval=100)"
   ]
  },
  {
   "cell_type": "markdown",
   "metadata": {},
   "source": [
    "## default_tree_learner"
   ]
  },
  {
   "cell_type": "code",
   "execution_count": 13,
   "metadata": {
    "ExecuteTime": {
     "end_time": "2020-02-03T14:26:26.632313Z",
     "start_time": "2020-02-03T14:26:18.114098Z"
    },
    "scrolled": false
   },
   "outputs": [
    {
     "name": "stdout",
     "output_type": "stream",
     "text": [
      "NGBRegressor(Base=DecisionTreeRegressor(criterion='friedman_mse', max_depth=3,\n",
      "                                        max_features=None, max_leaf_nodes=None,\n",
      "                                        min_impurity_decrease=0.0,\n",
      "                                        min_impurity_split=None,\n",
      "                                        min_samples_leaf=1, min_samples_split=2,\n",
      "                                        min_weight_fraction_leaf=0.0,\n",
      "                                        presort=False, random_state=None,\n",
      "                                        splitter='best'),\n",
      "             Dist=<class 'ngboost.distns.normal.Normal'>,\n",
      "             Score=<class 'ngboost.scores.MLE'>, learning_rate=0.01,\n",
      "             minibatch_frac=1.0, n_estimators=500, natural_gradient=True,\n",
      "             tol=0.0001, verbose=True, verbose_eval=100) \n",
      "\n",
      "[iter 0] loss=0.0535 val_loss=0.0000 scale=0.5000 norm=0.2703\n",
      "[iter 100] loss=-0.2619 val_loss=0.0000 scale=0.2500 norm=0.1099\n",
      "[iter 200] loss=-0.3078 val_loss=0.0000 scale=0.1250 norm=0.0555\n",
      "[iter 300] loss=-0.3144 val_loss=0.0000 scale=0.0312 norm=0.0138\n",
      "[iter 400] loss=-0.3150 val_loss=0.0000 scale=0.0078 norm=0.0034\n",
      "\n",
      "Test MSE 0.04275652868592292\n",
      "Test NLL -0.20888354570909468\n"
     ]
    }
   ],
   "source": [
    "from ngboost.learners import default_tree_learner\n",
    "model_test(Base=default_tree_learner(depth=3),\n",
    "           X_train=X_train, X_test=X_test,\n",
    "           Y_train=Y_train, Y_test=Y_test,\n",
    "          n_estimators=500, verbose_eval=100)"
   ]
  },
  {
   "cell_type": "markdown",
   "metadata": {},
   "source": [
    "## kernel_ridge_learner"
   ]
  },
  {
   "cell_type": "code",
   "execution_count": 10,
   "metadata": {
    "ExecuteTime": {
     "end_time": "2020-02-03T14:24:15.837460Z",
     "start_time": "2020-02-03T14:07:01.883182Z"
    },
    "scrolled": true
   },
   "outputs": [
    {
     "name": "stdout",
     "output_type": "stream",
     "text": [
      "NGBRegressor(Base=KernelRidge(alpha=0.5, coef0=1, degree=3, gamma=None,\n",
      "                              kernel='linear', kernel_params=None),\n",
      "             Dist=<class 'ngboost.distns.normal.Normal'>,\n",
      "             Score=<class 'ngboost.scores.MLE'>, learning_rate=0.01,\n",
      "             minibatch_frac=1.0, n_estimators=500, natural_gradient=True,\n",
      "             tol=0.0001, verbose=True, verbose_eval=10) \n",
      "\n",
      "[iter 0] loss=0.0535 val_loss=0.0000 scale=0.5000 norm=0.2703\n",
      "[iter 10] loss=-0.0289 val_loss=0.0000 scale=0.5000 norm=0.2486\n",
      "[iter 20] loss=-0.0883 val_loss=0.0000 scale=0.5000 norm=0.2394\n",
      "[iter 30] loss=-0.1361 val_loss=0.0000 scale=0.5000 norm=0.2366\n",
      "[iter 40] loss=-0.1768 val_loss=0.0000 scale=0.5000 norm=0.2371\n",
      "[iter 50] loss=-0.2086 val_loss=0.0000 scale=0.2500 norm=0.1196\n",
      "[iter 60] loss=-0.2244 val_loss=0.0000 scale=0.2500 norm=0.1203\n",
      "[iter 70] loss=-0.2388 val_loss=0.0000 scale=0.2500 norm=0.1211\n",
      "[iter 80] loss=-0.2517 val_loss=0.0000 scale=0.2500 norm=0.1218\n",
      "[iter 90] loss=-0.2630 val_loss=0.0000 scale=0.2500 norm=0.1225\n",
      "[iter 100] loss=-0.2714 val_loss=0.0000 scale=0.1250 norm=0.0615\n",
      "[iter 110] loss=-0.2757 val_loss=0.0000 scale=0.1250 norm=0.0616\n",
      "[iter 120] loss=-0.2796 val_loss=0.0000 scale=0.1250 norm=0.0617\n",
      "[iter 130] loss=-0.2830 val_loss=0.0000 scale=0.1250 norm=0.0618\n",
      "[iter 140] loss=-0.2860 val_loss=0.0000 scale=0.1250 norm=0.0618\n",
      "[iter 150] loss=-0.2885 val_loss=0.0000 scale=0.0625 norm=0.0309\n",
      "[iter 160] loss=-0.2896 val_loss=0.0000 scale=0.0625 norm=0.0309\n",
      "[iter 170] loss=-0.2906 val_loss=0.0000 scale=0.0625 norm=0.0310\n",
      "[iter 180] loss=-0.2915 val_loss=0.0000 scale=0.0625 norm=0.0310\n",
      "[iter 190] loss=-0.2922 val_loss=0.0000 scale=0.0625 norm=0.0309\n",
      "[iter 200] loss=-0.2928 val_loss=0.0000 scale=0.0625 norm=0.0309\n",
      "[iter 210] loss=-0.2931 val_loss=0.0000 scale=0.0312 norm=0.0155\n",
      "[iter 220] loss=-0.2934 val_loss=0.0000 scale=0.0312 norm=0.0155\n",
      "[iter 230] loss=-0.2936 val_loss=0.0000 scale=0.0312 norm=0.0155\n",
      "[iter 240] loss=-0.2938 val_loss=0.0000 scale=0.0312 norm=0.0155\n",
      "[iter 250] loss=-0.2939 val_loss=0.0000 scale=0.0312 norm=0.0155\n",
      "[iter 260] loss=-0.2940 val_loss=0.0000 scale=0.0156 norm=0.0077\n",
      "[iter 270] loss=-0.2940 val_loss=0.0000 scale=0.0156 norm=0.0077\n",
      "[iter 280] loss=-0.2941 val_loss=0.0000 scale=0.0156 norm=0.0077\n",
      "[iter 290] loss=-0.2941 val_loss=0.0000 scale=0.0156 norm=0.0077\n",
      "[iter 300] loss=-0.2942 val_loss=0.0000 scale=0.0078 norm=0.0039\n",
      "[iter 310] loss=-0.2942 val_loss=0.0000 scale=0.0078 norm=0.0039\n",
      "[iter 320] loss=-0.2942 val_loss=0.0000 scale=0.0078 norm=0.0039\n",
      "[iter 330] loss=-0.2942 val_loss=0.0000 scale=0.0078 norm=0.0039\n",
      "[iter 340] loss=-0.2942 val_loss=0.0000 scale=0.0078 norm=0.0039\n",
      "[iter 350] loss=-0.2942 val_loss=0.0000 scale=0.0039 norm=0.0019\n",
      "[iter 360] loss=-0.2942 val_loss=0.0000 scale=0.0039 norm=0.0019\n",
      "[iter 370] loss=-0.2942 val_loss=0.0000 scale=0.0039 norm=0.0019\n",
      "[iter 380] loss=-0.2942 val_loss=0.0000 scale=0.0039 norm=0.0019\n",
      "[iter 390] loss=-0.2942 val_loss=0.0000 scale=0.0039 norm=0.0019\n",
      "[iter 400] loss=-0.2942 val_loss=0.0000 scale=0.0020 norm=0.0010\n",
      "[iter 410] loss=-0.2942 val_loss=0.0000 scale=0.0020 norm=0.0010\n",
      "[iter 420] loss=-0.2942 val_loss=0.0000 scale=0.0020 norm=0.0010\n",
      "[iter 430] loss=-0.2942 val_loss=0.0000 scale=0.0020 norm=0.0010\n",
      "[iter 440] loss=-0.2942 val_loss=0.0000 scale=0.0020 norm=0.0010\n",
      "[iter 450] loss=-0.2942 val_loss=0.0000 scale=0.0010 norm=0.0005\n",
      "[iter 460] loss=-0.2942 val_loss=0.0000 scale=0.0010 norm=0.0005\n",
      "[iter 470] loss=-0.2942 val_loss=0.0000 scale=0.0010 norm=0.0005\n",
      "[iter 480] loss=-0.2942 val_loss=0.0000 scale=0.0010 norm=0.0005\n",
      "[iter 490] loss=-0.2942 val_loss=0.0000 scale=0.0010 norm=0.0005\n",
      "\n",
      "Test MSE 0.1423359308898038\n",
      "Test NLL 1.1569925911027987\n"
     ]
    }
   ],
   "source": [
    "from ngboost.learners import kernel_ridge_learner\n",
    "model_test(Base=kernel_ridge_learner(alpha=0.5, \n",
    "                                    kernel=\"linear\",\n",
    "                                    degree=3),\n",
    "           X_train=X_train, X_test=X_test,\n",
    "           Y_train=Y_train, Y_test=Y_test,\n",
    "          n_estimators=500, verbose_eval=10)"
   ]
  },
  {
   "cell_type": "markdown",
   "metadata": {},
   "source": [
    "## linear_svr_learner"
   ]
  },
  {
   "cell_type": "code",
   "execution_count": 8,
   "metadata": {
    "ExecuteTime": {
     "end_time": "2020-02-03T14:05:41.404574Z",
     "start_time": "2020-02-03T14:05:18.856203Z"
    }
   },
   "outputs": [
    {
     "name": "stdout",
     "output_type": "stream",
     "text": [
      "NGBRegressor(Base=LinearSVR(C=0.4, dual=True, epsilon=0.0, fit_intercept=True,\n",
      "                            intercept_scaling=1.0, loss='epsilon_insensitive',\n",
      "                            max_iter=1000, random_state=None, tol=0.0001,\n",
      "                            verbose=0),\n",
      "             Dist=<class 'ngboost.distns.normal.Normal'>,\n",
      "             Score=<class 'ngboost.scores.MLE'>, learning_rate=0.01,\n",
      "             minibatch_frac=1.0, n_estimators=500, natural_gradient=True,\n",
      "             tol=0.0001, verbose=True, verbose_eval=100) \n",
      "\n",
      "[iter 0] loss=0.0535 val_loss=0.0000 scale=1.0000 norm=0.5407\n",
      "[iter 100] loss=-0.1531 val_loss=0.0000 scale=0.2500 norm=0.1488\n",
      "[iter 200] loss=-0.1889 val_loss=0.0000 scale=0.0625 norm=0.0369\n",
      "[iter 300] loss=-0.1926 val_loss=0.0000 scale=0.0156 norm=0.0091\n",
      "[iter 400] loss=-0.1928 val_loss=0.0000 scale=0.0039 norm=0.0023\n",
      "\n",
      "Test MSE 0.01851317644231908\n",
      "Test NLL -0.3901638496380249\n"
     ]
    }
   ],
   "source": [
    "from ngboost.learners import linear_svr_learner\n",
    "model_test(Base=linear_svr_learner(epsilon=0.0, \n",
    "                                   C=0.4, \n",
    "                                   max_iter=1000),\n",
    "           X_train=X_train, X_test=X_test,\n",
    "           Y_train=Y_train, Y_test=Y_test,\n",
    "          n_estimators=500, verbose_eval=100)"
   ]
  },
  {
   "cell_type": "markdown",
   "metadata": {},
   "source": [
    "## esn_ridge_learner"
   ]
  },
  {
   "cell_type": "code",
   "execution_count": 152,
   "metadata": {
    "ExecuteTime": {
     "end_time": "2020-02-03T08:56:08.762282Z",
     "start_time": "2020-02-03T08:45:54.167662Z"
    },
    "scrolled": true
   },
   "outputs": [
    {
     "name": "stdout",
     "output_type": "stream",
     "text": [
      "NGBRegressor(Base=<function esn_ridge_learner at 0x1a191217b8>,\n",
      "             Dist=<class 'ngboost.distns.normal.Normal'>,\n",
      "             Score=<class 'ngboost.scores.MLE'>, learning_rate=0.01,\n",
      "             minibatch_frac=1.0, n_estimators=500, natural_gradient=True,\n",
      "             tol=0.0001, verbose=True, verbose_eval=10) \n",
      "\n",
      "[iter 0] loss=0.0535 val_loss=0.0000 scale=1.0000 norm=0.5407\n",
      "[iter 10] loss=-0.0623 val_loss=0.0000 scale=1.0000 norm=0.4658\n",
      "[iter 20] loss=-0.1406 val_loss=0.0000 scale=1.0000 norm=0.4331\n",
      "[iter 30] loss=-0.2038 val_loss=0.0000 scale=1.0000 norm=0.4176\n",
      "[iter 40] loss=-0.2585 val_loss=0.0000 scale=1.0000 norm=0.4105\n",
      "[iter 50] loss=-0.3082 val_loss=0.0000 scale=1.0000 norm=0.4077\n",
      "[iter 60] loss=-0.3543 val_loss=0.0000 scale=1.0000 norm=0.4072\n",
      "[iter 70] loss=-0.3978 val_loss=0.0000 scale=1.0000 norm=0.4078\n",
      "[iter 80] loss=-0.4392 val_loss=0.0000 scale=1.0000 norm=0.4090\n",
      "[iter 90] loss=-0.4788 val_loss=0.0000 scale=1.0000 norm=0.4102\n",
      "[iter 100] loss=-0.5170 val_loss=0.0000 scale=1.0000 norm=0.4114\n",
      "[iter 110] loss=-0.5538 val_loss=0.0000 scale=1.0000 norm=0.4123\n",
      "[iter 120] loss=-0.5891 val_loss=0.0000 scale=1.0000 norm=0.4130\n",
      "[iter 130] loss=-0.6231 val_loss=0.0000 scale=1.0000 norm=0.4133\n",
      "[iter 140] loss=-0.6558 val_loss=0.0000 scale=1.0000 norm=0.4132\n",
      "[iter 150] loss=-0.6873 val_loss=0.0000 scale=1.0000 norm=0.4128\n",
      "[iter 160] loss=-0.7174 val_loss=0.0000 scale=1.0000 norm=0.4121\n",
      "[iter 170] loss=-0.7462 val_loss=0.0000 scale=1.0000 norm=0.4111\n",
      "[iter 180] loss=-0.7739 val_loss=0.0000 scale=1.0000 norm=0.4098\n",
      "[iter 190] loss=-0.8002 val_loss=0.0000 scale=1.0000 norm=0.4085\n",
      "[iter 200] loss=-0.8251 val_loss=0.0000 scale=1.0000 norm=0.4069\n",
      "[iter 210] loss=-0.8491 val_loss=0.0000 scale=1.0000 norm=0.4053\n",
      "[iter 220] loss=-0.8715 val_loss=0.0000 scale=1.0000 norm=0.4036\n",
      "[iter 230] loss=-0.8928 val_loss=0.0000 scale=1.0000 norm=0.4020\n",
      "[iter 240] loss=-0.9131 val_loss=0.0000 scale=1.0000 norm=0.4007\n",
      "[iter 250] loss=-0.9320 val_loss=0.0000 scale=1.0000 norm=0.3994\n",
      "[iter 260] loss=-0.9497 val_loss=0.0000 scale=1.0000 norm=0.3983\n",
      "[iter 270] loss=-0.9662 val_loss=0.0000 scale=1.0000 norm=0.3976\n",
      "[iter 280] loss=-0.9819 val_loss=0.0000 scale=1.0000 norm=0.3973\n",
      "[iter 290] loss=-0.9964 val_loss=0.0000 scale=1.0000 norm=0.3973\n",
      "[iter 300] loss=-1.0098 val_loss=0.0000 scale=1.0000 norm=0.3976\n",
      "[iter 310] loss=-1.0224 val_loss=0.0000 scale=1.0000 norm=0.3982\n",
      "[iter 320] loss=-1.0340 val_loss=0.0000 scale=1.0000 norm=0.3990\n",
      "[iter 330] loss=-1.0449 val_loss=0.0000 scale=1.0000 norm=0.4001\n",
      "[iter 340] loss=-1.0547 val_loss=0.0000 scale=1.0000 norm=0.4014\n",
      "[iter 350] loss=-1.0639 val_loss=0.0000 scale=1.0000 norm=0.4030\n",
      "[iter 360] loss=-1.0724 val_loss=0.0000 scale=1.0000 norm=0.4047\n",
      "[iter 370] loss=-1.0803 val_loss=0.0000 scale=1.0000 norm=0.4066\n",
      "[iter 380] loss=-1.0877 val_loss=0.0000 scale=1.0000 norm=0.4086\n",
      "[iter 390] loss=-1.0947 val_loss=0.0000 scale=1.0000 norm=0.4105\n",
      "[iter 400] loss=-1.1006 val_loss=0.0000 scale=1.0000 norm=0.4127\n",
      "[iter 410] loss=-1.1064 val_loss=0.0000 scale=1.0000 norm=0.4147\n",
      "[iter 420] loss=-1.1120 val_loss=0.0000 scale=1.0000 norm=0.4167\n",
      "[iter 430] loss=-1.1170 val_loss=0.0000 scale=1.0000 norm=0.4187\n",
      "[iter 440] loss=-1.1218 val_loss=0.0000 scale=1.0000 norm=0.4208\n",
      "[iter 450] loss=-1.1265 val_loss=0.0000 scale=1.0000 norm=0.4227\n",
      "[iter 460] loss=-1.1308 val_loss=0.0000 scale=1.0000 norm=0.4246\n",
      "[iter 470] loss=-1.1347 val_loss=0.0000 scale=1.0000 norm=0.4266\n",
      "[iter 480] loss=-1.1381 val_loss=0.0000 scale=1.0000 norm=0.4287\n",
      "[iter 490] loss=-1.1417 val_loss=0.0000 scale=1.0000 norm=0.4305\n",
      "\n",
      "Test MSE 0.04821241184348232\n",
      "Test NLL 4.809396096838933\n"
     ]
    }
   ],
   "source": [
    "from ngboost.learners import esn_ridge_learner\n",
    "model_test(Base=esn_ridge_learner(n_readout=1000,\n",
    "                                  n_components=100,\n",
    "                                  alpha=0.01),\n",
    "           X_train=X_train, X_test=X_test,\n",
    "           Y_train=Y_train, Y_test=Y_test,\n",
    "          n_estimators=500, verbose_eval=10)"
   ]
  },
  {
   "cell_type": "markdown",
   "metadata": {},
   "source": [
    "## esn_kernel_ridge_learner"
   ]
  },
  {
   "cell_type": "code",
   "execution_count": 6,
   "metadata": {
    "ExecuteTime": {
     "end_time": "2020-02-03T13:46:25.121733Z",
     "start_time": "2020-02-03T13:11:27.186334Z"
    },
    "scrolled": true
   },
   "outputs": [
    {
     "name": "stdout",
     "output_type": "stream",
     "text": [
      "NGBRegressor(Base=<ngboost.esn_learners.ESN_kernel_ridge_learner object at 0x1a22baca20>,\n",
      "             Dist=<class 'ngboost.distns.normal.Normal'>,\n",
      "             Score=<class 'ngboost.scores.MLE'>, learning_rate=0.01,\n",
      "             minibatch_frac=1.0, n_estimators=500, natural_gradient=True,\n",
      "             tol=0.0001, verbose=True, verbose_eval=5) \n",
      "\n",
      "[iter 0] loss=0.0535 val_loss=0.0000 scale=0.5000 norm=0.2703\n",
      "[iter 5] loss=0.0036 val_loss=0.0000 scale=0.5000 norm=0.2546\n",
      "[iter 10] loss=-0.0356 val_loss=0.0000 scale=0.5000 norm=0.2444\n",
      "[iter 15] loss=-0.0679 val_loss=0.0000 scale=0.5000 norm=0.2380\n",
      "[iter 20] loss=-0.0961 val_loss=0.0000 scale=0.5000 norm=0.2340\n",
      "[iter 25] loss=-0.1213 val_loss=0.0000 scale=0.5000 norm=0.2316\n",
      "[iter 30] loss=-0.1442 val_loss=0.0000 scale=0.5000 norm=0.2305\n",
      "[iter 35] loss=-0.1655 val_loss=0.0000 scale=0.5000 norm=0.2303\n",
      "[iter 40] loss=-0.1853 val_loss=0.0000 scale=0.5000 norm=0.2309\n",
      "[iter 45] loss=-0.2039 val_loss=0.0000 scale=0.5000 norm=0.2319\n",
      "[iter 50] loss=-0.2212 val_loss=0.0000 scale=0.5000 norm=0.2333\n",
      "[iter 55] loss=-0.2327 val_loss=0.0000 scale=0.2500 norm=0.1172\n",
      "[iter 60] loss=-0.2406 val_loss=0.0000 scale=0.2500 norm=0.1176\n",
      "[iter 65] loss=-0.2482 val_loss=0.0000 scale=0.2500 norm=0.1180\n",
      "[iter 70] loss=-0.2554 val_loss=0.0000 scale=0.2500 norm=0.1184\n",
      "[iter 75] loss=-0.2624 val_loss=0.0000 scale=0.2500 norm=0.1189\n",
      "[iter 80] loss=-0.2690 val_loss=0.0000 scale=0.2500 norm=0.1193\n",
      "[iter 85] loss=-0.2752 val_loss=0.0000 scale=0.2500 norm=0.1196\n",
      "[iter 90] loss=-0.2811 val_loss=0.0000 scale=0.2500 norm=0.1200\n",
      "[iter 95] loss=-0.2867 val_loss=0.0000 scale=0.2500 norm=0.1203\n",
      "[iter 100] loss=-0.2918 val_loss=0.0000 scale=0.1250 norm=0.0603\n",
      "[iter 105] loss=-0.2942 val_loss=0.0000 scale=0.1250 norm=0.0603\n",
      "[iter 110] loss=-0.2965 val_loss=0.0000 scale=0.1250 norm=0.0604\n",
      "[iter 115] loss=-0.2987 val_loss=0.0000 scale=0.1250 norm=0.0604\n",
      "[iter 120] loss=-0.3008 val_loss=0.0000 scale=0.1250 norm=0.0605\n",
      "[iter 125] loss=-0.3027 val_loss=0.0000 scale=0.1250 norm=0.0605\n",
      "[iter 130] loss=-0.3046 val_loss=0.0000 scale=0.1250 norm=0.0605\n",
      "[iter 135] loss=-0.3064 val_loss=0.0000 scale=0.1250 norm=0.0606\n",
      "[iter 140] loss=-0.3080 val_loss=0.0000 scale=0.1250 norm=0.0606\n",
      "[iter 145] loss=-0.3095 val_loss=0.0000 scale=0.1250 norm=0.0606\n",
      "[iter 150] loss=-0.3109 val_loss=0.0000 scale=0.1250 norm=0.0606\n",
      "[iter 155] loss=-0.3121 val_loss=0.0000 scale=0.0625 norm=0.0303\n",
      "[iter 160] loss=-0.3127 val_loss=0.0000 scale=0.0625 norm=0.0303\n",
      "[iter 165] loss=-0.3133 val_loss=0.0000 scale=0.0625 norm=0.0303\n",
      "[iter 170] loss=-0.3139 val_loss=0.0000 scale=0.0625 norm=0.0303\n",
      "[iter 175] loss=-0.3144 val_loss=0.0000 scale=0.0625 norm=0.0303\n",
      "[iter 180] loss=-0.3149 val_loss=0.0000 scale=0.0625 norm=0.0302\n",
      "[iter 185] loss=-0.3153 val_loss=0.0000 scale=0.0625 norm=0.0302\n",
      "[iter 190] loss=-0.3158 val_loss=0.0000 scale=0.0625 norm=0.0302\n",
      "[iter 195] loss=-0.3162 val_loss=0.0000 scale=0.0625 norm=0.0302\n",
      "[iter 200] loss=-0.3165 val_loss=0.0000 scale=0.0625 norm=0.0302\n",
      "[iter 205] loss=-0.3169 val_loss=0.0000 scale=0.0625 norm=0.0302\n",
      "[iter 210] loss=-0.3172 val_loss=0.0000 scale=0.0312 norm=0.0151\n",
      "[iter 215] loss=-0.3173 val_loss=0.0000 scale=0.0312 norm=0.0151\n",
      "[iter 220] loss=-0.3174 val_loss=0.0000 scale=0.0312 norm=0.0151\n",
      "[iter 225] loss=-0.3176 val_loss=0.0000 scale=0.0312 norm=0.0151\n",
      "[iter 230] loss=-0.3177 val_loss=0.0000 scale=0.0312 norm=0.0151\n",
      "[iter 235] loss=-0.3178 val_loss=0.0000 scale=0.0312 norm=0.0151\n",
      "[iter 240] loss=-0.3179 val_loss=0.0000 scale=0.0312 norm=0.0151\n",
      "[iter 245] loss=-0.3180 val_loss=0.0000 scale=0.0312 norm=0.0151\n",
      "[iter 250] loss=-0.3181 val_loss=0.0000 scale=0.0312 norm=0.0151\n",
      "[iter 255] loss=-0.3182 val_loss=0.0000 scale=0.0312 norm=0.0150\n",
      "[iter 260] loss=-0.3182 val_loss=0.0000 scale=0.0312 norm=0.0150\n",
      "[iter 265] loss=-0.3183 val_loss=0.0000 scale=0.0156 norm=0.0075\n",
      "[iter 270] loss=-0.3183 val_loss=0.0000 scale=0.0156 norm=0.0075\n",
      "[iter 275] loss=-0.3184 val_loss=0.0000 scale=0.0156 norm=0.0075\n",
      "[iter 280] loss=-0.3184 val_loss=0.0000 scale=0.0156 norm=0.0075\n",
      "[iter 285] loss=-0.3184 val_loss=0.0000 scale=0.0156 norm=0.0075\n",
      "[iter 290] loss=-0.3184 val_loss=0.0000 scale=0.0156 norm=0.0075\n",
      "[iter 295] loss=-0.3185 val_loss=0.0000 scale=0.0156 norm=0.0075\n",
      "[iter 300] loss=-0.3185 val_loss=0.0000 scale=0.0156 norm=0.0075\n",
      "[iter 305] loss=-0.3185 val_loss=0.0000 scale=0.0156 norm=0.0075\n",
      "[iter 310] loss=-0.3185 val_loss=0.0000 scale=0.0156 norm=0.0075\n",
      "[iter 315] loss=-0.3185 val_loss=0.0000 scale=0.0078 norm=0.0038\n",
      "[iter 320] loss=-0.3185 val_loss=0.0000 scale=0.0078 norm=0.0038\n",
      "[iter 325] loss=-0.3186 val_loss=0.0000 scale=0.0078 norm=0.0038\n",
      "[iter 330] loss=-0.3186 val_loss=0.0000 scale=0.0078 norm=0.0038\n",
      "[iter 335] loss=-0.3186 val_loss=0.0000 scale=0.0078 norm=0.0038\n",
      "[iter 340] loss=-0.3186 val_loss=0.0000 scale=0.0156 norm=0.0075\n",
      "[iter 345] loss=-0.3186 val_loss=0.0000 scale=0.0039 norm=0.0019\n",
      "[iter 350] loss=-0.3186 val_loss=0.0000 scale=0.0078 norm=0.0038\n",
      "[iter 355] loss=-0.3186 val_loss=0.0000 scale=0.0078 norm=0.0037\n",
      "[iter 360] loss=-0.3186 val_loss=0.0000 scale=0.0078 norm=0.0037\n",
      "[iter 365] loss=-0.3186 val_loss=0.0000 scale=0.0020 norm=0.0009\n",
      "[iter 370] loss=-0.3186 val_loss=0.0000 scale=0.0039 norm=0.0019\n",
      "[iter 375] loss=-0.3186 val_loss=0.0000 scale=0.0039 norm=0.0019\n",
      "[iter 380] loss=-0.3186 val_loss=0.0000 scale=0.0039 norm=0.0019\n",
      "[iter 385] loss=-0.3186 val_loss=0.0000 scale=0.0020 norm=0.0009\n",
      "[iter 390] loss=-0.3186 val_loss=0.0000 scale=0.0010 norm=0.0005\n",
      "[iter 395] loss=-0.3186 val_loss=0.0000 scale=0.0078 norm=0.0037\n",
      "[iter 400] loss=-0.3186 val_loss=0.0000 scale=0.0010 norm=0.0005\n",
      "[iter 405] loss=-0.3186 val_loss=0.0000 scale=0.0039 norm=0.0019\n",
      "[iter 410] loss=-0.3186 val_loss=0.0000 scale=0.0078 norm=0.0037\n",
      "[iter 415] loss=-0.3186 val_loss=0.0000 scale=0.0001 norm=0.0001\n",
      "[iter 420] loss=-0.3186 val_loss=0.0000 scale=0.0020 norm=0.0009\n",
      "[iter 425] loss=-0.3186 val_loss=0.0000 scale=0.0005 norm=0.0002\n",
      "[iter 430] loss=-0.3186 val_loss=0.0000 scale=0.0020 norm=0.0009\n",
      "[iter 435] loss=-0.3186 val_loss=0.0000 scale=0.0078 norm=0.0037\n",
      "[iter 440] loss=-0.3186 val_loss=0.0000 scale=0.0039 norm=0.0019\n",
      "[iter 445] loss=-0.3186 val_loss=0.0000 scale=0.0005 norm=0.0002\n",
      "[iter 450] loss=-0.3186 val_loss=0.0000 scale=0.0010 norm=0.0005\n",
      "[iter 455] loss=-0.3186 val_loss=0.0000 scale=0.0001 norm=0.0001\n",
      "[iter 460] loss=-0.3186 val_loss=0.0000 scale=0.0039 norm=0.0019\n",
      "[iter 465] loss=-0.3186 val_loss=0.0000 scale=0.0001 norm=0.0001\n",
      "[iter 470] loss=-0.3186 val_loss=0.0000 scale=0.0010 norm=0.0005\n",
      "[iter 475] loss=-0.3186 val_loss=0.0000 scale=0.0002 norm=0.0001\n",
      "[iter 480] loss=-0.3186 val_loss=0.0000 scale=0.0001 norm=0.0001\n",
      "[iter 485] loss=-0.3186 val_loss=0.0000 scale=0.0001 norm=0.0001\n",
      "[iter 490] loss=-0.3186 val_loss=0.0000 scale=0.0001 norm=0.0001\n",
      "[iter 495] loss=-0.3186 val_loss=0.0000 scale=0.0039 norm=0.0019\n",
      "\n",
      "Test MSE 0.045272945914746336\n",
      "Test NLL -0.19827535939679694\n"
     ]
    }
   ],
   "source": [
    "from ngboost.learners import esn_kernel_ridge_learner\n",
    "model_test(Base=esn_kernel_ridge_learner(n_readout=1000,\n",
    "                                         n_components=100,\n",
    "                                         alpha=1, \n",
    "                                         kernel=\"ploy\",\n",
    "                                         degree=3),\n",
    "           X_train=X_train, X_test=X_test,\n",
    "           Y_train=Y_train, Y_test=Y_test,\n",
    "          n_estimators=500, verbose_eval=5)"
   ]
  },
  {
   "cell_type": "markdown",
   "metadata": {},
   "source": [
    "## esn_linear_svr_learner"
   ]
  },
  {
   "cell_type": "code",
   "execution_count": 6,
   "metadata": {
    "ExecuteTime": {
     "end_time": "2020-02-03T14:05:01.542953Z",
     "start_time": "2020-02-03T13:51:06.163685Z"
    },
    "scrolled": true
   },
   "outputs": [
    {
     "name": "stdout",
     "output_type": "stream",
     "text": [
      "NGBRegressor(Base=<ngboost.esn_learners.ESN_linear_svr_learner object at 0x1a2304c6a0>,\n",
      "             Dist=<class 'ngboost.distns.normal.Normal'>,\n",
      "             Score=<class 'ngboost.scores.MLE'>, learning_rate=0.01,\n",
      "             minibatch_frac=1.0, n_estimators=500, natural_gradient=True,\n",
      "             tol=0.0001, verbose=True, verbose_eval=10) \n",
      "\n",
      "[iter 0] loss=0.0535 val_loss=0.0000 scale=0.5000 norm=0.2703\n",
      "[iter 10] loss=0.0371 val_loss=0.0000 scale=0.5000 norm=0.2744\n",
      "[iter 20] loss=0.0179 val_loss=0.0000 scale=0.5000 norm=0.2785\n",
      "[iter 30] loss=-0.0047 val_loss=0.0000 scale=0.5000 norm=0.2824\n",
      "[iter 40] loss=-0.0308 val_loss=0.0000 scale=0.5000 norm=0.2860\n",
      "[iter 50] loss=-0.0587 val_loss=0.0000 scale=0.5000 norm=0.2894\n",
      "[iter 60] loss=-0.0865 val_loss=0.0000 scale=0.2500 norm=0.1461\n",
      "[iter 70] loss=-0.1006 val_loss=0.0000 scale=0.2500 norm=0.1469\n",
      "[iter 80] loss=-0.1145 val_loss=0.0000 scale=0.2500 norm=0.1475\n",
      "[iter 90] loss=-0.1277 val_loss=0.0000 scale=0.2500 norm=0.1481\n",
      "[iter 100] loss=-0.1401 val_loss=0.0000 scale=0.2500 norm=0.1486\n",
      "[iter 110] loss=-0.1517 val_loss=0.0000 scale=0.2500 norm=0.1489\n",
      "[iter 120] loss=-0.1580 val_loss=0.0000 scale=0.1250 norm=0.0745\n",
      "[iter 130] loss=-0.1629 val_loss=0.0000 scale=0.1250 norm=0.0745\n",
      "[iter 140] loss=-0.1675 val_loss=0.0000 scale=0.1250 norm=0.0745\n",
      "[iter 150] loss=-0.1716 val_loss=0.0000 scale=0.1250 norm=0.0744\n",
      "[iter 160] loss=-0.1754 val_loss=0.0000 scale=0.1250 norm=0.0743\n",
      "[iter 170] loss=-0.1786 val_loss=0.0000 scale=0.0625 norm=0.0371\n",
      "[iter 180] loss=-0.1802 val_loss=0.0000 scale=0.0625 norm=0.0371\n",
      "[iter 190] loss=-0.1815 val_loss=0.0000 scale=0.0625 norm=0.0370\n",
      "[iter 200] loss=-0.1826 val_loss=0.0000 scale=0.0625 norm=0.0370\n",
      "[iter 210] loss=-0.1836 val_loss=0.0000 scale=0.0625 norm=0.0370\n",
      "[iter 220] loss=-0.1844 val_loss=0.0000 scale=0.0625 norm=0.0369\n",
      "[iter 230] loss=-0.1852 val_loss=0.0000 scale=0.0312 norm=0.0184\n",
      "[iter 240] loss=-0.1855 val_loss=0.0000 scale=0.0312 norm=0.0184\n",
      "[iter 250] loss=-0.1859 val_loss=0.0000 scale=0.0312 norm=0.0184\n",
      "[iter 260] loss=-0.1862 val_loss=0.0000 scale=0.0312 norm=0.0184\n",
      "[iter 270] loss=-0.1864 val_loss=0.0000 scale=0.0312 norm=0.0184\n",
      "[iter 280] loss=-0.1865 val_loss=0.0000 scale=0.0156 norm=0.0092\n",
      "[iter 290] loss=-0.1866 val_loss=0.0000 scale=0.0156 norm=0.0092\n",
      "[iter 300] loss=-0.1867 val_loss=0.0000 scale=0.0156 norm=0.0092\n",
      "[iter 310] loss=-0.1868 val_loss=0.0000 scale=0.0156 norm=0.0092\n",
      "[iter 320] loss=-0.1868 val_loss=0.0000 scale=0.0078 norm=0.0046\n",
      "[iter 330] loss=-0.1869 val_loss=0.0000 scale=0.0078 norm=0.0046\n",
      "[iter 340] loss=-0.1869 val_loss=0.0000 scale=0.0156 norm=0.0092\n",
      "[iter 350] loss=-0.1869 val_loss=0.0000 scale=0.0039 norm=0.0023\n",
      "[iter 360] loss=-0.1869 val_loss=0.0000 scale=0.0020 norm=0.0011\n",
      "[iter 370] loss=-0.1869 val_loss=0.0000 scale=0.0010 norm=0.0006\n",
      "[iter 380] loss=-0.1870 val_loss=0.0000 scale=0.0020 norm=0.0011\n",
      "[iter 390] loss=-0.1870 val_loss=0.0000 scale=0.0078 norm=0.0046\n",
      "[iter 400] loss=-0.1870 val_loss=0.0000 scale=0.0001 norm=0.0001\n",
      "[iter 410] loss=-0.1870 val_loss=0.0000 scale=0.0001 norm=0.0001\n",
      "[iter 420] loss=-0.1870 val_loss=0.0000 scale=0.0039 norm=0.0023\n",
      "[iter 430] loss=-0.1870 val_loss=0.0000 scale=0.0005 norm=0.0003\n",
      "[iter 440] loss=-0.1870 val_loss=0.0000 scale=0.0001 norm=0.0001\n",
      "[iter 450] loss=-0.1870 val_loss=0.0000 scale=0.0020 norm=0.0011\n",
      "[iter 460] loss=-0.1870 val_loss=0.0000 scale=0.0039 norm=0.0023\n",
      "[iter 470] loss=-0.1870 val_loss=0.0000 scale=0.0001 norm=0.0001\n",
      "[iter 480] loss=-0.1870 val_loss=0.0000 scale=0.0078 norm=0.0046\n",
      "[iter 490] loss=-0.1870 val_loss=0.0000 scale=0.0001 norm=0.0001\n",
      "\n",
      "Test MSE 0.029081274200027794\n",
      "Test NLL -0.3218924245970076\n"
     ]
    }
   ],
   "source": [
    "from ngboost.learners import esn_linear_svr_learner\n",
    "model_test(Base=esn_linear_svr_learner(n_readout=1000,\n",
    "                                         n_components=100,\n",
    "                                         epsilon=0.0,\n",
    "                                         C=0.03,\n",
    "                                         max_iter=1000),\n",
    "           X_train=X_train, X_test=X_test,\n",
    "           Y_train=Y_train, Y_test=Y_test,\n",
    "          n_estimators=500, verbose_eval=10)"
   ]
  },
  {
   "cell_type": "code",
   "execution_count": null,
   "metadata": {},
   "outputs": [],
   "source": []
  }
 ],
 "metadata": {
  "kernelspec": {
   "display_name": "Python 3",
   "language": "python",
   "name": "python3"
  },
  "language_info": {
   "codemirror_mode": {
    "name": "ipython",
    "version": 3
   },
   "file_extension": ".py",
   "mimetype": "text/x-python",
   "name": "python",
   "nbconvert_exporter": "python",
   "pygments_lexer": "ipython3",
   "version": "3.7.3"
  },
  "notify_time": "0",
  "toc": {
   "base_numbering": 1,
   "nav_menu": {},
   "number_sections": true,
   "sideBar": true,
   "skip_h1_title": false,
   "title_cell": "Table of Contents",
   "title_sidebar": "Contents",
   "toc_cell": false,
   "toc_position": {
    "height": "calc(100% - 180px)",
    "left": "10px",
    "top": "150px",
    "width": "222.60870361328125px"
   },
   "toc_section_display": true,
   "toc_window_display": true
  },
  "varInspector": {
   "cols": {
    "lenName": 16,
    "lenType": 16,
    "lenVar": 40
   },
   "kernels_config": {
    "python": {
     "delete_cmd_postfix": "",
     "delete_cmd_prefix": "del ",
     "library": "var_list.py",
     "varRefreshCmd": "print(var_dic_list())"
    },
    "r": {
     "delete_cmd_postfix": ") ",
     "delete_cmd_prefix": "rm(",
     "library": "var_list.r",
     "varRefreshCmd": "cat(var_dic_list()) "
    }
   },
   "types_to_exclude": [
    "module",
    "function",
    "builtin_function_or_method",
    "instance",
    "_Feature"
   ],
   "window_display": false
  }
 },
 "nbformat": 4,
 "nbformat_minor": 2
}
